{
  "nbformat": 4,
  "nbformat_minor": 0,
  "metadata": {
    "colab": {
      "provenance": [],
      "authorship_tag": "ABX9TyMkU28l1T1OuZwsKYBVfGbk",
      "include_colab_link": true
    },
    "kernelspec": {
      "name": "python3",
      "display_name": "Python 3"
    },
    "language_info": {
      "name": "python"
    }
  },
  "cells": [
    {
      "cell_type": "markdown",
      "metadata": {
        "id": "view-in-github",
        "colab_type": "text"
      },
      "source": [
        "<a href=\"https://colab.research.google.com/github/swarupyeole11/ML_Journey/blob/main/ML_Python_Practice.ipynb\" target=\"_parent\"><img src=\"https://colab.research.google.com/assets/colab-badge.svg\" alt=\"Open In Colab\"/></a>"
      ]
    },
    {
      "cell_type": "markdown",
      "source": [
        "#List Excercise"
      ],
      "metadata": {
        "id": "qUElwv2vAiaT"
      }
    },
    {
      "cell_type": "markdown",
      "source": [
        "Let us say your expense for every month are listed below,\n",
        "January - 2200\n",
        "February - 2350\n",
        "March - 2600\n",
        "April - 2130\n",
        "May - 2190\n",
        "Create a list to store these monthly expenses and using that find out,\n",
        "\n",
        "\n",
        "1. In Feb, how many dollars you spent extra compare to January?\n",
        "2. Find out your total expense in first quarter (first three months) of the year.\n",
        "3. Find out if you spent exactly 2000 dollars in any month\n",
        "4. June month just finished and your expense is 1980 dollar. Add this item to our monthly expense list\n",
        "5. You returned an item that you bought in a month of April and\n",
        "got a refund of 200$. Make a correction to your monthly expense list\n",
        "based on this"
      ],
      "metadata": {
        "id": "EkrPKNhzJ8RB"
      }
    },
    {
      "cell_type": "code",
      "execution_count": 7,
      "metadata": {
        "colab": {
          "base_uri": "https://localhost:8080/"
        },
        "id": "fk2pUxBhAGz3",
        "outputId": "5755ef19-67c7-479e-8786-23fb2ed59dc6"
      },
      "outputs": [
        {
          "output_type": "stream",
          "name": "stdout",
          "text": [
            "Extra dollars in Feb :  150 \n",
            "\n",
            "Total Expenses in 3 months   7150 \n",
            "\n",
            "2000 does not exist \n",
            "\n",
            "x :  2200\n",
            "x :  2350\n",
            "x :  2600\n",
            "x :  2130\n",
            "x :  2190\n",
            "x :  1980\n",
            "updated x :  2200\n",
            "updated x :  2350\n",
            "updated x :  2600\n",
            "updated x :  2330\n",
            "updated x :  2190\n",
            "updated x :  1980\n"
          ]
        }
      ],
      "source": [
        "expenses = [2200,2350,2600,2130,2190]\n",
        "\n",
        "#1\n",
        "print(\"Extra dollars in Feb : \",expenses[1]-expenses[0],\"\\n\")\n",
        "#2\n",
        "print(\"Total Expenses in 3 months  \",expenses[0]+expenses[1]+expenses[2],\"\\n\")\n",
        "#3\n",
        "if 2000 in expenses:\n",
        "     print(\"2000 exist \\n\")\n",
        "else:\n",
        "    print(\"2000 does not exist \\n\")\n",
        "#4\n",
        "expenses.append(1980)\n",
        "for x in expenses:\n",
        "   print(\"x : \", x)\n",
        "#5\n",
        "expenses[3]+=200\n",
        "for x in expenses:\n",
        "   print(\"updated x : \", x)"
      ]
    },
    {
      "cell_type": "markdown",
      "source": [
        "heros=['spider man','thor','hulk','iron man','captain america']\n",
        "\n",
        "1. Length of the list\n",
        "2. Add 'black panther' at the end of this list\n",
        "3. You realize that you need to add 'black panther' after 'hulk',\n",
        "   so remove it from the list first and then add it after 'hulk'\n",
        "4. Now you don't like thor and hulk because they get angry easily :)\n",
        "   So you want to remove thor and hulk from list and replace them with doctor strange (because he is cool).\n",
        "   Do that with one line of code.\n",
        "5. Sort the heros list in alphabetical order (Hint. Use dir() functions to list down all functions available in list)"
      ],
      "metadata": {
        "id": "_5hCdXrOJ70n"
      }
    },
    {
      "cell_type": "code",
      "source": [
        "heros=['spider man','thor','hulk','iron man','captain america']\n",
        "#1\n",
        "print(len(heros))\n",
        "#2\n",
        "heros.append('black panther')\n",
        "#3\n",
        "heros.remove('black panther')\n",
        "\n",
        "\n",
        "#4\n",
        "heros_to_remove = ['thor','hulk']\n",
        "\n",
        "#/************************************************\n",
        "## 1 way to delete elements\n",
        "# for i in heros_to_remove:\n",
        "#     del heros[heros.index(i)]\n",
        "#*************************************************/\n",
        "\n",
        "##2 other way to delte elements in python\n",
        "[print(x) for x in heros]\n",
        "print(\"\\n\")\n",
        "#now printing after deleting\n",
        "heros = [ x for x in heros if x not in heros_to_remove]\n",
        "[print(y) for y in heros]\n",
        "print('\\n')\n",
        "#now adding the \n",
        " "
      ],
      "metadata": {
        "colab": {
          "base_uri": "https://localhost:8080/"
        },
        "id": "8t4XwqamNB1m",
        "outputId": "3017916e-ef1e-49e0-e6bf-d4301bcdf7a3"
      },
      "execution_count": 30,
      "outputs": [
        {
          "output_type": "stream",
          "name": "stdout",
          "text": [
            "5\n",
            "spider man\n",
            "thor\n",
            "hulk\n",
            "iron man\n",
            "captain america\n",
            "\n",
            "\n",
            "spider man\n",
            "iron man\n",
            "captain america\n",
            "\n",
            "\n"
          ]
        }
      ]
    },
    {
      "cell_type": "code",
      "source": [
        "heros=['spider man','thor','hulk','iron man','captain america']\n",
        "heros.append('black panther')\n",
        "#you can directly ouptut list dictionaries and other complex datasttructiores in python\n",
        "print(heros)\n",
        "heros.pop()\n",
        "print(heros)\n",
        "heros.insert(3,'black panther')\n",
        "print(heros)\n",
        "\n",
        "# the index will heat go from 2 to 3\n",
        "# replacing the vaues with specific values\n",
        "#this is like you are removinf values in that range and appeding a new list inside it at that place\n",
        "print(heros[1:3])\n",
        "#ninnja technique to remove specific range of elements\n",
        "heros[1:3] = []\n",
        "heros.insert(2,'dr stange')\n",
        "print(heros)"
      ],
      "metadata": {
        "colab": {
          "base_uri": "https://localhost:8080/"
        },
        "id": "lm6v226RQhjA",
        "outputId": "d94d7c80-cd40-4d2f-d633-1c046512983c"
      },
      "execution_count": 24,
      "outputs": [
        {
          "output_type": "stream",
          "name": "stdout",
          "text": [
            "['spider man', 'thor', 'hulk', 'iron man', 'captain america', 'black panther']\n",
            "['spider man', 'thor', 'hulk', 'iron man', 'captain america']\n",
            "['spider man', 'thor', 'hulk', 'black panther', 'iron man', 'captain america']\n",
            "['thor', 'hulk']\n",
            "['spider man', 'black panther', 'dr stange', 'iron man', 'captain america']\n"
          ]
        }
      ]
    },
    {
      "cell_type": "code",
      "source": [],
      "metadata": {
        "id": "ynEtmTvU9keM"
      },
      "execution_count": null,
      "outputs": []
    }
  ]
}