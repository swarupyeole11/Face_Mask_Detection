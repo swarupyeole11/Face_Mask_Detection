{
  "metadata": {
    "kernelspec": {
      "language": "python",
      "display_name": "Python 3",
      "name": "python3"
    },
    "language_info": {
      "name": "python",
      "version": "3.7.12",
      "mimetype": "text/x-python",
      "codemirror_mode": {
        "name": "ipython",
        "version": 3
      },
      "pygments_lexer": "ipython3",
      "nbconvert_exporter": "python",
      "file_extension": ".py"
    },
    "kaggle": {
      "accelerator": "none",
      "dataSources": [
        {
          "sourceId": 3669050,
          "sourceType": "datasetVersion",
          "datasetId": 1910869
        }
      ],
      "dockerImageVersionId": 30157,
      "isInternetEnabled": false,
      "language": "python",
      "sourceType": "notebook",
      "isGpuEnabled": false
    },
    "colab": {
      "name": "Covid-19 prediction using ML Models",
      "provenance": [],
      "include_colab_link": true
    }
  },
  "nbformat_minor": 0,
  "nbformat": 4,
  "cells": [
    {
      "cell_type": "markdown",
      "metadata": {
        "id": "view-in-github",
        "colab_type": "text"
      },
      "source": [
        "<a href=\"https://colab.research.google.com/github/swarupyeole11/ML_Journey/blob/main/Covid_19_prediction_using_ML_Models.ipynb\" target=\"_parent\"><img src=\"https://colab.research.google.com/assets/colab-badge.svg\" alt=\"Open In Colab\"/></a>"
      ]
    },
    {
      "source": [
        "\n",
        "# IMPORTANT: RUN THIS CELL IN ORDER TO IMPORT YOUR KAGGLE DATA SOURCES\n",
        "# TO THE CORRECT LOCATION (/kaggle/input) IN YOUR NOTEBOOK,\n",
        "# THEN FEEL FREE TO DELETE THIS CELL.\n",
        "# NOTE: THIS NOTEBOOK ENVIRONMENT DIFFERS FROM KAGGLE'S PYTHON\n",
        "# ENVIRONMENT SO THERE MAY BE MISSING LIBRARIES USED BY YOUR\n",
        "# NOTEBOOK.\n",
        "\n",
        "import os\n",
        "import sys\n",
        "from tempfile import NamedTemporaryFile\n",
        "from urllib.request import urlopen\n",
        "from urllib.parse import unquote, urlparse\n",
        "from urllib.error import HTTPError\n",
        "from zipfile import ZipFile\n",
        "import tarfile\n",
        "import shutil\n",
        "\n",
        "CHUNK_SIZE = 40960\n",
        "DATA_SOURCE_MAPPING = 'covidowid:https%3A%2F%2Fstorage.googleapis.com%2Fkaggle-data-sets%2F1910869%2F3669050%2Fbundle%2Farchive.zip%3FX-Goog-Algorithm%3DGOOG4-RSA-SHA256%26X-Goog-Credential%3Dgcp-kaggle-com%2540kaggle-161607.iam.gserviceaccount.com%252F20240905%252Fauto%252Fstorage%252Fgoog4_request%26X-Goog-Date%3D20240905T020151Z%26X-Goog-Expires%3D259200%26X-Goog-SignedHeaders%3Dhost%26X-Goog-Signature%3Db231e4e5d90f5305d3babd6ff3dc28c9282ad4788717ec50d0b2c7914c7aa7a5ad12ba84ed69494931451ff2f0db91bb70a771fbe3bb1701660afa7b032f198fb6ff2cd2c40b92da9e5b6b9f24fb7741f7224bd97c8c57c719f8990d0fb9c1e95f8c84c274e351370f45419822c2eb0f7c809d858066279f0eb946842b9d014f8172ee76dcc7d2c596e1342a5853197d49a5e51c05e8a66f49e5615b023d3e2d8f86e4efcd2f48e6be76a854406852fceb17f7f462e5cda7d592a86a6ed66a931e30b2b3c740f1897c59e261cb7eb2b766ae942d7c796cb842ed6b00b338757e1a41f7d19a3c70b28a40c38e9888314871496d28888c1ad05673e87fad67d726'\n",
        "\n",
        "KAGGLE_INPUT_PATH='/kaggle/input'\n",
        "KAGGLE_WORKING_PATH='/kaggle/working'\n",
        "KAGGLE_SYMLINK='kaggle'\n",
        "\n",
        "!umount /kaggle/input/ 2> /dev/null\n",
        "shutil.rmtree('/kaggle/input', ignore_errors=True)\n",
        "os.makedirs(KAGGLE_INPUT_PATH, 0o777, exist_ok=True)\n",
        "os.makedirs(KAGGLE_WORKING_PATH, 0o777, exist_ok=True)\n",
        "\n",
        "try:\n",
        "  os.symlink(KAGGLE_INPUT_PATH, os.path.join(\"..\", 'input'), target_is_directory=True)\n",
        "except FileExistsError:\n",
        "  pass\n",
        "try:\n",
        "  os.symlink(KAGGLE_WORKING_PATH, os.path.join(\"..\", 'working'), target_is_directory=True)\n",
        "except FileExistsError:\n",
        "  pass\n",
        "\n",
        "for data_source_mapping in DATA_SOURCE_MAPPING.split(','):\n",
        "    directory, download_url_encoded = data_source_mapping.split(':')\n",
        "    download_url = unquote(download_url_encoded)\n",
        "    filename = urlparse(download_url).path\n",
        "    destination_path = os.path.join(KAGGLE_INPUT_PATH, directory)\n",
        "    try:\n",
        "        with urlopen(download_url) as fileres, NamedTemporaryFile() as tfile:\n",
        "            total_length = fileres.headers['content-length']\n",
        "            print(f'Downloading {directory}, {total_length} bytes compressed')\n",
        "            dl = 0\n",
        "            data = fileres.read(CHUNK_SIZE)\n",
        "            while len(data) > 0:\n",
        "                dl += len(data)\n",
        "                tfile.write(data)\n",
        "                done = int(50 * dl / int(total_length))\n",
        "                sys.stdout.write(f\"\\r[{'=' * done}{' ' * (50-done)}] {dl} bytes downloaded\")\n",
        "                sys.stdout.flush()\n",
        "                data = fileres.read(CHUNK_SIZE)\n",
        "            if filename.endswith('.zip'):\n",
        "              with ZipFile(tfile) as zfile:\n",
        "                zfile.extractall(destination_path)\n",
        "            else:\n",
        "              with tarfile.open(tfile.name) as tarfile:\n",
        "                tarfile.extractall(destination_path)\n",
        "            print(f'\\nDownloaded and uncompressed: {directory}')\n",
        "    except HTTPError as e:\n",
        "        print(f'Failed to load (likely expired) {download_url} to path {destination_path}')\n",
        "        continue\n",
        "    except OSError as e:\n",
        "        print(f'Failed to load {download_url} to path {destination_path}')\n",
        "        continue\n",
        "\n",
        "print('Data source import complete.')\n"
      ],
      "metadata": {
        "id": "OKvrUYDk6rbq",
        "outputId": "57a847a7-d5af-47e0-dcaf-4ae34be337d7",
        "colab": {
          "base_uri": "https://localhost:8080/"
        }
      },
      "cell_type": "code",
      "outputs": [
        {
          "output_type": "stream",
          "name": "stdout",
          "text": [
            "Downloading covidowid, 10578551 bytes compressed\n",
            "[==================================================] 10578551 bytes downloaded\n",
            "Downloaded and uncompressed: covidowid\n",
            "Data source import complete.\n"
          ]
        }
      ],
      "execution_count": 1
    },
    {
      "cell_type": "markdown",
      "source": [
        "## **Covid-19 prediction using Neural Network**\n"
      ],
      "metadata": {
        "id": "-suDX06ljokk"
      }
    },
    {
      "cell_type": "markdown",
      "source": [
        "## Abstract\n"
      ],
      "metadata": {
        "id": "mAjC5-lejoko"
      }
    },
    {
      "cell_type": "markdown",
      "source": [
        "This notebook is devoted to predicting the COVID-19 spread dynamics in the world using neural networks of different structures. We will see how to make predictions based on linear regression, back propagation  and long short-term memory neural networks\n"
      ],
      "metadata": {
        "id": "KMkVjv_Djokp"
      }
    },
    {
      "cell_type": "markdown",
      "source": [
        "## Introduction\n"
      ],
      "metadata": {
        "id": "D7KovMRhjokq"
      }
    },
    {
      "cell_type": "markdown",
      "source": [
        "Today there is a lot of open data about the spread of COVID-19 in the world. However, few tools are presented to predict  these processes.\n",
        "\n",
        "3 different mathematical models for the forecast calculation will taken.\n",
        "\n",
        "To do this, the division of the DataSet into training and test sets will be demonstrated, normalize data and make preliminary analysis.\n",
        "\n",
        "It will be shown how to build models and DataSets for using 2 different neural networks.\n",
        "\n",
        "The next step is to compare the accuracy and adequacy of the obtained models.\n"
      ],
      "metadata": {
        "id": "Ck5QBtWtjokr"
      }
    },
    {
      "cell_type": "markdown",
      "source": [
        "## Steps or Stages\n"
      ],
      "metadata": {
        "id": "ZtyRMAbsjokt"
      }
    },
    {
      "cell_type": "markdown",
      "source": [
        "It consists of four stages:\n",
        "\n",
        "*   Download and preliminary analysis of data\n",
        "*   Linear Regression\n",
        "*   Back Propagation NN\n",
        "*   Long Short-Term Memory - LSTM\n",
        "\n"
      ],
      "metadata": {
        "id": "Sy4ehDlWjokv"
      }
    },
    {
      "cell_type": "markdown",
      "source": [
        "In first stage we pre-prepare data for analysis:\n",
        "\n",
        "*   change the data types of columns\n",
        "*   rows filtering\n",
        "*   elimination of missing data\n",
        "*   DataSet transformation\n",
        "*   data normalization\n",
        "\n",
        "During the next steps, we will demonstrate 3 different models .\n"
      ],
      "metadata": {
        "id": "uOU18Adi6rbx"
      }
    },
    {
      "cell_type": "markdown",
      "source": [
        "## Prerequisites\n",
        "\n",
        "*   Python\n",
        "*   Pandas\n",
        "*   Statistics\n",
        "*   NumPy\n",
        "*   Matplotlib\n",
        "*   Keras\n",
        "*   Scikit-Learn\n"
      ],
      "metadata": {
        "id": "sVcOsbf9jokz"
      }
    },
    {
      "cell_type": "markdown",
      "source": [
        "## Objectives\n"
      ],
      "metadata": {
        "id": "p6vZQyCYjok0"
      }
    },
    {
      "cell_type": "markdown",
      "source": [
        "## Required libraries Importing\n"
      ],
      "metadata": {
        "id": "_MGHCRMGjok5"
      }
    },
    {
      "cell_type": "markdown",
      "source": [
        "Some libraries should be imported .\n"
      ],
      "metadata": {
        "id": "0EZW0Xaljok-"
      }
    },
    {
      "cell_type": "code",
      "source": [
        "import pandas as pd\n",
        "import numpy as np\n"
      ],
      "metadata": {
        "id": "bQjQjPofjok_",
        "execution": {
          "iopub.status.busy": "2024-09-05T01:56:41.576273Z",
          "iopub.execute_input": "2024-09-05T01:56:41.576618Z",
          "iopub.status.idle": "2024-09-05T01:56:41.581597Z",
          "shell.execute_reply.started": "2024-09-05T01:56:41.576581Z",
          "shell.execute_reply": "2024-09-05T01:56:41.580388Z"
        },
        "trusted": true
      },
      "execution_count": 2,
      "outputs": []
    },
    {
      "cell_type": "code",
      "source": [
        "covid_word = pd.read_csv('../input/covidowid/owid-covid-data.csv')\n",
        "covid_word"
      ],
      "metadata": {
        "execution": {
          "iopub.status.busy": "2024-09-05T01:56:48.953527Z",
          "iopub.execute_input": "2024-09-05T01:56:48.95495Z",
          "iopub.status.idle": "2024-09-05T01:56:50.592473Z",
          "shell.execute_reply.started": "2024-09-05T01:56:48.954895Z",
          "shell.execute_reply": "2024-09-05T01:56:50.591396Z"
        },
        "trusted": true,
        "id": "9JrgwkrH6rby",
        "outputId": "310972ad-e8de-403f-fd27-f5e5dfcbacd0",
        "colab": {
          "base_uri": "https://localhost:8080/",
          "height": 617
        }
      },
      "execution_count": 3,
      "outputs": [
        {
          "output_type": "execute_result",
          "data": {
            "text/plain": [
              "       iso_code continent     location        date  total_cases  new_cases  \\\n",
              "0           AFG      Asia  Afghanistan  2020-02-24          5.0        5.0   \n",
              "1           AFG      Asia  Afghanistan  2020-02-25          5.0        0.0   \n",
              "2           AFG      Asia  Afghanistan  2020-02-26          5.0        0.0   \n",
              "3           AFG      Asia  Afghanistan  2020-02-27          5.0        0.0   \n",
              "4           AFG      Asia  Afghanistan  2020-02-28          5.0        0.0   \n",
              "...         ...       ...          ...         ...          ...        ...   \n",
              "187796      ZWE    Africa     Zimbabwe  2022-05-15     249206.0        0.0   \n",
              "187797      ZWE    Africa     Zimbabwe  2022-05-16     249431.0      225.0   \n",
              "187798      ZWE    Africa     Zimbabwe  2022-05-17     249748.0      317.0   \n",
              "187799      ZWE    Africa     Zimbabwe  2022-05-18     250007.0      259.0   \n",
              "187800      ZWE    Africa     Zimbabwe  2022-05-19     250206.0      199.0   \n",
              "\n",
              "        new_cases_smoothed  total_deaths  new_deaths  new_deaths_smoothed  \\\n",
              "0                      NaN           NaN         NaN                  NaN   \n",
              "1                      NaN           NaN         NaN                  NaN   \n",
              "2                      NaN           NaN         NaN                  NaN   \n",
              "3                      NaN           NaN         NaN                  NaN   \n",
              "4                      NaN           NaN         NaN                  NaN   \n",
              "...                    ...           ...         ...                  ...   \n",
              "187796             122.000        5482.0         0.0                0.857   \n",
              "187797             127.857        5484.0         2.0                0.714   \n",
              "187798             158.000        5484.0         0.0                0.429   \n",
              "187799             195.000        5486.0         2.0                0.714   \n",
              "187800             180.429        5487.0         1.0                0.857   \n",
              "\n",
              "        ...  female_smokers  male_smokers  handwashing_facilities  \\\n",
              "0       ...             NaN           NaN                  37.746   \n",
              "1       ...             NaN           NaN                  37.746   \n",
              "2       ...             NaN           NaN                  37.746   \n",
              "3       ...             NaN           NaN                  37.746   \n",
              "4       ...             NaN           NaN                  37.746   \n",
              "...     ...             ...           ...                     ...   \n",
              "187796  ...             1.6          30.7                  36.791   \n",
              "187797  ...             1.6          30.7                  36.791   \n",
              "187798  ...             1.6          30.7                  36.791   \n",
              "187799  ...             1.6          30.7                  36.791   \n",
              "187800  ...             1.6          30.7                  36.791   \n",
              "\n",
              "        hospital_beds_per_thousand  life_expectancy  human_development_index  \\\n",
              "0                              0.5            64.83                    0.511   \n",
              "1                              0.5            64.83                    0.511   \n",
              "2                              0.5            64.83                    0.511   \n",
              "3                              0.5            64.83                    0.511   \n",
              "4                              0.5            64.83                    0.511   \n",
              "...                            ...              ...                      ...   \n",
              "187796                         1.7            61.49                    0.571   \n",
              "187797                         1.7            61.49                    0.571   \n",
              "187798                         1.7            61.49                    0.571   \n",
              "187799                         1.7            61.49                    0.571   \n",
              "187800                         1.7            61.49                    0.571   \n",
              "\n",
              "        excess_mortality_cumulative_absolute  excess_mortality_cumulative  \\\n",
              "0                                        NaN                          NaN   \n",
              "1                                        NaN                          NaN   \n",
              "2                                        NaN                          NaN   \n",
              "3                                        NaN                          NaN   \n",
              "4                                        NaN                          NaN   \n",
              "...                                      ...                          ...   \n",
              "187796                                   NaN                          NaN   \n",
              "187797                                   NaN                          NaN   \n",
              "187798                                   NaN                          NaN   \n",
              "187799                                   NaN                          NaN   \n",
              "187800                                   NaN                          NaN   \n",
              "\n",
              "        excess_mortality  excess_mortality_cumulative_per_million  \n",
              "0                    NaN                                      NaN  \n",
              "1                    NaN                                      NaN  \n",
              "2                    NaN                                      NaN  \n",
              "3                    NaN                                      NaN  \n",
              "4                    NaN                                      NaN  \n",
              "...                  ...                                      ...  \n",
              "187796               NaN                                      NaN  \n",
              "187797               NaN                                      NaN  \n",
              "187798               NaN                                      NaN  \n",
              "187799               NaN                                      NaN  \n",
              "187800               NaN                                      NaN  \n",
              "\n",
              "[187801 rows x 67 columns]"
            ],
            "text/html": [
              "\n",
              "  <div id=\"df-cc2894f1-883c-42f5-87d7-10ff385ad9ea\" class=\"colab-df-container\">\n",
              "    <div>\n",
              "<style scoped>\n",
              "    .dataframe tbody tr th:only-of-type {\n",
              "        vertical-align: middle;\n",
              "    }\n",
              "\n",
              "    .dataframe tbody tr th {\n",
              "        vertical-align: top;\n",
              "    }\n",
              "\n",
              "    .dataframe thead th {\n",
              "        text-align: right;\n",
              "    }\n",
              "</style>\n",
              "<table border=\"1\" class=\"dataframe\">\n",
              "  <thead>\n",
              "    <tr style=\"text-align: right;\">\n",
              "      <th></th>\n",
              "      <th>iso_code</th>\n",
              "      <th>continent</th>\n",
              "      <th>location</th>\n",
              "      <th>date</th>\n",
              "      <th>total_cases</th>\n",
              "      <th>new_cases</th>\n",
              "      <th>new_cases_smoothed</th>\n",
              "      <th>total_deaths</th>\n",
              "      <th>new_deaths</th>\n",
              "      <th>new_deaths_smoothed</th>\n",
              "      <th>...</th>\n",
              "      <th>female_smokers</th>\n",
              "      <th>male_smokers</th>\n",
              "      <th>handwashing_facilities</th>\n",
              "      <th>hospital_beds_per_thousand</th>\n",
              "      <th>life_expectancy</th>\n",
              "      <th>human_development_index</th>\n",
              "      <th>excess_mortality_cumulative_absolute</th>\n",
              "      <th>excess_mortality_cumulative</th>\n",
              "      <th>excess_mortality</th>\n",
              "      <th>excess_mortality_cumulative_per_million</th>\n",
              "    </tr>\n",
              "  </thead>\n",
              "  <tbody>\n",
              "    <tr>\n",
              "      <th>0</th>\n",
              "      <td>AFG</td>\n",
              "      <td>Asia</td>\n",
              "      <td>Afghanistan</td>\n",
              "      <td>2020-02-24</td>\n",
              "      <td>5.0</td>\n",
              "      <td>5.0</td>\n",
              "      <td>NaN</td>\n",
              "      <td>NaN</td>\n",
              "      <td>NaN</td>\n",
              "      <td>NaN</td>\n",
              "      <td>...</td>\n",
              "      <td>NaN</td>\n",
              "      <td>NaN</td>\n",
              "      <td>37.746</td>\n",
              "      <td>0.5</td>\n",
              "      <td>64.83</td>\n",
              "      <td>0.511</td>\n",
              "      <td>NaN</td>\n",
              "      <td>NaN</td>\n",
              "      <td>NaN</td>\n",
              "      <td>NaN</td>\n",
              "    </tr>\n",
              "    <tr>\n",
              "      <th>1</th>\n",
              "      <td>AFG</td>\n",
              "      <td>Asia</td>\n",
              "      <td>Afghanistan</td>\n",
              "      <td>2020-02-25</td>\n",
              "      <td>5.0</td>\n",
              "      <td>0.0</td>\n",
              "      <td>NaN</td>\n",
              "      <td>NaN</td>\n",
              "      <td>NaN</td>\n",
              "      <td>NaN</td>\n",
              "      <td>...</td>\n",
              "      <td>NaN</td>\n",
              "      <td>NaN</td>\n",
              "      <td>37.746</td>\n",
              "      <td>0.5</td>\n",
              "      <td>64.83</td>\n",
              "      <td>0.511</td>\n",
              "      <td>NaN</td>\n",
              "      <td>NaN</td>\n",
              "      <td>NaN</td>\n",
              "      <td>NaN</td>\n",
              "    </tr>\n",
              "    <tr>\n",
              "      <th>2</th>\n",
              "      <td>AFG</td>\n",
              "      <td>Asia</td>\n",
              "      <td>Afghanistan</td>\n",
              "      <td>2020-02-26</td>\n",
              "      <td>5.0</td>\n",
              "      <td>0.0</td>\n",
              "      <td>NaN</td>\n",
              "      <td>NaN</td>\n",
              "      <td>NaN</td>\n",
              "      <td>NaN</td>\n",
              "      <td>...</td>\n",
              "      <td>NaN</td>\n",
              "      <td>NaN</td>\n",
              "      <td>37.746</td>\n",
              "      <td>0.5</td>\n",
              "      <td>64.83</td>\n",
              "      <td>0.511</td>\n",
              "      <td>NaN</td>\n",
              "      <td>NaN</td>\n",
              "      <td>NaN</td>\n",
              "      <td>NaN</td>\n",
              "    </tr>\n",
              "    <tr>\n",
              "      <th>3</th>\n",
              "      <td>AFG</td>\n",
              "      <td>Asia</td>\n",
              "      <td>Afghanistan</td>\n",
              "      <td>2020-02-27</td>\n",
              "      <td>5.0</td>\n",
              "      <td>0.0</td>\n",
              "      <td>NaN</td>\n",
              "      <td>NaN</td>\n",
              "      <td>NaN</td>\n",
              "      <td>NaN</td>\n",
              "      <td>...</td>\n",
              "      <td>NaN</td>\n",
              "      <td>NaN</td>\n",
              "      <td>37.746</td>\n",
              "      <td>0.5</td>\n",
              "      <td>64.83</td>\n",
              "      <td>0.511</td>\n",
              "      <td>NaN</td>\n",
              "      <td>NaN</td>\n",
              "      <td>NaN</td>\n",
              "      <td>NaN</td>\n",
              "    </tr>\n",
              "    <tr>\n",
              "      <th>4</th>\n",
              "      <td>AFG</td>\n",
              "      <td>Asia</td>\n",
              "      <td>Afghanistan</td>\n",
              "      <td>2020-02-28</td>\n",
              "      <td>5.0</td>\n",
              "      <td>0.0</td>\n",
              "      <td>NaN</td>\n",
              "      <td>NaN</td>\n",
              "      <td>NaN</td>\n",
              "      <td>NaN</td>\n",
              "      <td>...</td>\n",
              "      <td>NaN</td>\n",
              "      <td>NaN</td>\n",
              "      <td>37.746</td>\n",
              "      <td>0.5</td>\n",
              "      <td>64.83</td>\n",
              "      <td>0.511</td>\n",
              "      <td>NaN</td>\n",
              "      <td>NaN</td>\n",
              "      <td>NaN</td>\n",
              "      <td>NaN</td>\n",
              "    </tr>\n",
              "    <tr>\n",
              "      <th>...</th>\n",
              "      <td>...</td>\n",
              "      <td>...</td>\n",
              "      <td>...</td>\n",
              "      <td>...</td>\n",
              "      <td>...</td>\n",
              "      <td>...</td>\n",
              "      <td>...</td>\n",
              "      <td>...</td>\n",
              "      <td>...</td>\n",
              "      <td>...</td>\n",
              "      <td>...</td>\n",
              "      <td>...</td>\n",
              "      <td>...</td>\n",
              "      <td>...</td>\n",
              "      <td>...</td>\n",
              "      <td>...</td>\n",
              "      <td>...</td>\n",
              "      <td>...</td>\n",
              "      <td>...</td>\n",
              "      <td>...</td>\n",
              "      <td>...</td>\n",
              "    </tr>\n",
              "    <tr>\n",
              "      <th>187796</th>\n",
              "      <td>ZWE</td>\n",
              "      <td>Africa</td>\n",
              "      <td>Zimbabwe</td>\n",
              "      <td>2022-05-15</td>\n",
              "      <td>249206.0</td>\n",
              "      <td>0.0</td>\n",
              "      <td>122.000</td>\n",
              "      <td>5482.0</td>\n",
              "      <td>0.0</td>\n",
              "      <td>0.857</td>\n",
              "      <td>...</td>\n",
              "      <td>1.6</td>\n",
              "      <td>30.7</td>\n",
              "      <td>36.791</td>\n",
              "      <td>1.7</td>\n",
              "      <td>61.49</td>\n",
              "      <td>0.571</td>\n",
              "      <td>NaN</td>\n",
              "      <td>NaN</td>\n",
              "      <td>NaN</td>\n",
              "      <td>NaN</td>\n",
              "    </tr>\n",
              "    <tr>\n",
              "      <th>187797</th>\n",
              "      <td>ZWE</td>\n",
              "      <td>Africa</td>\n",
              "      <td>Zimbabwe</td>\n",
              "      <td>2022-05-16</td>\n",
              "      <td>249431.0</td>\n",
              "      <td>225.0</td>\n",
              "      <td>127.857</td>\n",
              "      <td>5484.0</td>\n",
              "      <td>2.0</td>\n",
              "      <td>0.714</td>\n",
              "      <td>...</td>\n",
              "      <td>1.6</td>\n",
              "      <td>30.7</td>\n",
              "      <td>36.791</td>\n",
              "      <td>1.7</td>\n",
              "      <td>61.49</td>\n",
              "      <td>0.571</td>\n",
              "      <td>NaN</td>\n",
              "      <td>NaN</td>\n",
              "      <td>NaN</td>\n",
              "      <td>NaN</td>\n",
              "    </tr>\n",
              "    <tr>\n",
              "      <th>187798</th>\n",
              "      <td>ZWE</td>\n",
              "      <td>Africa</td>\n",
              "      <td>Zimbabwe</td>\n",
              "      <td>2022-05-17</td>\n",
              "      <td>249748.0</td>\n",
              "      <td>317.0</td>\n",
              "      <td>158.000</td>\n",
              "      <td>5484.0</td>\n",
              "      <td>0.0</td>\n",
              "      <td>0.429</td>\n",
              "      <td>...</td>\n",
              "      <td>1.6</td>\n",
              "      <td>30.7</td>\n",
              "      <td>36.791</td>\n",
              "      <td>1.7</td>\n",
              "      <td>61.49</td>\n",
              "      <td>0.571</td>\n",
              "      <td>NaN</td>\n",
              "      <td>NaN</td>\n",
              "      <td>NaN</td>\n",
              "      <td>NaN</td>\n",
              "    </tr>\n",
              "    <tr>\n",
              "      <th>187799</th>\n",
              "      <td>ZWE</td>\n",
              "      <td>Africa</td>\n",
              "      <td>Zimbabwe</td>\n",
              "      <td>2022-05-18</td>\n",
              "      <td>250007.0</td>\n",
              "      <td>259.0</td>\n",
              "      <td>195.000</td>\n",
              "      <td>5486.0</td>\n",
              "      <td>2.0</td>\n",
              "      <td>0.714</td>\n",
              "      <td>...</td>\n",
              "      <td>1.6</td>\n",
              "      <td>30.7</td>\n",
              "      <td>36.791</td>\n",
              "      <td>1.7</td>\n",
              "      <td>61.49</td>\n",
              "      <td>0.571</td>\n",
              "      <td>NaN</td>\n",
              "      <td>NaN</td>\n",
              "      <td>NaN</td>\n",
              "      <td>NaN</td>\n",
              "    </tr>\n",
              "    <tr>\n",
              "      <th>187800</th>\n",
              "      <td>ZWE</td>\n",
              "      <td>Africa</td>\n",
              "      <td>Zimbabwe</td>\n",
              "      <td>2022-05-19</td>\n",
              "      <td>250206.0</td>\n",
              "      <td>199.0</td>\n",
              "      <td>180.429</td>\n",
              "      <td>5487.0</td>\n",
              "      <td>1.0</td>\n",
              "      <td>0.857</td>\n",
              "      <td>...</td>\n",
              "      <td>1.6</td>\n",
              "      <td>30.7</td>\n",
              "      <td>36.791</td>\n",
              "      <td>1.7</td>\n",
              "      <td>61.49</td>\n",
              "      <td>0.571</td>\n",
              "      <td>NaN</td>\n",
              "      <td>NaN</td>\n",
              "      <td>NaN</td>\n",
              "      <td>NaN</td>\n",
              "    </tr>\n",
              "  </tbody>\n",
              "</table>\n",
              "<p>187801 rows × 67 columns</p>\n",
              "</div>\n",
              "    <div class=\"colab-df-buttons\">\n",
              "\n",
              "  <div class=\"colab-df-container\">\n",
              "    <button class=\"colab-df-convert\" onclick=\"convertToInteractive('df-cc2894f1-883c-42f5-87d7-10ff385ad9ea')\"\n",
              "            title=\"Convert this dataframe to an interactive table.\"\n",
              "            style=\"display:none;\">\n",
              "\n",
              "  <svg xmlns=\"http://www.w3.org/2000/svg\" height=\"24px\" viewBox=\"0 -960 960 960\">\n",
              "    <path d=\"M120-120v-720h720v720H120Zm60-500h600v-160H180v160Zm220 220h160v-160H400v160Zm0 220h160v-160H400v160ZM180-400h160v-160H180v160Zm440 0h160v-160H620v160ZM180-180h160v-160H180v160Zm440 0h160v-160H620v160Z\"/>\n",
              "  </svg>\n",
              "    </button>\n",
              "\n",
              "  <style>\n",
              "    .colab-df-container {\n",
              "      display:flex;\n",
              "      gap: 12px;\n",
              "    }\n",
              "\n",
              "    .colab-df-convert {\n",
              "      background-color: #E8F0FE;\n",
              "      border: none;\n",
              "      border-radius: 50%;\n",
              "      cursor: pointer;\n",
              "      display: none;\n",
              "      fill: #1967D2;\n",
              "      height: 32px;\n",
              "      padding: 0 0 0 0;\n",
              "      width: 32px;\n",
              "    }\n",
              "\n",
              "    .colab-df-convert:hover {\n",
              "      background-color: #E2EBFA;\n",
              "      box-shadow: 0px 1px 2px rgba(60, 64, 67, 0.3), 0px 1px 3px 1px rgba(60, 64, 67, 0.15);\n",
              "      fill: #174EA6;\n",
              "    }\n",
              "\n",
              "    .colab-df-buttons div {\n",
              "      margin-bottom: 4px;\n",
              "    }\n",
              "\n",
              "    [theme=dark] .colab-df-convert {\n",
              "      background-color: #3B4455;\n",
              "      fill: #D2E3FC;\n",
              "    }\n",
              "\n",
              "    [theme=dark] .colab-df-convert:hover {\n",
              "      background-color: #434B5C;\n",
              "      box-shadow: 0px 1px 3px 1px rgba(0, 0, 0, 0.15);\n",
              "      filter: drop-shadow(0px 1px 2px rgba(0, 0, 0, 0.3));\n",
              "      fill: #FFFFFF;\n",
              "    }\n",
              "  </style>\n",
              "\n",
              "    <script>\n",
              "      const buttonEl =\n",
              "        document.querySelector('#df-cc2894f1-883c-42f5-87d7-10ff385ad9ea button.colab-df-convert');\n",
              "      buttonEl.style.display =\n",
              "        google.colab.kernel.accessAllowed ? 'block' : 'none';\n",
              "\n",
              "      async function convertToInteractive(key) {\n",
              "        const element = document.querySelector('#df-cc2894f1-883c-42f5-87d7-10ff385ad9ea');\n",
              "        const dataTable =\n",
              "          await google.colab.kernel.invokeFunction('convertToInteractive',\n",
              "                                                    [key], {});\n",
              "        if (!dataTable) return;\n",
              "\n",
              "        const docLinkHtml = 'Like what you see? Visit the ' +\n",
              "          '<a target=\"_blank\" href=https://colab.research.google.com/notebooks/data_table.ipynb>data table notebook</a>'\n",
              "          + ' to learn more about interactive tables.';\n",
              "        element.innerHTML = '';\n",
              "        dataTable['output_type'] = 'display_data';\n",
              "        await google.colab.output.renderOutput(dataTable, element);\n",
              "        const docLink = document.createElement('div');\n",
              "        docLink.innerHTML = docLinkHtml;\n",
              "        element.appendChild(docLink);\n",
              "      }\n",
              "    </script>\n",
              "  </div>\n",
              "\n",
              "\n",
              "<div id=\"df-d0103b40-1a02-4bcd-9672-9e9fa4ff6ce7\">\n",
              "  <button class=\"colab-df-quickchart\" onclick=\"quickchart('df-d0103b40-1a02-4bcd-9672-9e9fa4ff6ce7')\"\n",
              "            title=\"Suggest charts\"\n",
              "            style=\"display:none;\">\n",
              "\n",
              "<svg xmlns=\"http://www.w3.org/2000/svg\" height=\"24px\"viewBox=\"0 0 24 24\"\n",
              "     width=\"24px\">\n",
              "    <g>\n",
              "        <path d=\"M19 3H5c-1.1 0-2 .9-2 2v14c0 1.1.9 2 2 2h14c1.1 0 2-.9 2-2V5c0-1.1-.9-2-2-2zM9 17H7v-7h2v7zm4 0h-2V7h2v10zm4 0h-2v-4h2v4z\"/>\n",
              "    </g>\n",
              "</svg>\n",
              "  </button>\n",
              "\n",
              "<style>\n",
              "  .colab-df-quickchart {\n",
              "      --bg-color: #E8F0FE;\n",
              "      --fill-color: #1967D2;\n",
              "      --hover-bg-color: #E2EBFA;\n",
              "      --hover-fill-color: #174EA6;\n",
              "      --disabled-fill-color: #AAA;\n",
              "      --disabled-bg-color: #DDD;\n",
              "  }\n",
              "\n",
              "  [theme=dark] .colab-df-quickchart {\n",
              "      --bg-color: #3B4455;\n",
              "      --fill-color: #D2E3FC;\n",
              "      --hover-bg-color: #434B5C;\n",
              "      --hover-fill-color: #FFFFFF;\n",
              "      --disabled-bg-color: #3B4455;\n",
              "      --disabled-fill-color: #666;\n",
              "  }\n",
              "\n",
              "  .colab-df-quickchart {\n",
              "    background-color: var(--bg-color);\n",
              "    border: none;\n",
              "    border-radius: 50%;\n",
              "    cursor: pointer;\n",
              "    display: none;\n",
              "    fill: var(--fill-color);\n",
              "    height: 32px;\n",
              "    padding: 0;\n",
              "    width: 32px;\n",
              "  }\n",
              "\n",
              "  .colab-df-quickchart:hover {\n",
              "    background-color: var(--hover-bg-color);\n",
              "    box-shadow: 0 1px 2px rgba(60, 64, 67, 0.3), 0 1px 3px 1px rgba(60, 64, 67, 0.15);\n",
              "    fill: var(--button-hover-fill-color);\n",
              "  }\n",
              "\n",
              "  .colab-df-quickchart-complete:disabled,\n",
              "  .colab-df-quickchart-complete:disabled:hover {\n",
              "    background-color: var(--disabled-bg-color);\n",
              "    fill: var(--disabled-fill-color);\n",
              "    box-shadow: none;\n",
              "  }\n",
              "\n",
              "  .colab-df-spinner {\n",
              "    border: 2px solid var(--fill-color);\n",
              "    border-color: transparent;\n",
              "    border-bottom-color: var(--fill-color);\n",
              "    animation:\n",
              "      spin 1s steps(1) infinite;\n",
              "  }\n",
              "\n",
              "  @keyframes spin {\n",
              "    0% {\n",
              "      border-color: transparent;\n",
              "      border-bottom-color: var(--fill-color);\n",
              "      border-left-color: var(--fill-color);\n",
              "    }\n",
              "    20% {\n",
              "      border-color: transparent;\n",
              "      border-left-color: var(--fill-color);\n",
              "      border-top-color: var(--fill-color);\n",
              "    }\n",
              "    30% {\n",
              "      border-color: transparent;\n",
              "      border-left-color: var(--fill-color);\n",
              "      border-top-color: var(--fill-color);\n",
              "      border-right-color: var(--fill-color);\n",
              "    }\n",
              "    40% {\n",
              "      border-color: transparent;\n",
              "      border-right-color: var(--fill-color);\n",
              "      border-top-color: var(--fill-color);\n",
              "    }\n",
              "    60% {\n",
              "      border-color: transparent;\n",
              "      border-right-color: var(--fill-color);\n",
              "    }\n",
              "    80% {\n",
              "      border-color: transparent;\n",
              "      border-right-color: var(--fill-color);\n",
              "      border-bottom-color: var(--fill-color);\n",
              "    }\n",
              "    90% {\n",
              "      border-color: transparent;\n",
              "      border-bottom-color: var(--fill-color);\n",
              "    }\n",
              "  }\n",
              "</style>\n",
              "\n",
              "  <script>\n",
              "    async function quickchart(key) {\n",
              "      const quickchartButtonEl =\n",
              "        document.querySelector('#' + key + ' button');\n",
              "      quickchartButtonEl.disabled = true;  // To prevent multiple clicks.\n",
              "      quickchartButtonEl.classList.add('colab-df-spinner');\n",
              "      try {\n",
              "        const charts = await google.colab.kernel.invokeFunction(\n",
              "            'suggestCharts', [key], {});\n",
              "      } catch (error) {\n",
              "        console.error('Error during call to suggestCharts:', error);\n",
              "      }\n",
              "      quickchartButtonEl.classList.remove('colab-df-spinner');\n",
              "      quickchartButtonEl.classList.add('colab-df-quickchart-complete');\n",
              "    }\n",
              "    (() => {\n",
              "      let quickchartButtonEl =\n",
              "        document.querySelector('#df-d0103b40-1a02-4bcd-9672-9e9fa4ff6ce7 button');\n",
              "      quickchartButtonEl.style.display =\n",
              "        google.colab.kernel.accessAllowed ? 'block' : 'none';\n",
              "    })();\n",
              "  </script>\n",
              "</div>\n",
              "\n",
              "  <div id=\"id_65b8d8ef-7fb4-4225-9981-b0ee9598cf9a\">\n",
              "    <style>\n",
              "      .colab-df-generate {\n",
              "        background-color: #E8F0FE;\n",
              "        border: none;\n",
              "        border-radius: 50%;\n",
              "        cursor: pointer;\n",
              "        display: none;\n",
              "        fill: #1967D2;\n",
              "        height: 32px;\n",
              "        padding: 0 0 0 0;\n",
              "        width: 32px;\n",
              "      }\n",
              "\n",
              "      .colab-df-generate:hover {\n",
              "        background-color: #E2EBFA;\n",
              "        box-shadow: 0px 1px 2px rgba(60, 64, 67, 0.3), 0px 1px 3px 1px rgba(60, 64, 67, 0.15);\n",
              "        fill: #174EA6;\n",
              "      }\n",
              "\n",
              "      [theme=dark] .colab-df-generate {\n",
              "        background-color: #3B4455;\n",
              "        fill: #D2E3FC;\n",
              "      }\n",
              "\n",
              "      [theme=dark] .colab-df-generate:hover {\n",
              "        background-color: #434B5C;\n",
              "        box-shadow: 0px 1px 3px 1px rgba(0, 0, 0, 0.15);\n",
              "        filter: drop-shadow(0px 1px 2px rgba(0, 0, 0, 0.3));\n",
              "        fill: #FFFFFF;\n",
              "      }\n",
              "    </style>\n",
              "    <button class=\"colab-df-generate\" onclick=\"generateWithVariable('covid_word')\"\n",
              "            title=\"Generate code using this dataframe.\"\n",
              "            style=\"display:none;\">\n",
              "\n",
              "  <svg xmlns=\"http://www.w3.org/2000/svg\" height=\"24px\"viewBox=\"0 0 24 24\"\n",
              "       width=\"24px\">\n",
              "    <path d=\"M7,19H8.4L18.45,9,17,7.55,7,17.6ZM5,21V16.75L18.45,3.32a2,2,0,0,1,2.83,0l1.4,1.43a1.91,1.91,0,0,1,.58,1.4,1.91,1.91,0,0,1-.58,1.4L9.25,21ZM18.45,9,17,7.55Zm-12,3A5.31,5.31,0,0,0,4.9,8.1,5.31,5.31,0,0,0,1,6.5,5.31,5.31,0,0,0,4.9,4.9,5.31,5.31,0,0,0,6.5,1,5.31,5.31,0,0,0,8.1,4.9,5.31,5.31,0,0,0,12,6.5,5.46,5.46,0,0,0,6.5,12Z\"/>\n",
              "  </svg>\n",
              "    </button>\n",
              "    <script>\n",
              "      (() => {\n",
              "      const buttonEl =\n",
              "        document.querySelector('#id_65b8d8ef-7fb4-4225-9981-b0ee9598cf9a button.colab-df-generate');\n",
              "      buttonEl.style.display =\n",
              "        google.colab.kernel.accessAllowed ? 'block' : 'none';\n",
              "\n",
              "      buttonEl.onclick = () => {\n",
              "        google.colab.notebook.generateWithVariable('covid_word');\n",
              "      }\n",
              "      })();\n",
              "    </script>\n",
              "  </div>\n",
              "\n",
              "    </div>\n",
              "  </div>\n"
            ],
            "application/vnd.google.colaboratory.intrinsic+json": {
              "type": "dataframe",
              "variable_name": "covid_word"
            }
          },
          "metadata": {},
          "execution_count": 3
        }
      ]
    },
    {
      "cell_type": "markdown",
      "source": [
        "Let's study our DataSet. As you can see, it consist of 159321 rows × 67 columns. There is some missing data are observed in the DataSet. We should be sure that Python recognized types of data correctly.\n"
      ],
      "metadata": {
        "id": "C3AT_2fsjolB"
      }
    },
    {
      "cell_type": "code",
      "source": [
        "covid_word.info()"
      ],
      "metadata": {
        "id": "O2M9TmepjolC",
        "execution": {
          "iopub.status.busy": "2024-09-05T01:56:53.31004Z",
          "iopub.execute_input": "2024-09-05T01:56:53.311093Z",
          "iopub.status.idle": "2024-09-05T01:56:53.455693Z",
          "shell.execute_reply.started": "2024-09-05T01:56:53.311045Z",
          "shell.execute_reply": "2024-09-05T01:56:53.454682Z"
        },
        "trusted": true,
        "outputId": "7847442c-9e92-41ae-b953-36aa3e902fd0",
        "colab": {
          "base_uri": "https://localhost:8080/"
        }
      },
      "execution_count": 4,
      "outputs": [
        {
          "output_type": "stream",
          "name": "stdout",
          "text": [
            "<class 'pandas.core.frame.DataFrame'>\n",
            "RangeIndex: 187801 entries, 0 to 187800\n",
            "Data columns (total 67 columns):\n",
            " #   Column                                      Non-Null Count   Dtype  \n",
            "---  ------                                      --------------   -----  \n",
            " 0   iso_code                                    187801 non-null  object \n",
            " 1   continent                                   176870 non-null  object \n",
            " 2   location                                    187801 non-null  object \n",
            " 3   date                                        187801 non-null  object \n",
            " 4   total_cases                                 180399 non-null  float64\n",
            " 5   new_cases                                   180190 non-null  float64\n",
            " 6   new_cases_smoothed                          179016 non-null  float64\n",
            " 7   total_deaths                                162023 non-null  float64\n",
            " 8   new_deaths                                  162021 non-null  float64\n",
            " 9   new_deaths_smoothed                         160860 non-null  float64\n",
            " 10  total_cases_per_million                     179566 non-null  float64\n",
            " 11  new_cases_per_million                       179357 non-null  float64\n",
            " 12  new_cases_smoothed_per_million              178188 non-null  float64\n",
            " 13  total_deaths_per_million                    161203 non-null  float64\n",
            " 14  new_deaths_per_million                      161201 non-null  float64\n",
            " 15  new_deaths_smoothed_per_million             160045 non-null  float64\n",
            " 16  reproduction_rate                           140328 non-null  float64\n",
            " 17  icu_patients                                24355 non-null   float64\n",
            " 18  icu_patients_per_million                    24355 non-null   float64\n",
            " 19  hosp_patients                               25613 non-null   float64\n",
            " 20  hosp_patients_per_million                   25613 non-null   float64\n",
            " 21  weekly_icu_admissions                       6073 non-null    float64\n",
            " 22  weekly_icu_admissions_per_million           6073 non-null    float64\n",
            " 23  weekly_hosp_admissions                      12120 non-null   float64\n",
            " 24  weekly_hosp_admissions_per_million          12120 non-null   float64\n",
            " 25  total_tests                                 76651 non-null   float64\n",
            " 26  new_tests                                   73618 non-null   float64\n",
            " 27  total_tests_per_thousand                    76651 non-null   float64\n",
            " 28  new_tests_per_thousand                      73618 non-null   float64\n",
            " 29  new_tests_smoothed                          99087 non-null   float64\n",
            " 30  new_tests_smoothed_per_thousand             99087 non-null   float64\n",
            " 31  positive_rate                               91397 non-null   float64\n",
            " 32  tests_per_case                              89869 non-null   float64\n",
            " 33  tests_units                                 101893 non-null  object \n",
            " 34  total_vaccinations                          50985 non-null   float64\n",
            " 35  people_vaccinated                           48558 non-null   float64\n",
            " 36  people_fully_vaccinated                     46007 non-null   float64\n",
            " 37  total_boosters                              23182 non-null   float64\n",
            " 38  new_vaccinations                            41701 non-null   float64\n",
            " 39  new_vaccinations_smoothed                   100393 non-null  float64\n",
            " 40  total_vaccinations_per_hundred              50985 non-null   float64\n",
            " 41  people_vaccinated_per_hundred               48558 non-null   float64\n",
            " 42  people_fully_vaccinated_per_hundred         46007 non-null   float64\n",
            " 43  total_boosters_per_hundred                  23182 non-null   float64\n",
            " 44  new_vaccinations_smoothed_per_million       100393 non-null  float64\n",
            " 45  new_people_vaccinated_smoothed              99375 non-null   float64\n",
            " 46  new_people_vaccinated_smoothed_per_hundred  99375 non-null   float64\n",
            " 47  stringency_index                            146156 non-null  float64\n",
            " 48  population                                  186651 non-null  float64\n",
            " 49  population_density                          167345 non-null  float64\n",
            " 50  median_age                                  155139 non-null  float64\n",
            " 51  aged_65_older                               153494 non-null  float64\n",
            " 52  aged_70_older                               154325 non-null  float64\n",
            " 53  gdp_per_capita                              154268 non-null  float64\n",
            " 54  extreme_poverty                             100750 non-null  float64\n",
            " 55  cardiovasc_death_rate                       154794 non-null  float64\n",
            " 56  diabetes_prevalence                         162353 non-null  float64\n",
            " 57  female_smokers                              117078 non-null  float64\n",
            " 58  male_smokers                                115473 non-null  float64\n",
            " 59  handwashing_facilities                      76052 non-null   float64\n",
            " 60  hospital_beds_per_thousand                  137349 non-null  float64\n",
            " 61  life_expectancy                             175620 non-null  float64\n",
            " 62  human_development_index                     150786 non-null  float64\n",
            " 63  excess_mortality_cumulative_absolute        6460 non-null    float64\n",
            " 64  excess_mortality_cumulative                 6460 non-null    float64\n",
            " 65  excess_mortality                            6460 non-null    float64\n",
            " 66  excess_mortality_cumulative_per_million     6460 non-null    float64\n",
            "dtypes: float64(62), object(5)\n",
            "memory usage: 96.0+ MB\n"
          ]
        }
      ]
    },
    {
      "cell_type": "markdown",
      "source": [
        "As you can see, 66 columns of COVID-19 data were recognized correctly (float64). First 4 columns and tests_units were recognized as objects. Let's investigate them:\n"
      ],
      "metadata": {
        "id": "rR_i-AuyjolC"
      }
    },
    {
      "cell_type": "code",
      "source": [
        "fields = ['iso_code', 'continent', 'location', 'tests_units']\n",
        "covid_word[fields]"
      ],
      "metadata": {
        "id": "l9qfqY2SjolD",
        "execution": {
          "iopub.status.busy": "2024-09-05T01:56:57.249889Z",
          "iopub.execute_input": "2024-09-05T01:56:57.250261Z",
          "iopub.status.idle": "2024-09-05T01:56:57.274328Z",
          "shell.execute_reply.started": "2024-09-05T01:56:57.250208Z",
          "shell.execute_reply": "2024-09-05T01:56:57.273287Z"
        },
        "trusted": true,
        "outputId": "76cc4f8c-0f4a-4c57-f927-615c8d4cbed7"
      },
      "execution_count": null,
      "outputs": [
        {
          "execution_count": 30,
          "output_type": "execute_result",
          "data": {
            "text/plain": "       iso_code continent     location      tests_units\n0           AFG      Asia  Afghanistan              NaN\n1           AFG      Asia  Afghanistan              NaN\n2           AFG      Asia  Afghanistan              NaN\n3           AFG      Asia  Afghanistan              NaN\n4           AFG      Asia  Afghanistan              NaN\n...         ...       ...          ...              ...\n187796      ZWE    Africa     Zimbabwe  tests performed\n187797      ZWE    Africa     Zimbabwe  tests performed\n187798      ZWE    Africa     Zimbabwe  tests performed\n187799      ZWE    Africa     Zimbabwe  tests performed\n187800      ZWE    Africa     Zimbabwe              NaN\n\n[187801 rows x 4 columns]",
            "text/html": "<div>\n<style scoped>\n    .dataframe tbody tr th:only-of-type {\n        vertical-align: middle;\n    }\n\n    .dataframe tbody tr th {\n        vertical-align: top;\n    }\n\n    .dataframe thead th {\n        text-align: right;\n    }\n</style>\n<table border=\"1\" class=\"dataframe\">\n  <thead>\n    <tr style=\"text-align: right;\">\n      <th></th>\n      <th>iso_code</th>\n      <th>continent</th>\n      <th>location</th>\n      <th>tests_units</th>\n    </tr>\n  </thead>\n  <tbody>\n    <tr>\n      <th>0</th>\n      <td>AFG</td>\n      <td>Asia</td>\n      <td>Afghanistan</td>\n      <td>NaN</td>\n    </tr>\n    <tr>\n      <th>1</th>\n      <td>AFG</td>\n      <td>Asia</td>\n      <td>Afghanistan</td>\n      <td>NaN</td>\n    </tr>\n    <tr>\n      <th>2</th>\n      <td>AFG</td>\n      <td>Asia</td>\n      <td>Afghanistan</td>\n      <td>NaN</td>\n    </tr>\n    <tr>\n      <th>3</th>\n      <td>AFG</td>\n      <td>Asia</td>\n      <td>Afghanistan</td>\n      <td>NaN</td>\n    </tr>\n    <tr>\n      <th>4</th>\n      <td>AFG</td>\n      <td>Asia</td>\n      <td>Afghanistan</td>\n      <td>NaN</td>\n    </tr>\n    <tr>\n      <th>...</th>\n      <td>...</td>\n      <td>...</td>\n      <td>...</td>\n      <td>...</td>\n    </tr>\n    <tr>\n      <th>187796</th>\n      <td>ZWE</td>\n      <td>Africa</td>\n      <td>Zimbabwe</td>\n      <td>tests performed</td>\n    </tr>\n    <tr>\n      <th>187797</th>\n      <td>ZWE</td>\n      <td>Africa</td>\n      <td>Zimbabwe</td>\n      <td>tests performed</td>\n    </tr>\n    <tr>\n      <th>187798</th>\n      <td>ZWE</td>\n      <td>Africa</td>\n      <td>Zimbabwe</td>\n      <td>tests performed</td>\n    </tr>\n    <tr>\n      <th>187799</th>\n      <td>ZWE</td>\n      <td>Africa</td>\n      <td>Zimbabwe</td>\n      <td>tests performed</td>\n    </tr>\n    <tr>\n      <th>187800</th>\n      <td>ZWE</td>\n      <td>Africa</td>\n      <td>Zimbabwe</td>\n      <td>NaN</td>\n    </tr>\n  </tbody>\n</table>\n<p>187801 rows × 4 columns</p>\n</div>"
          },
          "metadata": {}
        }
      ]
    },
    {
      "cell_type": "markdown",
      "source": [
        "Let's show information about the field date.\n"
      ],
      "metadata": {
        "id": "7GI9FShzjolE"
      }
    },
    {
      "cell_type": "code",
      "source": [
        "covid_word['date']"
      ],
      "metadata": {
        "id": "-hYrN453jolF",
        "execution": {
          "iopub.status.busy": "2024-09-05T01:57:01.69585Z",
          "iopub.execute_input": "2024-09-05T01:57:01.696194Z",
          "iopub.status.idle": "2024-09-05T01:57:01.705445Z",
          "shell.execute_reply.started": "2024-09-05T01:57:01.696158Z",
          "shell.execute_reply": "2024-09-05T01:57:01.704412Z"
        },
        "trusted": true,
        "outputId": "34eacc2a-8b1d-498e-cc7e-3504800ae097"
      },
      "execution_count": null,
      "outputs": [
        {
          "execution_count": 31,
          "output_type": "execute_result",
          "data": {
            "text/plain": "0         2020-02-24\n1         2020-02-25\n2         2020-02-26\n3         2020-02-27\n4         2020-02-28\n             ...    \n187796    2022-05-15\n187797    2022-05-16\n187798    2022-05-17\n187799    2022-05-18\n187800    2022-05-19\nName: date, Length: 187801, dtype: object"
          },
          "metadata": {}
        }
      ]
    },
    {
      "cell_type": "markdown",
      "source": [
        "### Сhange the data types of columns\n"
      ],
      "metadata": {
        "id": "OCAkVRmJjolG"
      }
    },
    {
      "cell_type": "markdown",
      "source": [
        "As you can see, the columns: 'iso_code', 'continent', 'location', 'tests_units' have many repetitions and should be assigned to categorical fields **pandas.astype()**.\n",
        "\n",
        "The field 'data' should be converted into DataTime type **pandas.to_datetime**  \n",
        "To see the results we can use **pandas.describe()**.\n"
      ],
      "metadata": {
        "id": "YOwOer5pjolH"
      }
    },
    {
      "cell_type": "code",
      "source": [
        "fields = ['iso_code', 'continent', 'location', 'tests_units']\n",
        "covid_word[fields] =covid_word[fields].astype('category')\n",
        "covid_word.loc[:, 'date'] = pd.to_datetime(covid_word['date'])\n",
        "covid_word[fields].describe()"
      ],
      "metadata": {
        "id": "W8IQFt5ajolJ",
        "execution": {
          "iopub.status.busy": "2024-09-05T01:57:04.628786Z",
          "iopub.execute_input": "2024-09-05T01:57:04.629732Z",
          "iopub.status.idle": "2024-09-05T01:57:04.843388Z",
          "shell.execute_reply.started": "2024-09-05T01:57:04.629686Z",
          "shell.execute_reply": "2024-09-05T01:57:04.84248Z"
        },
        "trusted": true,
        "outputId": "a4568a06-5884-4d45-af73-ded23ac983d4"
      },
      "execution_count": null,
      "outputs": [
        {
          "execution_count": 32,
          "output_type": "execute_result",
          "data": {
            "text/plain": "       iso_code continent location      tests_units\ncount    187801    176870   187801           101893\nunique      244         6      244                4\ntop         ARG    Africa   Mexico  tests performed\nfreq        870     43543      870            75951",
            "text/html": "<div>\n<style scoped>\n    .dataframe tbody tr th:only-of-type {\n        vertical-align: middle;\n    }\n\n    .dataframe tbody tr th {\n        vertical-align: top;\n    }\n\n    .dataframe thead th {\n        text-align: right;\n    }\n</style>\n<table border=\"1\" class=\"dataframe\">\n  <thead>\n    <tr style=\"text-align: right;\">\n      <th></th>\n      <th>iso_code</th>\n      <th>continent</th>\n      <th>location</th>\n      <th>tests_units</th>\n    </tr>\n  </thead>\n  <tbody>\n    <tr>\n      <th>count</th>\n      <td>187801</td>\n      <td>176870</td>\n      <td>187801</td>\n      <td>101893</td>\n    </tr>\n    <tr>\n      <th>unique</th>\n      <td>244</td>\n      <td>6</td>\n      <td>244</td>\n      <td>4</td>\n    </tr>\n    <tr>\n      <th>top</th>\n      <td>ARG</td>\n      <td>Africa</td>\n      <td>Mexico</td>\n      <td>tests performed</td>\n    </tr>\n    <tr>\n      <th>freq</th>\n      <td>870</td>\n      <td>43543</td>\n      <td>870</td>\n      <td>75951</td>\n    </tr>\n  </tbody>\n</table>\n</div>"
          },
          "metadata": {}
        }
      ]
    },
    {
      "cell_type": "markdown",
      "source": [
        "### Rows filtering\n"
      ],
      "metadata": {
        "id": "WmHQN9iGjolK"
      }
    },
    {
      "cell_type": "markdown",
      "source": [
        "As we can see, the DataSet contains information about 6 continents and 238 countries.\n",
        "The field 'tests_units' consist of 4 categories. To show a list of countries, we can use **pandas.Series.cat.categories**.\n"
      ],
      "metadata": {
        "id": "uaPESo_8jolL"
      }
    },
    {
      "cell_type": "code",
      "source": [
        "covid_word['location'].cat.categories"
      ],
      "metadata": {
        "id": "-IgQLE9RjolL",
        "execution": {
          "iopub.status.busy": "2024-09-05T01:57:19.997591Z",
          "iopub.execute_input": "2024-09-05T01:57:19.997974Z",
          "iopub.status.idle": "2024-09-05T01:57:20.006333Z",
          "shell.execute_reply.started": "2024-09-05T01:57:19.99793Z",
          "shell.execute_reply": "2024-09-05T01:57:20.005168Z"
        },
        "trusted": true,
        "outputId": "0fa85fce-896e-4a12-cc4c-ce297d10f085"
      },
      "execution_count": null,
      "outputs": [
        {
          "execution_count": 33,
          "output_type": "execute_result",
          "data": {
            "text/plain": "Index(['Afghanistan', 'Africa', 'Albania', 'Algeria', 'Andorra', 'Angola',\n       'Anguilla', 'Antigua and Barbuda', 'Argentina', 'Armenia',\n       ...\n       'Vanuatu', 'Vatican', 'Venezuela', 'Vietnam', 'Wallis and Futuna',\n       'Western Sahara', 'World', 'Yemen', 'Zambia', 'Zimbabwe'],\n      dtype='object', length=244)"
          },
          "metadata": {}
        }
      ]
    },
    {
      "cell_type": "markdown",
      "source": [
        "Let's investigate the dynamics of new cases of COVID-19 for a separate country. We will use India for saving models and further forecast. You can use your country. Let's use a pandas filter to do this.\n"
      ],
      "metadata": {
        "id": "80889yb9jolM"
      }
    },
    {
      "cell_type": "code",
      "source": [
        "covid_word.index = covid_word['date']\n",
        "c_covid = covid_word[covid_word['location'] == \"India\"]\n",
        "c_covid"
      ],
      "metadata": {
        "id": "CTqsGuIfjolN",
        "execution": {
          "iopub.status.busy": "2024-09-05T01:57:22.850252Z",
          "iopub.execute_input": "2024-09-05T01:57:22.851168Z",
          "iopub.status.idle": "2024-09-05T01:57:22.889946Z",
          "shell.execute_reply.started": "2024-09-05T01:57:22.851122Z",
          "shell.execute_reply": "2024-09-05T01:57:22.889032Z"
        },
        "trusted": true,
        "outputId": "c9480c82-4434-4646-d143-3425c45397a4"
      },
      "execution_count": null,
      "outputs": [
        {
          "execution_count": 34,
          "output_type": "execute_result",
          "data": {
            "text/plain": "           iso_code continent location       date     total_cases  new_cases  \\\ndate                                                                           \n2020-01-30      IND      Asia    India 2020-01-30          1.0000     1.0000   \n2020-01-31      IND      Asia    India 2020-01-31          1.0000     0.0000   \n2020-02-01      IND      Asia    India 2020-02-01          1.0000     0.0000   \n2020-02-02      IND      Asia    India 2020-02-02          2.0000     1.0000   \n2020-02-03      IND      Asia    India 2020-02-03          3.0000     1.0000   \n...             ...       ...      ...        ...             ...        ...   \n2022-05-15      IND      Asia    India 2022-05-15 43,123,801.0000 2,202.0000   \n2022-05-16      IND      Asia    India 2022-05-16 43,125,370.0000 1,569.0000   \n2022-05-17      IND      Asia    India 2022-05-17 43,127,199.0000 1,829.0000   \n2022-05-18      IND      Asia    India 2022-05-18 43,129,563.0000 2,364.0000   \n2022-05-19      IND      Asia    India 2022-05-19 43,131,822.0000 2,259.0000   \n\n            new_cases_smoothed  total_deaths  new_deaths  new_deaths_smoothed  \\\ndate                                                                            \n2020-01-30                 NaN           NaN         NaN                  NaN   \n2020-01-31                 NaN           NaN         NaN                  NaN   \n2020-02-01                 NaN           NaN         NaN                  NaN   \n2020-02-02                 NaN           NaN         NaN                  NaN   \n2020-02-03                 NaN           NaN         NaN                  NaN   \n...                        ...           ...         ...                  ...   \n2022-05-15          2,628.5710  524,241.0000     27.0000              21.1430   \n2022-05-16          2,525.8570  524,260.0000     19.0000              22.4290   \n2022-05-17          2,373.2860  524,293.0000     33.0000              19.4290   \n2022-05-18          2,307.1430  524,303.0000     10.0000              17.4290   \n2022-05-19          2,224.0000  524,323.0000     20.0000              19.0000   \n\n            ...  female_smokers  male_smokers  handwashing_facilities  \\\ndate        ...                                                         \n2020-01-30  ...          1.9000       20.6000                 59.5500   \n2020-01-31  ...          1.9000       20.6000                 59.5500   \n2020-02-01  ...          1.9000       20.6000                 59.5500   \n2020-02-02  ...          1.9000       20.6000                 59.5500   \n2020-02-03  ...          1.9000       20.6000                 59.5500   \n...         ...             ...           ...                     ...   \n2022-05-15  ...          1.9000       20.6000                 59.5500   \n2022-05-16  ...          1.9000       20.6000                 59.5500   \n2022-05-17  ...          1.9000       20.6000                 59.5500   \n2022-05-18  ...          1.9000       20.6000                 59.5500   \n2022-05-19  ...          1.9000       20.6000                 59.5500   \n\n            hospital_beds_per_thousand  life_expectancy  \\\ndate                                                      \n2020-01-30                      0.5300          69.6600   \n2020-01-31                      0.5300          69.6600   \n2020-02-01                      0.5300          69.6600   \n2020-02-02                      0.5300          69.6600   \n2020-02-03                      0.5300          69.6600   \n...                                ...              ...   \n2022-05-15                      0.5300          69.6600   \n2022-05-16                      0.5300          69.6600   \n2022-05-17                      0.5300          69.6600   \n2022-05-18                      0.5300          69.6600   \n2022-05-19                      0.5300          69.6600   \n\n            human_development_index  excess_mortality_cumulative_absolute  \\\ndate                                                                        \n2020-01-30                   0.6450                                   NaN   \n2020-01-31                   0.6450                                   NaN   \n2020-02-01                   0.6450                                   NaN   \n2020-02-02                   0.6450                                   NaN   \n2020-02-03                   0.6450                                   NaN   \n...                             ...                                   ...   \n2022-05-15                   0.6450                                   NaN   \n2022-05-16                   0.6450                                   NaN   \n2022-05-17                   0.6450                                   NaN   \n2022-05-18                   0.6450                                   NaN   \n2022-05-19                   0.6450                                   NaN   \n\n            excess_mortality_cumulative  excess_mortality  \\\ndate                                                        \n2020-01-30                          NaN               NaN   \n2020-01-31                          NaN               NaN   \n2020-02-01                          NaN               NaN   \n2020-02-02                          NaN               NaN   \n2020-02-03                          NaN               NaN   \n...                                 ...               ...   \n2022-05-15                          NaN               NaN   \n2022-05-16                          NaN               NaN   \n2022-05-17                          NaN               NaN   \n2022-05-18                          NaN               NaN   \n2022-05-19                          NaN               NaN   \n\n            excess_mortality_cumulative_per_million  \ndate                                                 \n2020-01-30                                      NaN  \n2020-01-31                                      NaN  \n2020-02-01                                      NaN  \n2020-02-02                                      NaN  \n2020-02-03                                      NaN  \n...                                             ...  \n2022-05-15                                      NaN  \n2022-05-16                                      NaN  \n2022-05-17                                      NaN  \n2022-05-18                                      NaN  \n2022-05-19                                      NaN  \n\n[841 rows x 67 columns]",
            "text/html": "<div>\n<style scoped>\n    .dataframe tbody tr th:only-of-type {\n        vertical-align: middle;\n    }\n\n    .dataframe tbody tr th {\n        vertical-align: top;\n    }\n\n    .dataframe thead th {\n        text-align: right;\n    }\n</style>\n<table border=\"1\" class=\"dataframe\">\n  <thead>\n    <tr style=\"text-align: right;\">\n      <th></th>\n      <th>iso_code</th>\n      <th>continent</th>\n      <th>location</th>\n      <th>date</th>\n      <th>total_cases</th>\n      <th>new_cases</th>\n      <th>new_cases_smoothed</th>\n      <th>total_deaths</th>\n      <th>new_deaths</th>\n      <th>new_deaths_smoothed</th>\n      <th>...</th>\n      <th>female_smokers</th>\n      <th>male_smokers</th>\n      <th>handwashing_facilities</th>\n      <th>hospital_beds_per_thousand</th>\n      <th>life_expectancy</th>\n      <th>human_development_index</th>\n      <th>excess_mortality_cumulative_absolute</th>\n      <th>excess_mortality_cumulative</th>\n      <th>excess_mortality</th>\n      <th>excess_mortality_cumulative_per_million</th>\n    </tr>\n    <tr>\n      <th>date</th>\n      <th></th>\n      <th></th>\n      <th></th>\n      <th></th>\n      <th></th>\n      <th></th>\n      <th></th>\n      <th></th>\n      <th></th>\n      <th></th>\n      <th></th>\n      <th></th>\n      <th></th>\n      <th></th>\n      <th></th>\n      <th></th>\n      <th></th>\n      <th></th>\n      <th></th>\n      <th></th>\n      <th></th>\n    </tr>\n  </thead>\n  <tbody>\n    <tr>\n      <th>2020-01-30</th>\n      <td>IND</td>\n      <td>Asia</td>\n      <td>India</td>\n      <td>2020-01-30</td>\n      <td>1.0000</td>\n      <td>1.0000</td>\n      <td>NaN</td>\n      <td>NaN</td>\n      <td>NaN</td>\n      <td>NaN</td>\n      <td>...</td>\n      <td>1.9000</td>\n      <td>20.6000</td>\n      <td>59.5500</td>\n      <td>0.5300</td>\n      <td>69.6600</td>\n      <td>0.6450</td>\n      <td>NaN</td>\n      <td>NaN</td>\n      <td>NaN</td>\n      <td>NaN</td>\n    </tr>\n    <tr>\n      <th>2020-01-31</th>\n      <td>IND</td>\n      <td>Asia</td>\n      <td>India</td>\n      <td>2020-01-31</td>\n      <td>1.0000</td>\n      <td>0.0000</td>\n      <td>NaN</td>\n      <td>NaN</td>\n      <td>NaN</td>\n      <td>NaN</td>\n      <td>...</td>\n      <td>1.9000</td>\n      <td>20.6000</td>\n      <td>59.5500</td>\n      <td>0.5300</td>\n      <td>69.6600</td>\n      <td>0.6450</td>\n      <td>NaN</td>\n      <td>NaN</td>\n      <td>NaN</td>\n      <td>NaN</td>\n    </tr>\n    <tr>\n      <th>2020-02-01</th>\n      <td>IND</td>\n      <td>Asia</td>\n      <td>India</td>\n      <td>2020-02-01</td>\n      <td>1.0000</td>\n      <td>0.0000</td>\n      <td>NaN</td>\n      <td>NaN</td>\n      <td>NaN</td>\n      <td>NaN</td>\n      <td>...</td>\n      <td>1.9000</td>\n      <td>20.6000</td>\n      <td>59.5500</td>\n      <td>0.5300</td>\n      <td>69.6600</td>\n      <td>0.6450</td>\n      <td>NaN</td>\n      <td>NaN</td>\n      <td>NaN</td>\n      <td>NaN</td>\n    </tr>\n    <tr>\n      <th>2020-02-02</th>\n      <td>IND</td>\n      <td>Asia</td>\n      <td>India</td>\n      <td>2020-02-02</td>\n      <td>2.0000</td>\n      <td>1.0000</td>\n      <td>NaN</td>\n      <td>NaN</td>\n      <td>NaN</td>\n      <td>NaN</td>\n      <td>...</td>\n      <td>1.9000</td>\n      <td>20.6000</td>\n      <td>59.5500</td>\n      <td>0.5300</td>\n      <td>69.6600</td>\n      <td>0.6450</td>\n      <td>NaN</td>\n      <td>NaN</td>\n      <td>NaN</td>\n      <td>NaN</td>\n    </tr>\n    <tr>\n      <th>2020-02-03</th>\n      <td>IND</td>\n      <td>Asia</td>\n      <td>India</td>\n      <td>2020-02-03</td>\n      <td>3.0000</td>\n      <td>1.0000</td>\n      <td>NaN</td>\n      <td>NaN</td>\n      <td>NaN</td>\n      <td>NaN</td>\n      <td>...</td>\n      <td>1.9000</td>\n      <td>20.6000</td>\n      <td>59.5500</td>\n      <td>0.5300</td>\n      <td>69.6600</td>\n      <td>0.6450</td>\n      <td>NaN</td>\n      <td>NaN</td>\n      <td>NaN</td>\n      <td>NaN</td>\n    </tr>\n    <tr>\n      <th>...</th>\n      <td>...</td>\n      <td>...</td>\n      <td>...</td>\n      <td>...</td>\n      <td>...</td>\n      <td>...</td>\n      <td>...</td>\n      <td>...</td>\n      <td>...</td>\n      <td>...</td>\n      <td>...</td>\n      <td>...</td>\n      <td>...</td>\n      <td>...</td>\n      <td>...</td>\n      <td>...</td>\n      <td>...</td>\n      <td>...</td>\n      <td>...</td>\n      <td>...</td>\n      <td>...</td>\n    </tr>\n    <tr>\n      <th>2022-05-15</th>\n      <td>IND</td>\n      <td>Asia</td>\n      <td>India</td>\n      <td>2022-05-15</td>\n      <td>43,123,801.0000</td>\n      <td>2,202.0000</td>\n      <td>2,628.5710</td>\n      <td>524,241.0000</td>\n      <td>27.0000</td>\n      <td>21.1430</td>\n      <td>...</td>\n      <td>1.9000</td>\n      <td>20.6000</td>\n      <td>59.5500</td>\n      <td>0.5300</td>\n      <td>69.6600</td>\n      <td>0.6450</td>\n      <td>NaN</td>\n      <td>NaN</td>\n      <td>NaN</td>\n      <td>NaN</td>\n    </tr>\n    <tr>\n      <th>2022-05-16</th>\n      <td>IND</td>\n      <td>Asia</td>\n      <td>India</td>\n      <td>2022-05-16</td>\n      <td>43,125,370.0000</td>\n      <td>1,569.0000</td>\n      <td>2,525.8570</td>\n      <td>524,260.0000</td>\n      <td>19.0000</td>\n      <td>22.4290</td>\n      <td>...</td>\n      <td>1.9000</td>\n      <td>20.6000</td>\n      <td>59.5500</td>\n      <td>0.5300</td>\n      <td>69.6600</td>\n      <td>0.6450</td>\n      <td>NaN</td>\n      <td>NaN</td>\n      <td>NaN</td>\n      <td>NaN</td>\n    </tr>\n    <tr>\n      <th>2022-05-17</th>\n      <td>IND</td>\n      <td>Asia</td>\n      <td>India</td>\n      <td>2022-05-17</td>\n      <td>43,127,199.0000</td>\n      <td>1,829.0000</td>\n      <td>2,373.2860</td>\n      <td>524,293.0000</td>\n      <td>33.0000</td>\n      <td>19.4290</td>\n      <td>...</td>\n      <td>1.9000</td>\n      <td>20.6000</td>\n      <td>59.5500</td>\n      <td>0.5300</td>\n      <td>69.6600</td>\n      <td>0.6450</td>\n      <td>NaN</td>\n      <td>NaN</td>\n      <td>NaN</td>\n      <td>NaN</td>\n    </tr>\n    <tr>\n      <th>2022-05-18</th>\n      <td>IND</td>\n      <td>Asia</td>\n      <td>India</td>\n      <td>2022-05-18</td>\n      <td>43,129,563.0000</td>\n      <td>2,364.0000</td>\n      <td>2,307.1430</td>\n      <td>524,303.0000</td>\n      <td>10.0000</td>\n      <td>17.4290</td>\n      <td>...</td>\n      <td>1.9000</td>\n      <td>20.6000</td>\n      <td>59.5500</td>\n      <td>0.5300</td>\n      <td>69.6600</td>\n      <td>0.6450</td>\n      <td>NaN</td>\n      <td>NaN</td>\n      <td>NaN</td>\n      <td>NaN</td>\n    </tr>\n    <tr>\n      <th>2022-05-19</th>\n      <td>IND</td>\n      <td>Asia</td>\n      <td>India</td>\n      <td>2022-05-19</td>\n      <td>43,131,822.0000</td>\n      <td>2,259.0000</td>\n      <td>2,224.0000</td>\n      <td>524,323.0000</td>\n      <td>20.0000</td>\n      <td>19.0000</td>\n      <td>...</td>\n      <td>1.9000</td>\n      <td>20.6000</td>\n      <td>59.5500</td>\n      <td>0.5300</td>\n      <td>69.6600</td>\n      <td>0.6450</td>\n      <td>NaN</td>\n      <td>NaN</td>\n      <td>NaN</td>\n      <td>NaN</td>\n    </tr>\n  </tbody>\n</table>\n<p>841 rows × 67 columns</p>\n</div>"
          },
          "metadata": {}
        }
      ]
    },
    {
      "cell_type": "markdown",
      "source": [
        "Let's choose the fields 'new_cases', 'new_cases_smoothed' for forecasting. First of all, we should visualize this data.\n"
      ],
      "metadata": {
        "id": "ZTv5QgLzjolO"
      }
    },
    {
      "cell_type": "code",
      "source": [
        "import matplotlib.pyplot as plt\n",
        "fields = ['new_cases', 'new_cases_smoothed']\n",
        "c_covid[fields].plot()\n",
        "plt.show()"
      ],
      "metadata": {
        "id": "TGc-RyczjolO",
        "execution": {
          "iopub.status.busy": "2024-09-05T01:57:26.35384Z",
          "iopub.execute_input": "2024-09-05T01:57:26.354201Z",
          "iopub.status.idle": "2024-09-05T01:57:26.711599Z",
          "shell.execute_reply.started": "2024-09-05T01:57:26.354161Z",
          "shell.execute_reply": "2024-09-05T01:57:26.710625Z"
        },
        "trusted": true,
        "outputId": "4027e60b-45bd-4cf4-96a9-9dac6b107d95"
      },
      "execution_count": null,
      "outputs": [
        {
          "output_type": "display_data",
          "data": {
            "text/plain": "<Figure size 432x288 with 1 Axes>",
            "image/png": "[encoded data removed]"
          },
          "metadata": {
            "needs_background": "light"
          }
        }
      ]
    },
    {
      "cell_type": "markdown",
      "source": [
        "### Elimination of missing data\n"
      ],
      "metadata": {
        "id": "orrIf1ImjolQ"
      }
    },
    {
      "cell_type": "markdown",
      "source": [
        "As you can see, there are large fluctuations in the new cases plot. Let's try to make a forecast for these waves.\n",
        "First of all, we should delete missing data using **pandas.DataFrame.dropna()**\n"
      ],
      "metadata": {
        "id": "OyOgB9-NjolR"
      }
    },
    {
      "cell_type": "code",
      "source": [
        "c_covid = c_covid[fields].dropna()\n",
        "c_covid"
      ],
      "metadata": {
        "id": "9GwadSLqjolS",
        "execution": {
          "iopub.status.busy": "2024-09-05T01:57:29.563946Z",
          "iopub.execute_input": "2024-09-05T01:57:29.564866Z",
          "iopub.status.idle": "2024-09-05T01:57:29.582148Z",
          "shell.execute_reply.started": "2024-09-05T01:57:29.56482Z",
          "shell.execute_reply": "2024-09-05T01:57:29.581249Z"
        },
        "trusted": true,
        "outputId": "266028e1-da4d-4908-82eb-f38db7c3d3e1"
      },
      "execution_count": null,
      "outputs": [
        {
          "execution_count": 36,
          "output_type": "execute_result",
          "data": {
            "text/plain": "            new_cases  new_cases_smoothed\ndate                                     \n2020-02-04     0.0000              0.4290\n2020-02-05     0.0000              0.4290\n2020-02-06     0.0000              0.2860\n2020-02-07     0.0000              0.2860\n2020-02-08     0.0000              0.2860\n...               ...                 ...\n2022-05-15 2,202.0000          2,628.5710\n2022-05-16 1,569.0000          2,525.8570\n2022-05-17 1,829.0000          2,373.2860\n2022-05-18 2,364.0000          2,307.1430\n2022-05-19 2,259.0000          2,224.0000\n\n[836 rows x 2 columns]",
            "text/html": "<div>\n<style scoped>\n    .dataframe tbody tr th:only-of-type {\n        vertical-align: middle;\n    }\n\n    .dataframe tbody tr th {\n        vertical-align: top;\n    }\n\n    .dataframe thead th {\n        text-align: right;\n    }\n</style>\n<table border=\"1\" class=\"dataframe\">\n  <thead>\n    <tr style=\"text-align: right;\">\n      <th></th>\n      <th>new_cases</th>\n      <th>new_cases_smoothed</th>\n    </tr>\n    <tr>\n      <th>date</th>\n      <th></th>\n      <th></th>\n    </tr>\n  </thead>\n  <tbody>\n    <tr>\n      <th>2020-02-04</th>\n      <td>0.0000</td>\n      <td>0.4290</td>\n    </tr>\n    <tr>\n      <th>2020-02-05</th>\n      <td>0.0000</td>\n      <td>0.4290</td>\n    </tr>\n    <tr>\n      <th>2020-02-06</th>\n      <td>0.0000</td>\n      <td>0.2860</td>\n    </tr>\n    <tr>\n      <th>2020-02-07</th>\n      <td>0.0000</td>\n      <td>0.2860</td>\n    </tr>\n    <tr>\n      <th>2020-02-08</th>\n      <td>0.0000</td>\n      <td>0.2860</td>\n    </tr>\n    <tr>\n      <th>...</th>\n      <td>...</td>\n      <td>...</td>\n    </tr>\n    <tr>\n      <th>2022-05-15</th>\n      <td>2,202.0000</td>\n      <td>2,628.5710</td>\n    </tr>\n    <tr>\n      <th>2022-05-16</th>\n      <td>1,569.0000</td>\n      <td>2,525.8570</td>\n    </tr>\n    <tr>\n      <th>2022-05-17</th>\n      <td>1,829.0000</td>\n      <td>2,373.2860</td>\n    </tr>\n    <tr>\n      <th>2022-05-18</th>\n      <td>2,364.0000</td>\n      <td>2,307.1430</td>\n    </tr>\n    <tr>\n      <th>2022-05-19</th>\n      <td>2,259.0000</td>\n      <td>2,224.0000</td>\n    </tr>\n  </tbody>\n</table>\n<p>836 rows × 2 columns</p>\n</div>"
          },
          "metadata": {}
        }
      ]
    },
    {
      "cell_type": "markdown",
      "source": [
        "### Data transformation\n"
      ],
      "metadata": {
        "id": "0g93hJUJjolT"
      }
    },
    {
      "cell_type": "markdown",
      "source": [
        " To check for dependencies, it is necessary to perform a correlation analysis between them. This requires:\n",
        "\n",
        "1.  duplicating of data and moving it vertically down for a certain number of days (lag)\n",
        "2.  deleting the missing data at the beginning and end **pandas.DataFrame.shift()**\n",
        "3.  calculating the correlation coefficient between the obtained series.\n",
        "\n",
        "It is convenient to create a separate function for lag:\n"
      ],
      "metadata": {
        "id": "kXxia8tOjolT"
      }
    },
    {
      "cell_type": "code",
      "source": [
        "def lag_correlation_ts(y, x, lag):\n",
        "    \"\"\"\n",
        "\n",
        "    y: fixed\n",
        "    x: shifted\n",
        "    lag: lag for shifting\n",
        "    r: DataFrame of lags correlation coefficients\n",
        "    \"\"\"\n",
        "    r = [0] * (lag + 1)\n",
        "    y = y.copy()\n",
        "    x = x.copy()\n",
        "    y.name = \"y\"\n",
        "    x.name = \"x\"\n",
        "\n",
        "    for i in range(0, lag + 1):\n",
        "        ds = y.copy().to_frame()\n",
        "        ds = ds.join(x.shift(i), how='outer')\n",
        "        r[i] = ds.corr().values[0][1]\n",
        "    r = pd.DataFrame(r)\n",
        "    r.index.names = ['Lag']\n",
        "    r.columns = ['Correlation']\n",
        "    return r"
      ],
      "metadata": {
        "id": "TsFjwyuLjolV",
        "execution": {
          "iopub.status.busy": "2024-09-05T01:57:42.053888Z",
          "iopub.execute_input": "2024-09-05T01:57:42.054247Z",
          "iopub.status.idle": "2024-09-05T01:57:42.063188Z",
          "shell.execute_reply.started": "2024-09-05T01:57:42.054189Z",
          "shell.execute_reply": "2024-09-05T01:57:42.06209Z"
        },
        "trusted": true
      },
      "execution_count": null,
      "outputs": []
    },
    {
      "cell_type": "markdown",
      "source": [
        "Let's create a target DataSet.\n"
      ],
      "metadata": {
        "id": "zEWzS05xjolX"
      }
    },
    {
      "cell_type": "code",
      "source": [
        "y_dataset = c_covid['new_cases']\n",
        "y_dataset"
      ],
      "metadata": {
        "id": "x0dTv-hAjolY",
        "execution": {
          "iopub.status.busy": "2024-09-05T01:57:45.767394Z",
          "iopub.execute_input": "2024-09-05T01:57:45.768352Z",
          "iopub.status.idle": "2024-09-05T01:57:45.780921Z",
          "shell.execute_reply.started": "2024-09-05T01:57:45.768301Z",
          "shell.execute_reply": "2024-09-05T01:57:45.779744Z"
        },
        "trusted": true,
        "outputId": "a940e6b7-786a-4593-a7be-221dcae0ccc9"
      },
      "execution_count": null,
      "outputs": [
        {
          "execution_count": 38,
          "output_type": "execute_result",
          "data": {
            "text/plain": "date\n2020-02-04       0.0000\n2020-02-05       0.0000\n2020-02-06       0.0000\n2020-02-07       0.0000\n2020-02-08       0.0000\n                ...    \n2022-05-15   2,202.0000\n2022-05-16   1,569.0000\n2022-05-17   1,829.0000\n2022-05-18   2,364.0000\n2022-05-19   2,259.0000\nName: new_cases, Length: 836, dtype: float64"
          },
          "metadata": {}
        }
      ]
    },
    {
      "cell_type": "markdown",
      "source": [
        "Let's test a 50-day lag.\n"
      ],
      "metadata": {
        "id": "LxE_B-hWjolY"
      }
    },
    {
      "cell_type": "code",
      "source": [
        "pd.options.display.float_format = '{:,.4f}'.format\n",
        "l = pd.DataFrame(lag_correlation_ts(y_dataset, y_dataset, 50))\n",
        "print(l)\n",
        "l.plot()"
      ],
      "metadata": {
        "id": "Q5JvTDvPjolZ",
        "execution": {
          "iopub.status.busy": "2024-09-05T01:57:48.690962Z",
          "iopub.execute_input": "2024-09-05T01:57:48.691439Z",
          "iopub.status.idle": "2024-09-05T01:57:48.976629Z",
          "shell.execute_reply.started": "2024-09-05T01:57:48.691397Z",
          "shell.execute_reply": "2024-09-05T01:57:48.975599Z"
        },
        "trusted": true,
        "outputId": "7cf87c6f-9ea8-4ef8-daec-24bb819bebb4"
      },
      "execution_count": null,
      "outputs": [
        {
          "name": "stdout",
          "text": "     Correlation\nLag             \n0         1.0000\n1         0.9947\n2         0.9867\n3         0.9783\n4         0.9680\n5         0.9562\n6         0.9440\n7         0.9289\n8         0.9065\n9         0.8820\n10        0.8580\n11        0.8334\n12        0.8080\n13        0.7834\n14        0.7566\n15        0.7248\n16        0.6928\n17        0.6625\n18        0.6325\n19        0.6030\n20        0.5753\n21        0.5471\n22        0.5156\n23        0.4851\n24        0.4572\n25        0.4302\n26        0.4044\n27        0.3805\n28        0.3567\n29        0.3309\n30        0.3062\n31        0.2839\n32        0.2625\n33        0.2422\n34        0.2235\n35        0.2051\n36        0.1847\n37        0.1656\n38        0.1484\n39        0.1318\n40        0.1162\n41        0.1023\n42        0.0884\n43        0.0728\n44        0.0583\n45        0.0453\n46        0.0330\n47        0.0212\n48        0.0110\n49        0.0008\n50       -0.0110\n",
          "output_type": "stream"
        },
        {
          "execution_count": 39,
          "output_type": "execute_result",
          "data": {
            "text/plain": "<AxesSubplot:xlabel='Lag'>"
          },
          "metadata": {}
        },
        {
          "output_type": "display_data",
          "data": {
            "text/plain": "<Figure size 432x288 with 1 Axes>",
            "image/png": "[encoded data removed]"
          },
          "metadata": {
            "needs_background": "light"
          }
        }
      ]
    },
    {
      "cell_type": "markdown",
      "source": [
        "To automate this process, let's make a universal function for time series transformation to create this DataSet.\n"
      ],
      "metadata": {
        "id": "-eZ9tcidjola"
      }
    },
    {
      "cell_type": "code",
      "source": [
        "def series_to_supervised(in_data, tar_data, n_in=1, dropnan=True, target_dep=False):\n",
        "\n",
        "    n_vars = in_data.shape[1]\n",
        "    cols, names = list(), list()\n",
        "\n",
        "    if target_dep:\n",
        "        i_start = 1\n",
        "    else:\n",
        "        i_start = 0\n",
        "    for i in range(i_start, n_in + 1):\n",
        "        cols.append(in_data.shift(i))\n",
        "        names += [('%s(t-%d)' % (in_data.columns[j], i)) for j in range(n_vars)]\n",
        "\n",
        "    if target_dep:\n",
        "        for i in range(n_in, -1, -1):\n",
        "            cols.append(tar_data.shift(i))\n",
        "            names += [('%s(t-%d)' % (tar_data.name, i))]\n",
        "    else:\n",
        "        # put it all together\n",
        "        cols.append(tar_data)\n",
        "        names.append(tar_data.name)\n",
        "    agg = pd.concat(cols, axis=1)\n",
        "    agg.columns = names\n",
        "\n",
        "    # drop rows with NaN values\n",
        "    if dropnan:\n",
        "        agg.dropna(inplace=True)\n",
        "\n",
        "    return agg"
      ],
      "metadata": {
        "id": "D6AFsIPsjolb",
        "execution": {
          "iopub.status.busy": "2024-09-05T01:57:53.606758Z",
          "iopub.execute_input": "2024-09-05T01:57:53.607079Z",
          "iopub.status.idle": "2024-09-05T01:57:53.618823Z",
          "shell.execute_reply.started": "2024-09-05T01:57:53.607037Z",
          "shell.execute_reply": "2024-09-05T01:57:53.617644Z"
        },
        "trusted": true
      },
      "execution_count": null,
      "outputs": []
    },
    {
      "cell_type": "markdown",
      "source": [
        " When forecasting time series, the input and output fields are the same, only shifted by the lag.\n"
      ],
      "metadata": {
        "id": "Rz7l6YB7jolc"
      }
    },
    {
      "cell_type": "code",
      "source": [
        "dataset = series_to_supervised(pd.DataFrame(y_dataset), y_dataset, 14)\n",
        "dataset"
      ],
      "metadata": {
        "id": "aUQorOh_jolc",
        "execution": {
          "iopub.status.busy": "2024-09-05T01:58:15.358697Z",
          "iopub.execute_input": "2024-09-05T01:58:15.359647Z",
          "iopub.status.idle": "2024-09-05T01:58:15.393515Z",
          "shell.execute_reply.started": "2024-09-05T01:58:15.359593Z",
          "shell.execute_reply": "2024-09-05T01:58:15.392517Z"
        },
        "trusted": true,
        "outputId": "e3b42654-ace9-4271-9187-d17e302925aa"
      },
      "execution_count": null,
      "outputs": [
        {
          "execution_count": 41,
          "output_type": "execute_result",
          "data": {
            "text/plain": "            new_cases(t-0)  new_cases(t-1)  new_cases(t-2)  new_cases(t-3)  \\\ndate                                                                         \n2020-02-18          0.0000          0.0000          0.0000          0.0000   \n2020-02-19          0.0000          0.0000          0.0000          0.0000   \n2020-02-20          0.0000          0.0000          0.0000          0.0000   \n2020-02-21          0.0000          0.0000          0.0000          0.0000   \n2020-02-22          0.0000          0.0000          0.0000          0.0000   \n...                    ...             ...             ...             ...   \n2022-05-15      2,202.0000      2,487.0000      2,858.0000      2,841.0000   \n2022-05-16      1,569.0000      2,202.0000      2,487.0000      2,858.0000   \n2022-05-17      1,829.0000      1,569.0000      2,202.0000      2,487.0000   \n2022-05-18      2,364.0000      1,829.0000      1,569.0000      2,202.0000   \n2022-05-19      2,259.0000      2,364.0000      1,829.0000      1,569.0000   \n\n            new_cases(t-4)  new_cases(t-5)  new_cases(t-6)  new_cases(t-7)  \\\ndate                                                                         \n2020-02-18          0.0000          0.0000          0.0000          0.0000   \n2020-02-19          0.0000          0.0000          0.0000          0.0000   \n2020-02-20          0.0000          0.0000          0.0000          0.0000   \n2020-02-21          0.0000          0.0000          0.0000          0.0000   \n2020-02-22          0.0000          0.0000          0.0000          0.0000   \n...                    ...             ...             ...             ...   \n2022-05-15      2,827.0000      2,897.0000      2,288.0000      3,207.0000   \n2022-05-16      2,841.0000      2,827.0000      2,897.0000      2,288.0000   \n2022-05-17      2,858.0000      2,841.0000      2,827.0000      2,897.0000   \n2022-05-18      2,487.0000      2,858.0000      2,841.0000      2,827.0000   \n2022-05-19      2,202.0000      2,487.0000      2,858.0000      2,841.0000   \n\n            new_cases(t-8)  new_cases(t-9)  new_cases(t-10)  new_cases(t-11)  \\\ndate                                                                           \n2020-02-18          0.0000          0.0000           0.0000           0.0000   \n2020-02-19          0.0000          0.0000           0.0000           0.0000   \n2020-02-20          0.0000          0.0000           0.0000           0.0000   \n2020-02-21          0.0000          0.0000           0.0000           0.0000   \n2020-02-22          0.0000          0.0000           0.0000           0.0000   \n...                    ...             ...              ...              ...   \n2022-05-15      3,451.0000      3,805.0000       3,545.0000       3,275.0000   \n2022-05-16      3,207.0000      3,451.0000       3,805.0000       3,545.0000   \n2022-05-17      2,288.0000      3,207.0000       3,451.0000       3,805.0000   \n2022-05-18      2,897.0000      2,288.0000       3,207.0000       3,451.0000   \n2022-05-19      2,827.0000      2,897.0000       2,288.0000       3,207.0000   \n\n            new_cases(t-12)  new_cases(t-13)  new_cases(t-14)  new_cases  \ndate                                                                      \n2020-02-18           0.0000           0.0000           0.0000     0.0000  \n2020-02-19           0.0000           0.0000           0.0000     0.0000  \n2020-02-20           0.0000           0.0000           0.0000     0.0000  \n2020-02-21           0.0000           0.0000           0.0000     0.0000  \n2020-02-22           0.0000           0.0000           0.0000     0.0000  \n...                     ...              ...              ...        ...  \n2022-05-15       3,205.0000       2,568.0000       3,157.0000 2,202.0000  \n2022-05-16       3,275.0000       3,205.0000       2,568.0000 1,569.0000  \n2022-05-17       3,545.0000       3,275.0000       3,205.0000 1,829.0000  \n2022-05-18       3,805.0000       3,545.0000       3,275.0000 2,364.0000  \n2022-05-19       3,451.0000       3,805.0000       3,545.0000 2,259.0000  \n\n[822 rows x 16 columns]",
            "text/html": "<div>\n<style scoped>\n    .dataframe tbody tr th:only-of-type {\n        vertical-align: middle;\n    }\n\n    .dataframe tbody tr th {\n        vertical-align: top;\n    }\n\n    .dataframe thead th {\n        text-align: right;\n    }\n</style>\n<table border=\"1\" class=\"dataframe\">\n  <thead>\n    <tr style=\"text-align: right;\">\n      <th></th>\n      <th>new_cases(t-0)</th>\n      <th>new_cases(t-1)</th>\n      <th>new_cases(t-2)</th>\n      <th>new_cases(t-3)</th>\n      <th>new_cases(t-4)</th>\n      <th>new_cases(t-5)</th>\n      <th>new_cases(t-6)</th>\n      <th>new_cases(t-7)</th>\n      <th>new_cases(t-8)</th>\n      <th>new_cases(t-9)</th>\n      <th>new_cases(t-10)</th>\n      <th>new_cases(t-11)</th>\n      <th>new_cases(t-12)</th>\n      <th>new_cases(t-13)</th>\n      <th>new_cases(t-14)</th>\n      <th>new_cases</th>\n    </tr>\n    <tr>\n      <th>date</th>\n      <th></th>\n      <th></th>\n      <th></th>\n      <th></th>\n      <th></th>\n      <th></th>\n      <th></th>\n      <th></th>\n      <th></th>\n      <th></th>\n      <th></th>\n      <th></th>\n      <th></th>\n      <th></th>\n      <th></th>\n      <th></th>\n    </tr>\n  </thead>\n  <tbody>\n    <tr>\n      <th>2020-02-18</th>\n      <td>0.0000</td>\n      <td>0.0000</td>\n      <td>0.0000</td>\n      <td>0.0000</td>\n      <td>0.0000</td>\n      <td>0.0000</td>\n      <td>0.0000</td>\n      <td>0.0000</td>\n      <td>0.0000</td>\n      <td>0.0000</td>\n      <td>0.0000</td>\n      <td>0.0000</td>\n      <td>0.0000</td>\n      <td>0.0000</td>\n      <td>0.0000</td>\n      <td>0.0000</td>\n    </tr>\n    <tr>\n      <th>2020-02-19</th>\n      <td>0.0000</td>\n      <td>0.0000</td>\n      <td>0.0000</td>\n      <td>0.0000</td>\n      <td>0.0000</td>\n      <td>0.0000</td>\n      <td>0.0000</td>\n      <td>0.0000</td>\n      <td>0.0000</td>\n      <td>0.0000</td>\n      <td>0.0000</td>\n      <td>0.0000</td>\n      <td>0.0000</td>\n      <td>0.0000</td>\n      <td>0.0000</td>\n      <td>0.0000</td>\n    </tr>\n    <tr>\n      <th>2020-02-20</th>\n      <td>0.0000</td>\n      <td>0.0000</td>\n      <td>0.0000</td>\n      <td>0.0000</td>\n      <td>0.0000</td>\n      <td>0.0000</td>\n      <td>0.0000</td>\n      <td>0.0000</td>\n      <td>0.0000</td>\n      <td>0.0000</td>\n      <td>0.0000</td>\n      <td>0.0000</td>\n      <td>0.0000</td>\n      <td>0.0000</td>\n      <td>0.0000</td>\n      <td>0.0000</td>\n    </tr>\n    <tr>\n      <th>2020-02-21</th>\n      <td>0.0000</td>\n      <td>0.0000</td>\n      <td>0.0000</td>\n      <td>0.0000</td>\n      <td>0.0000</td>\n      <td>0.0000</td>\n      <td>0.0000</td>\n      <td>0.0000</td>\n      <td>0.0000</td>\n      <td>0.0000</td>\n      <td>0.0000</td>\n      <td>0.0000</td>\n      <td>0.0000</td>\n      <td>0.0000</td>\n      <td>0.0000</td>\n      <td>0.0000</td>\n    </tr>\n    <tr>\n      <th>2020-02-22</th>\n      <td>0.0000</td>\n      <td>0.0000</td>\n      <td>0.0000</td>\n      <td>0.0000</td>\n      <td>0.0000</td>\n      <td>0.0000</td>\n      <td>0.0000</td>\n      <td>0.0000</td>\n      <td>0.0000</td>\n      <td>0.0000</td>\n      <td>0.0000</td>\n      <td>0.0000</td>\n      <td>0.0000</td>\n      <td>0.0000</td>\n      <td>0.0000</td>\n      <td>0.0000</td>\n    </tr>\n    <tr>\n      <th>...</th>\n      <td>...</td>\n      <td>...</td>\n      <td>...</td>\n      <td>...</td>\n      <td>...</td>\n      <td>...</td>\n      <td>...</td>\n      <td>...</td>\n      <td>...</td>\n      <td>...</td>\n      <td>...</td>\n      <td>...</td>\n      <td>...</td>\n      <td>...</td>\n      <td>...</td>\n      <td>...</td>\n    </tr>\n    <tr>\n      <th>2022-05-15</th>\n      <td>2,202.0000</td>\n      <td>2,487.0000</td>\n      <td>2,858.0000</td>\n      <td>2,841.0000</td>\n      <td>2,827.0000</td>\n      <td>2,897.0000</td>\n      <td>2,288.0000</td>\n      <td>3,207.0000</td>\n      <td>3,451.0000</td>\n      <td>3,805.0000</td>\n      <td>3,545.0000</td>\n      <td>3,275.0000</td>\n      <td>3,205.0000</td>\n      <td>2,568.0000</td>\n      <td>3,157.0000</td>\n      <td>2,202.0000</td>\n    </tr>\n    <tr>\n      <th>2022-05-16</th>\n      <td>1,569.0000</td>\n      <td>2,202.0000</td>\n      <td>2,487.0000</td>\n      <td>2,858.0000</td>\n      <td>2,841.0000</td>\n      <td>2,827.0000</td>\n      <td>2,897.0000</td>\n      <td>2,288.0000</td>\n      <td>3,207.0000</td>\n      <td>3,451.0000</td>\n      <td>3,805.0000</td>\n      <td>3,545.0000</td>\n      <td>3,275.0000</td>\n      <td>3,205.0000</td>\n      <td>2,568.0000</td>\n      <td>1,569.0000</td>\n    </tr>\n    <tr>\n      <th>2022-05-17</th>\n      <td>1,829.0000</td>\n      <td>1,569.0000</td>\n      <td>2,202.0000</td>\n      <td>2,487.0000</td>\n      <td>2,858.0000</td>\n      <td>2,841.0000</td>\n      <td>2,827.0000</td>\n      <td>2,897.0000</td>\n      <td>2,288.0000</td>\n      <td>3,207.0000</td>\n      <td>3,451.0000</td>\n      <td>3,805.0000</td>\n      <td>3,545.0000</td>\n      <td>3,275.0000</td>\n      <td>3,205.0000</td>\n      <td>1,829.0000</td>\n    </tr>\n    <tr>\n      <th>2022-05-18</th>\n      <td>2,364.0000</td>\n      <td>1,829.0000</td>\n      <td>1,569.0000</td>\n      <td>2,202.0000</td>\n      <td>2,487.0000</td>\n      <td>2,858.0000</td>\n      <td>2,841.0000</td>\n      <td>2,827.0000</td>\n      <td>2,897.0000</td>\n      <td>2,288.0000</td>\n      <td>3,207.0000</td>\n      <td>3,451.0000</td>\n      <td>3,805.0000</td>\n      <td>3,545.0000</td>\n      <td>3,275.0000</td>\n      <td>2,364.0000</td>\n    </tr>\n    <tr>\n      <th>2022-05-19</th>\n      <td>2,259.0000</td>\n      <td>2,364.0000</td>\n      <td>1,829.0000</td>\n      <td>1,569.0000</td>\n      <td>2,202.0000</td>\n      <td>2,487.0000</td>\n      <td>2,858.0000</td>\n      <td>2,841.0000</td>\n      <td>2,827.0000</td>\n      <td>2,897.0000</td>\n      <td>2,288.0000</td>\n      <td>3,207.0000</td>\n      <td>3,451.0000</td>\n      <td>3,805.0000</td>\n      <td>3,545.0000</td>\n      <td>2,259.0000</td>\n    </tr>\n  </tbody>\n</table>\n<p>822 rows × 16 columns</p>\n</div>"
          },
          "metadata": {}
        }
      ]
    },
    {
      "cell_type": "markdown",
      "source": [
        "As you can see, the first and last columns contain the same target data.\n",
        "Now we should create input (**X**) and output (**Y**) .\n"
      ],
      "metadata": {
        "id": "uyhomtQOjold"
      }
    },
    {
      "cell_type": "code",
      "source": [
        "col = dataset.columns\n",
        "X, Y = dataset[col[1:-1]], dataset[col[-1]]\n",
        "print(\"Input: \", X.columns)\n",
        "print(\"Target:\", Y.name)"
      ],
      "metadata": {
        "id": "HfNkGMxYjold",
        "execution": {
          "iopub.status.busy": "2024-09-05T01:58:19.885272Z",
          "iopub.execute_input": "2024-09-05T01:58:19.886161Z",
          "iopub.status.idle": "2024-09-05T01:58:19.894862Z",
          "shell.execute_reply.started": "2024-09-05T01:58:19.886115Z",
          "shell.execute_reply": "2024-09-05T01:58:19.893818Z"
        },
        "trusted": true,
        "outputId": "d23929c1-d933-41c5-bce9-7b495e573b69"
      },
      "execution_count": null,
      "outputs": [
        {
          "name": "stdout",
          "text": "Input:  Index(['new_cases(t-1)', 'new_cases(t-2)', 'new_cases(t-3)', 'new_cases(t-4)',\n       'new_cases(t-5)', 'new_cases(t-6)', 'new_cases(t-7)', 'new_cases(t-8)',\n       'new_cases(t-9)', 'new_cases(t-10)', 'new_cases(t-11)',\n       'new_cases(t-12)', 'new_cases(t-13)', 'new_cases(t-14)'],\n      dtype='object')\nTarget: new_cases\n",
          "output_type": "stream"
        }
      ]
    },
    {
      "cell_type": "markdown",
      "source": [
        "### Data normalization\n"
      ],
      "metadata": {
        "id": "Fe_XPrg2jole"
      }
    },
    {
      "cell_type": "markdown",
      "source": [
        "After that, we should normalize all the data. To do this, the **sklearn.preprocessing.MinMaxScaler** module should be used.\n",
        "It allows us to normalize **fit_transform()** and convert back all the data easily: **inverse_transform()**.\n"
      ],
      "metadata": {
        "id": "BDsWx7rHjolf"
      }
    },
    {
      "cell_type": "code",
      "source": [
        "from sklearn.preprocessing import MinMaxScaler\n",
        "scaler_x = MinMaxScaler(feature_range=(0, 1))\n",
        "scaler_y = MinMaxScaler(feature_range=(0, 1))\n",
        "\n",
        "scaled_x = scaler_x.fit_transform(X)\n",
        "scaled_y = scaler_y.fit_transform(Y.values.reshape(-1, 1))"
      ],
      "metadata": {
        "id": "33T04gPBjolf",
        "execution": {
          "iopub.status.busy": "2024-09-05T01:58:24.292279Z",
          "iopub.execute_input": "2024-09-05T01:58:24.292617Z",
          "iopub.status.idle": "2024-09-05T01:58:24.304554Z",
          "shell.execute_reply.started": "2024-09-05T01:58:24.292579Z",
          "shell.execute_reply": "2024-09-05T01:58:24.303328Z"
        },
        "trusted": true
      },
      "execution_count": null,
      "outputs": []
    },
    {
      "cell_type": "markdown",
      "source": [
        "After that, we are going to form training and test DataSets using **sklearn.model_selection.train_test_split()**.\n",
        "\n",
        "We will make them at the ratio of 73/27. Without shuffling. It means, that test samples are located in the end of **X** and **Y** DataSets.\n",
        "\n",
        "Input normalized DataSets: **X_train, X_test**\n",
        "\n",
        "Target normalized DataSets: **y_train, y_test**\n"
      ],
      "metadata": {
        "id": "1S3RMN93jolg"
      }
    },
    {
      "cell_type": "code",
      "source": [
        "from sklearn.model_selection import train_test_split\n",
        "X_train, X_test, y_train, y_test = train_test_split(scaled_x, scaled_y, test_size=0.32, shuffle=False)"
      ],
      "metadata": {
        "id": "5PCYCVmOjoli",
        "execution": {
          "iopub.status.busy": "2024-09-05T01:58:28.224156Z",
          "iopub.execute_input": "2024-09-05T01:58:28.225085Z",
          "iopub.status.idle": "2024-09-05T01:58:28.230703Z",
          "shell.execute_reply.started": "2024-09-05T01:58:28.225042Z",
          "shell.execute_reply": "2024-09-05T01:58:28.229723Z"
        },
        "trusted": true
      },
      "execution_count": null,
      "outputs": []
    },
    {
      "cell_type": "markdown",
      "source": [
        "All the data is normalized now. However, in order to compare to results, we need real scale data of the training and test DataSet:\n"
      ],
      "metadata": {
        "id": "tMMBy15ejolk"
      }
    },
    {
      "cell_type": "code",
      "source": [
        "res_train = scaler_y.inverse_transform(y_train).flatten()\n",
        "res_test = scaler_y.inverse_transform(y_test).flatten()"
      ],
      "metadata": {
        "id": "6GNfTSkcjoll",
        "execution": {
          "iopub.status.busy": "2024-09-05T01:58:31.495057Z",
          "iopub.execute_input": "2024-09-05T01:58:31.495939Z",
          "iopub.status.idle": "2024-09-05T01:58:31.501993Z",
          "shell.execute_reply.started": "2024-09-05T01:58:31.495886Z",
          "shell.execute_reply": "2024-09-05T01:58:31.500956Z"
        },
        "trusted": true
      },
      "execution_count": null,
      "outputs": []
    },
    {
      "cell_type": "markdown",
      "source": [
        "Target real scale DataSets: **res_train, res_test**.\n"
      ],
      "metadata": {
        "id": "Ir65XC3ujoln"
      }
    },
    {
      "cell_type": "markdown",
      "source": [
        "# Linear Regression\n"
      ],
      "metadata": {
        "id": "parEDxGDjoln"
      }
    },
    {
      "cell_type": "markdown",
      "source": [
        "First of all, we should create a model. We will test three type of models. A Linear regression, a Multilayer Neural Network with Backpropagation and a Long Short-Term Memory Neural Network.\n",
        "Let's create a **LinearRegression()**\n"
      ],
      "metadata": {
        "id": "5h7sFVjXjolo"
      }
    },
    {
      "cell_type": "code",
      "source": [
        "from sklearn.linear_model import LinearRegression\n",
        "regressor = LinearRegression()"
      ],
      "metadata": {
        "id": "bYQ4Lq0Yjolo",
        "execution": {
          "iopub.status.busy": "2024-09-05T01:58:43.233732Z",
          "iopub.execute_input": "2024-09-05T01:58:43.23499Z",
          "iopub.status.idle": "2024-09-05T01:58:43.23925Z",
          "shell.execute_reply.started": "2024-09-05T01:58:43.234925Z",
          "shell.execute_reply": "2024-09-05T01:58:43.238292Z"
        },
        "trusted": true
      },
      "execution_count": null,
      "outputs": []
    },
    {
      "cell_type": "markdown",
      "source": [
        "After that, our model should be fitted on the training DataSet. Regardless of the model type, the function fit() is used to do this.\n"
      ],
      "metadata": {
        "id": "KjZOYP67jolp"
      }
    },
    {
      "cell_type": "code",
      "source": [
        "regressor.fit(X_train, y_train)"
      ],
      "metadata": {
        "id": "1Jo2bfiljolq",
        "execution": {
          "iopub.status.busy": "2024-09-05T01:58:46.19405Z",
          "iopub.execute_input": "2024-09-05T01:58:46.194817Z",
          "iopub.status.idle": "2024-09-05T01:58:46.203475Z",
          "shell.execute_reply.started": "2024-09-05T01:58:46.194767Z",
          "shell.execute_reply": "2024-09-05T01:58:46.20253Z"
        },
        "trusted": true,
        "outputId": "df8c378a-7dc4-4c80-c767-5af85ef47da6"
      },
      "execution_count": null,
      "outputs": [
        {
          "execution_count": 47,
          "output_type": "execute_result",
          "data": {
            "text/plain": "LinearRegression()"
          },
          "metadata": {}
        }
      ]
    },
    {
      "cell_type": "markdown",
      "source": [
        "Then we can test it on the test DataSet and use it for prognostication.\n"
      ],
      "metadata": {
        "id": "lbkIVFfSjolq"
      }
    },
    {
      "cell_type": "code",
      "source": [
        "y_pred_test_ln = regressor.predict(X_test)\n",
        "y_pred_test_ln = scaler_y.inverse_transform(y_pred_test_ln).flatten()"
      ],
      "metadata": {
        "id": "SWoFdKSIjolr",
        "execution": {
          "iopub.status.busy": "2024-09-05T01:58:48.158406Z",
          "iopub.execute_input": "2024-09-05T01:58:48.159626Z",
          "iopub.status.idle": "2024-09-05T01:58:48.171449Z",
          "shell.execute_reply.started": "2024-09-05T01:58:48.159565Z",
          "shell.execute_reply": "2024-09-05T01:58:48.170078Z"
        },
        "trusted": true
      },
      "execution_count": null,
      "outputs": []
    },
    {
      "cell_type": "markdown",
      "source": [
        "Let's analyze the results accuracy using **sklearn.metrics**.\n"
      ],
      "metadata": {
        "id": "4F7iRfRljolr"
      }
    },
    {
      "cell_type": "code",
      "source": [
        "from sklearn import metrics\n",
        "print(\"Correlation train\", regressor.score(X_train, y_train))\n",
        "print(\"Correlation test\", regressor.score(X_test, y_test))\n",
        "print('Mean Absolute Error:', metrics.mean_absolute_error(y_test, y_pred_test_ln))\n",
        "print('Mean Squared Error:', metrics.mean_squared_error(y_test, y_pred_test_ln))\n",
        "print('Root Mean Squared Error:', np.sqrt(metrics.mean_squared_error(y_test, y_pred_test_ln)))"
      ],
      "metadata": {
        "id": "rOrh-hlajols",
        "execution": {
          "iopub.status.busy": "2024-09-05T01:58:50.161204Z",
          "iopub.execute_input": "2024-09-05T01:58:50.162085Z",
          "iopub.status.idle": "2024-09-05T01:58:50.174142Z",
          "shell.execute_reply.started": "2024-09-05T01:58:50.162041Z",
          "shell.execute_reply": "2024-09-05T01:58:50.173336Z"
        },
        "trusted": true,
        "outputId": "d9dbeaa5-fd79-4391-8ad3-1bcf874919f9"
      },
      "execution_count": null,
      "outputs": [
        {
          "name": "stdout",
          "text": "Correlation train 0.9966993360861955\nCorrelation test 0.9887010809896141\nMean Absolute Error: 39825.00426717726\nMean Squared Error: 7272313854.298441\nRoot Mean Squared Error: 85277.8626274043\n",
          "output_type": "stream"
        }
      ]
    },
    {
      "cell_type": "markdown",
      "source": [
        "# Back Propagation NN\n"
      ],
      "metadata": {
        "id": "FyaTCujkjols"
      }
    },
    {
      "cell_type": "markdown",
      "source": [
        "The modern approach to the establishment of complex functional dependencies is the use of neural networks. A classical neural network is a **multilayer neural network with back propagation**.\n",
        "\n",
        "To do this, we will use the **keras** framework.\n",
        "First of all, we should create a Neural Network model as a separate function.\n",
        "\n",
        "A neural network is a sequence of layers. The function **Sequential()** is used to create a network.\n",
        "\n",
        "Let's create a network that consists of 2 hidden layers. Each of which consists of 100 neurons. **keras.layers.Dense()**.\n",
        "\n",
        "To avoid retraining problems, we will use additional layers **keras.layers.Dropout()**.\n",
        "\n",
        "The output layer will consist of one neuron, since we have only one value at the output.\n",
        "\n",
        "The model should be compiled for fitting and predicting: **keras.Model.compile()**.\n"
      ],
      "metadata": {
        "id": "BP7FKPRVjolt"
      }
    },
    {
      "cell_type": "code",
      "source": [
        "def BP_model(X):\n",
        "    \"\"\"\n",
        "    Multilayer neural network with back propagation.\n",
        "    X: Input DataSet\n",
        "    return: keras NN model\n",
        "    \"\"\"\n",
        "    # create model\n",
        "    model = Sequential()\n",
        "    model.add(Dense(100, input_dim=X.shape[1], kernel_initializer='normal', activation='relu'))\n",
        "    model.add(Dropout(0.2))\n",
        "    model.add(Dense(100, kernel_initializer='normal', activation='relu'))\n",
        "    model.add(Dropout(0.2))\n",
        "    model.add(Dense(1, kernel_initializer='normal'))\n",
        "    # Compile model\n",
        "    model.compile(loss='mean_squared_error', optimizer='adam')\n",
        "    return model"
      ],
      "metadata": {
        "id": "InbG_JsPjolt",
        "execution": {
          "iopub.status.busy": "2024-09-05T01:58:53.071015Z",
          "iopub.execute_input": "2024-09-05T01:58:53.071387Z",
          "iopub.status.idle": "2024-09-05T01:58:53.079884Z",
          "shell.execute_reply.started": "2024-09-05T01:58:53.071348Z",
          "shell.execute_reply": "2024-09-05T01:58:53.078879Z"
        },
        "trusted": true
      },
      "execution_count": null,
      "outputs": []
    },
    {
      "cell_type": "markdown",
      "source": [
        "Once the model function is built, it is necessary to create a neural network directly and specify the learning parameters: **keras.wrappers.scikit_learn.KerasRegressor()**.\n",
        "\n",
        "Also we should define the number of fitting **epoch and batch size**.\n"
      ],
      "metadata": {
        "id": "k27IMZkejolu"
      }
    },
    {
      "cell_type": "code",
      "source": [
        "from keras.wrappers.scikit_learn import KerasRegressor\n",
        "from keras.models import Sequential\n",
        "from keras.layers import Dense\n",
        "from keras.layers import Dropout\n",
        "epochs = 1000\n",
        "\n",
        "batch_size=int(y_train.shape[0]*.1)\n",
        "\n",
        "estimator = KerasRegressor(build_fn=BP_model, X=X_train, epochs=epochs, batch_size=batch_size, verbose=1)"
      ],
      "metadata": {
        "id": "ebZl4TYHjolu",
        "execution": {
          "iopub.status.busy": "2024-09-05T01:59:00.267657Z",
          "iopub.execute_input": "2024-09-05T01:59:00.268038Z",
          "iopub.status.idle": "2024-09-05T01:59:00.275924Z",
          "shell.execute_reply.started": "2024-09-05T01:59:00.267993Z",
          "shell.execute_reply": "2024-09-05T01:59:00.274957Z"
        },
        "trusted": true
      },
      "execution_count": null,
      "outputs": []
    },
    {
      "cell_type": "markdown",
      "source": [
        "Now, let’s train our model for **1000** epochs.\n",
        "It should be noted that the fitting process is very slow. Therefore, we saved our fitted model to a file.\n",
        "To save time, we will upload the fitted model.\n",
        "If you like, you can leave the parameter **fitting on True** to refit the model.\n",
        "If you like, you can leave the parameter **fitting_save on True** to resave the model.\n"
      ],
      "metadata": {
        "id": "LNuDkJ0Mjol2"
      }
    },
    {
      "cell_type": "code",
      "source": [
        "fitting = True\n",
        "fitting_save = True\n",
        "\n",
        "import pickle\n",
        "\n",
        "if fitting:\n",
        "    history=estimator.fit(X_train,y_train, validation_data=(X_test,y_test)) # Fitting model\n",
        "    if fitting_save:\n",
        "        # Save model\n",
        "        estimator.model.save('BP_saved_model.h5')\n",
        "        print(\"Saved model to disk\")\n",
        "        with open('history.pickle', 'wb') as f:\n",
        "            pickle.dump(history.history, f)\n",
        "# load model\n",
        "from keras.models import load_model\n",
        "estimator = KerasRegressor(build_fn=BP_model, X=X_train, epochs=epochs, batch_size=batch_size, verbose=1)\n",
        "estimator.model = load_model('BP_saved_model.h5')\n",
        "with open('history.pickle', 'rb') as f:\n",
        "    history = pickle.load(f)\n",
        "print(\"Loaded model from disk\")"
      ],
      "metadata": {
        "id": "haQXc1LTjol2",
        "execution": {
          "iopub.status.busy": "2024-09-05T01:59:02.461602Z",
          "iopub.execute_input": "2024-09-05T01:59:02.461924Z",
          "iopub.status.idle": "2024-09-05T02:00:17.710086Z",
          "shell.execute_reply.started": "2024-09-05T01:59:02.461891Z",
          "shell.execute_reply": "2024-09-05T02:00:17.70901Z"
        },
        "trusted": true,
        "outputId": "d5615cb5-fcb5-4f16-b9f6-bad3d6a17f82"
      },
      "execution_count": null,
      "outputs": [
        {
          "name": "stdout",
          "text": "Epoch 1/1000\n11/11 [==============================] - 1s 40ms/step - loss: 0.0376 - val_loss: 0.0144\nEpoch 2/1000\n11/11 [==============================] - 0s 6ms/step - loss: 0.0094 - val_loss: 0.0132\nEpoch 3/1000\n11/11 [==============================] - 0s 6ms/step - loss: 0.0055 - val_loss: 0.0071\nEpoch 4/1000\n11/11 [==============================] - 0s 6ms/step - loss: 0.0044 - val_loss: 0.0065\nEpoch 5/1000\n11/11 [==============================] - 0s 6ms/step - loss: 0.0032 - val_loss: 0.0051\nEpoch 6/1000\n11/11 [==============================] - 0s 6ms/step - loss: 0.0029 - val_loss: 0.0043\nEpoch 7/1000\n11/11 [==============================] - 0s 6ms/step - loss: 0.0024 - val_loss: 0.0035\nEpoch 8/1000\n11/11 [==============================] - 0s 6ms/step - loss: 0.0025 - val_loss: 0.0028\nEpoch 9/1000\n11/11 [==============================] - 0s 6ms/step - loss: 0.0024 - val_loss: 0.0030\nEpoch 10/1000\n11/11 [==============================] - 0s 6ms/step - loss: 0.0018 - val_loss: 0.0018\nEpoch 11/1000\n11/11 [==============================] - 0s 6ms/step - loss: 0.0019 - val_loss: 0.0018\nEpoch 12/1000\n11/11 [==============================] - 0s 6ms/step - loss: 0.0013 - val_loss: 0.0014\nEpoch 13/1000\n11/11 [==============================] - 0s 6ms/step - loss: 0.0016 - val_loss: 0.0014\nEpoch 14/1000\n11/11 [==============================] - 0s 6ms/step - loss: 0.0015 - val_loss: 0.0017\nEpoch 15/1000\n11/11 [==============================] - 0s 7ms/step - loss: 0.0016 - val_loss: 0.0014\nEpoch 16/1000\n11/11 [==============================] - 0s 6ms/step - loss: 0.0018 - val_loss: 0.0012\nEpoch 17/1000\n11/11 [==============================] - 0s 6ms/step - loss: 0.0016 - val_loss: 0.0015\nEpoch 18/1000\n11/11 [==============================] - 0s 6ms/step - loss: 0.0014 - val_loss: 0.0012\nEpoch 19/1000\n11/11 [==============================] - 0s 6ms/step - loss: 0.0010 - val_loss: 0.0012\nEpoch 20/1000\n11/11 [==============================] - 0s 6ms/step - loss: 0.0013 - val_loss: 0.0012\nEpoch 21/1000\n11/11 [==============================] - 0s 6ms/step - loss: 0.0012 - val_loss: 0.0013\nEpoch 22/1000\n11/11 [==============================] - 0s 6ms/step - loss: 0.0014 - val_loss: 0.0012\nEpoch 23/1000\n11/11 [==============================] - 0s 6ms/step - loss: 0.0011 - val_loss: 0.0011\nEpoch 24/1000\n11/11 [==============================] - 0s 6ms/step - loss: 9.8986e-04 - val_loss: 0.0015\nEpoch 25/1000\n11/11 [==============================] - 0s 7ms/step - loss: 9.5463e-04 - val_loss: 0.0011\nEpoch 26/1000\n11/11 [==============================] - 0s 6ms/step - loss: 0.0014 - val_loss: 0.0014\nEpoch 27/1000\n11/11 [==============================] - 0s 6ms/step - loss: 0.0013 - val_loss: 0.0011\nEpoch 28/1000\n11/11 [==============================] - 0s 6ms/step - loss: 0.0013 - val_loss: 0.0010\nEpoch 29/1000\n11/11 [==============================] - 0s 7ms/step - loss: 0.0013 - val_loss: 0.0013\nEpoch 30/1000\n11/11 [==============================] - 0s 6ms/step - loss: 0.0013 - val_loss: 0.0014\nEpoch 31/1000\n11/11 [==============================] - 0s 6ms/step - loss: 0.0010 - val_loss: 9.8775e-04\nEpoch 32/1000\n11/11 [==============================] - 0s 6ms/step - loss: 0.0010 - val_loss: 0.0010\nEpoch 33/1000\n11/11 [==============================] - 0s 7ms/step - loss: 0.0010 - val_loss: 0.0014\nEpoch 34/1000\n11/11 [==============================] - 0s 6ms/step - loss: 0.0014 - val_loss: 8.9748e-04\nEpoch 35/1000\n11/11 [==============================] - 0s 6ms/step - loss: 0.0016 - val_loss: 9.7286e-04\nEpoch 36/1000\n11/11 [==============================] - 0s 6ms/step - loss: 0.0013 - val_loss: 0.0012\nEpoch 37/1000\n11/11 [==============================] - 0s 7ms/step - loss: 9.4039e-04 - val_loss: 0.0012\nEpoch 38/1000\n11/11 [==============================] - 0s 7ms/step - loss: 0.0012 - val_loss: 0.0010\nEpoch 39/1000\n11/11 [==============================] - 0s 6ms/step - loss: 8.8802e-04 - val_loss: 0.0010\nEpoch 40/1000\n11/11 [==============================] - 0s 7ms/step - loss: 8.7153e-04 - val_loss: 0.0013\nEpoch 41/1000\n11/11 [==============================] - 0s 6ms/step - loss: 7.5429e-04 - val_loss: 7.8752e-04\nEpoch 42/1000\n11/11 [==============================] - 0s 6ms/step - loss: 0.0012 - val_loss: 8.2928e-04\nEpoch 43/1000\n11/11 [==============================] - 0s 7ms/step - loss: 0.0012 - val_loss: 0.0011\nEpoch 44/1000\n11/11 [==============================] - 0s 7ms/step - loss: 0.0010 - val_loss: 8.4590e-04\nEpoch 45/1000\n11/11 [==============================] - 0s 7ms/step - loss: 0.0012 - val_loss: 9.4557e-04\nEpoch 46/1000\n11/11 [==============================] - 0s 6ms/step - loss: 9.9192e-04 - val_loss: 7.0075e-04\nEpoch 47/1000\n11/11 [==============================] - 0s 6ms/step - loss: 0.0013 - val_loss: 7.7819e-04\nEpoch 48/1000\n11/11 [==============================] - 0s 6ms/step - loss: 0.0012 - val_loss: 0.0011\nEpoch 49/1000\n11/11 [==============================] - 0s 6ms/step - loss: 8.8760e-04 - val_loss: 0.0010\nEpoch 50/1000\n11/11 [==============================] - 0s 7ms/step - loss: 8.3628e-04 - val_loss: 7.3362e-04\nEpoch 51/1000\n11/11 [==============================] - 0s 6ms/step - loss: 0.0011 - val_loss: 0.0010\nEpoch 52/1000\n11/11 [==============================] - 0s 6ms/step - loss: 0.0013 - val_loss: 7.7320e-04\nEpoch 53/1000\n11/11 [==============================] - 0s 6ms/step - loss: 9.8399e-04 - val_loss: 8.1701e-04\nEpoch 54/1000\n11/11 [==============================] - 0s 6ms/step - loss: 9.4167e-04 - val_loss: 0.0012\nEpoch 55/1000\n11/11 [==============================] - 0s 6ms/step - loss: 8.3696e-04 - val_loss: 8.1333e-04\nEpoch 56/1000\n11/11 [==============================] - 0s 6ms/step - loss: 7.9524e-04 - val_loss: 0.0012\nEpoch 57/1000\n11/11 [==============================] - 0s 6ms/step - loss: 0.0012 - val_loss: 7.6120e-04\nEpoch 58/1000\n11/11 [==============================] - 0s 7ms/step - loss: 9.6213e-04 - val_loss: 0.0011\nEpoch 59/1000\n11/11 [==============================] - 0s 6ms/step - loss: 0.0011 - val_loss: 9.7840e-04\nEpoch 60/1000\n11/11 [==============================] - 0s 6ms/step - loss: 8.0692e-04 - val_loss: 0.0010\nEpoch 61/1000\n11/11 [==============================] - 0s 6ms/step - loss: 0.0011 - val_loss: 8.0098e-04\nEpoch 62/1000\n11/11 [==============================] - 0s 6ms/step - loss: 7.7065e-04 - val_loss: 0.0014\nEpoch 63/1000\n11/11 [==============================] - 0s 6ms/step - loss: 8.9557e-04 - val_loss: 8.3599e-04\nEpoch 64/1000\n11/11 [==============================] - 0s 6ms/step - loss: 0.0010 - val_loss: 8.2723e-04\nEpoch 65/1000\n11/11 [==============================] - 0s 6ms/step - loss: 0.0011 - val_loss: 7.3269e-04\nEpoch 66/1000\n11/11 [==============================] - 0s 6ms/step - loss: 8.2522e-04 - val_loss: 8.6941e-04\nEpoch 67/1000\n11/11 [==============================] - 0s 6ms/step - loss: 9.9346e-04 - val_loss: 8.9194e-04\nEpoch 68/1000\n11/11 [==============================] - 0s 6ms/step - loss: 8.2934e-04 - val_loss: 6.9473e-04\nEpoch 69/1000\n11/11 [==============================] - 0s 6ms/step - loss: 7.8894e-04 - val_loss: 6.8221e-04\nEpoch 70/1000\n11/11 [==============================] - 0s 6ms/step - loss: 0.0011 - val_loss: 7.1986e-04\nEpoch 71/1000\n11/11 [==============================] - 0s 6ms/step - loss: 9.4810e-04 - val_loss: 7.8709e-04\nEpoch 72/1000\n11/11 [==============================] - 0s 6ms/step - loss: 0.0011 - val_loss: 9.4228e-04\nEpoch 73/1000\n11/11 [==============================] - 0s 7ms/step - loss: 0.0010 - val_loss: 7.5063e-04\nEpoch 74/1000\n11/11 [==============================] - 0s 6ms/step - loss: 8.6594e-04 - val_loss: 7.1478e-04\nEpoch 75/1000\n11/11 [==============================] - 0s 7ms/step - loss: 9.8911e-04 - val_loss: 8.9401e-04\nEpoch 76/1000\n11/11 [==============================] - 0s 12ms/step - loss: 8.0165e-04 - val_loss: 9.4206e-04\nEpoch 77/1000\n11/11 [==============================] - 0s 6ms/step - loss: 7.2715e-04 - val_loss: 8.9250e-04\nEpoch 78/1000\n11/11 [==============================] - 0s 6ms/step - loss: 8.3844e-04 - val_loss: 0.0016\nEpoch 79/1000\n11/11 [==============================] - 0s 6ms/step - loss: 0.0012 - val_loss: 6.9116e-04\nEpoch 80/1000\n11/11 [==============================] - 0s 6ms/step - loss: 0.0011 - val_loss: 6.5245e-04\nEpoch 81/1000\n11/11 [==============================] - 0s 6ms/step - loss: 0.0011 - val_loss: 8.8163e-04\nEpoch 82/1000\n11/11 [==============================] - 0s 6ms/step - loss: 8.2863e-04 - val_loss: 6.4420e-04\nEpoch 83/1000\n11/11 [==============================] - 0s 6ms/step - loss: 8.6288e-04 - val_loss: 9.8759e-04\nEpoch 84/1000\n11/11 [==============================] - 0s 6ms/step - loss: 8.7763e-04 - val_loss: 0.0011\nEpoch 85/1000\n11/11 [==============================] - 0s 6ms/step - loss: 9.1514e-04 - val_loss: 8.2519e-04\nEpoch 86/1000\n11/11 [==============================] - 0s 6ms/step - loss: 5.4713e-04 - val_loss: 6.9139e-04\nEpoch 87/1000\n11/11 [==============================] - 0s 6ms/step - loss: 8.2765e-04 - val_loss: 8.7758e-04\nEpoch 88/1000\n11/11 [==============================] - 0s 6ms/step - loss: 0.0010 - val_loss: 9.0543e-04\nEpoch 89/1000\n11/11 [==============================] - 0s 6ms/step - loss: 8.9964e-04 - val_loss: 6.4557e-04\nEpoch 90/1000\n11/11 [==============================] - 0s 6ms/step - loss: 6.5615e-04 - val_loss: 9.2603e-04\nEpoch 91/1000\n11/11 [==============================] - 0s 6ms/step - loss: 8.4329e-04 - val_loss: 8.3669e-04\nEpoch 92/1000\n11/11 [==============================] - 0s 6ms/step - loss: 7.7986e-04 - val_loss: 6.8013e-04\nEpoch 93/1000\n11/11 [==============================] - 0s 6ms/step - loss: 7.4773e-04 - val_loss: 8.3365e-04\nEpoch 94/1000\n11/11 [==============================] - 0s 6ms/step - loss: 0.0010 - val_loss: 8.6160e-04\nEpoch 95/1000\n11/11 [==============================] - 0s 6ms/step - loss: 7.9320e-04 - val_loss: 9.1274e-04\nEpoch 96/1000\n11/11 [==============================] - 0s 6ms/step - loss: 7.1962e-04 - val_loss: 6.8267e-04\nEpoch 97/1000\n11/11 [==============================] - 0s 6ms/step - loss: 6.7669e-04 - val_loss: 6.1316e-04\nEpoch 98/1000\n11/11 [==============================] - 0s 6ms/step - loss: 8.1940e-04 - val_loss: 9.1062e-04\nEpoch 99/1000\n11/11 [==============================] - 0s 6ms/step - loss: 7.3474e-04 - val_loss: 8.4126e-04\nEpoch 100/1000\n11/11 [==============================] - 0s 7ms/step - loss: 7.4628e-04 - val_loss: 7.6941e-04\nEpoch 101/1000\n11/11 [==============================] - 0s 7ms/step - loss: 0.0011 - val_loss: 9.1781e-04\nEpoch 102/1000\n11/11 [==============================] - 0s 6ms/step - loss: 5.6315e-04 - val_loss: 7.7151e-04\nEpoch 103/1000\n11/11 [==============================] - 0s 6ms/step - loss: 7.9004e-04 - val_loss: 5.9752e-04\nEpoch 104/1000\n11/11 [==============================] - 0s 6ms/step - loss: 9.7554e-04 - val_loss: 8.1664e-04\nEpoch 105/1000\n11/11 [==============================] - 0s 6ms/step - loss: 7.8709e-04 - val_loss: 0.0012\nEpoch 106/1000\n11/11 [==============================] - 0s 6ms/step - loss: 9.3009e-04 - val_loss: 6.1001e-04\nEpoch 107/1000\n11/11 [==============================] - 0s 6ms/step - loss: 0.0011 - val_loss: 6.1429e-04\nEpoch 108/1000\n11/11 [==============================] - 0s 6ms/step - loss: 0.0013 - val_loss: 0.0025\nEpoch 109/1000\n11/11 [==============================] - 0s 6ms/step - loss: 0.0012 - val_loss: 8.5988e-04\nEpoch 110/1000\n11/11 [==============================] - 0s 6ms/step - loss: 9.4567e-04 - val_loss: 8.0068e-04\nEpoch 111/1000\n11/11 [==============================] - 0s 6ms/step - loss: 8.0646e-04 - val_loss: 7.5871e-04\nEpoch 112/1000\n11/11 [==============================] - 0s 7ms/step - loss: 7.5180e-04 - val_loss: 0.0010\nEpoch 113/1000\n11/11 [==============================] - 0s 7ms/step - loss: 9.0295e-04 - val_loss: 6.6012e-04\nEpoch 114/1000\n11/11 [==============================] - 0s 7ms/step - loss: 8.4527e-04 - val_loss: 6.0759e-04\nEpoch 115/1000\n11/11 [==============================] - 0s 6ms/step - loss: 7.2103e-04 - val_loss: 9.0299e-04\nEpoch 116/1000\n11/11 [==============================] - 0s 6ms/step - loss: 0.0011 - val_loss: 0.0010\nEpoch 117/1000\n11/11 [==============================] - 0s 6ms/step - loss: 0.0012 - val_loss: 0.0017\nEpoch 118/1000\n11/11 [==============================] - 0s 6ms/step - loss: 0.0015 - val_loss: 6.9946e-04\nEpoch 119/1000\n11/11 [==============================] - 0s 6ms/step - loss: 7.3163e-04 - val_loss: 6.9122e-04\nEpoch 120/1000\n11/11 [==============================] - 0s 6ms/step - loss: 8.5211e-04 - val_loss: 9.0874e-04\nEpoch 121/1000\n11/11 [==============================] - 0s 6ms/step - loss: 8.7155e-04 - val_loss: 7.9688e-04\nEpoch 122/1000\n11/11 [==============================] - 0s 6ms/step - loss: 7.2732e-04 - val_loss: 8.3491e-04\nEpoch 123/1000\n11/11 [==============================] - 0s 7ms/step - loss: 8.3813e-04 - val_loss: 7.7078e-04\nEpoch 124/1000\n11/11 [==============================] - 0s 6ms/step - loss: 7.5787e-04 - val_loss: 6.2685e-04\nEpoch 125/1000\n11/11 [==============================] - 0s 6ms/step - loss: 6.4276e-04 - val_loss: 6.7943e-04\nEpoch 126/1000\n11/11 [==============================] - 0s 7ms/step - loss: 9.5334e-04 - val_loss: 8.5571e-04\nEpoch 127/1000\n11/11 [==============================] - 0s 6ms/step - loss: 6.9321e-04 - val_loss: 6.9334e-04\nEpoch 128/1000\n11/11 [==============================] - 0s 6ms/step - loss: 0.0010 - val_loss: 9.2003e-04\nEpoch 129/1000\n11/11 [==============================] - 0s 7ms/step - loss: 8.0372e-04 - val_loss: 6.0951e-04\nEpoch 130/1000\n11/11 [==============================] - 0s 6ms/step - loss: 0.0014 - val_loss: 0.0012\nEpoch 131/1000\n11/11 [==============================] - 0s 6ms/step - loss: 0.0013 - val_loss: 0.0015\nEpoch 132/1000\n11/11 [==============================] - 0s 6ms/step - loss: 0.0010 - val_loss: 6.5498e-04\nEpoch 133/1000\n11/11 [==============================] - 0s 6ms/step - loss: 0.0015 - val_loss: 7.2956e-04\nEpoch 134/1000\n11/11 [==============================] - 0s 6ms/step - loss: 0.0016 - val_loss: 9.9334e-04\nEpoch 135/1000\n11/11 [==============================] - 0s 7ms/step - loss: 0.0011 - val_loss: 0.0019\nEpoch 136/1000\n11/11 [==============================] - 0s 6ms/step - loss: 8.2752e-04 - val_loss: 7.9684e-04\nEpoch 137/1000\n11/11 [==============================] - 0s 6ms/step - loss: 5.9772e-04 - val_loss: 6.6036e-04\nEpoch 138/1000\n11/11 [==============================] - 0s 6ms/step - loss: 9.0008e-04 - val_loss: 7.9872e-04\nEpoch 139/1000\n11/11 [==============================] - 0s 6ms/step - loss: 6.9915e-04 - val_loss: 9.8914e-04\nEpoch 140/1000\n11/11 [==============================] - 0s 6ms/step - loss: 8.4580e-04 - val_loss: 9.7475e-04\nEpoch 141/1000\n11/11 [==============================] - 0s 6ms/step - loss: 7.2274e-04 - val_loss: 0.0013\nEpoch 142/1000\n11/11 [==============================] - 0s 6ms/step - loss: 0.0015 - val_loss: 5.5701e-04\nEpoch 143/1000\n11/11 [==============================] - 0s 6ms/step - loss: 0.0010 - val_loss: 5.9220e-04\nEpoch 144/1000\n11/11 [==============================] - 0s 6ms/step - loss: 8.5862e-04 - val_loss: 7.0832e-04\nEpoch 145/1000\n11/11 [==============================] - 0s 6ms/step - loss: 9.6947e-04 - val_loss: 0.0014\nEpoch 146/1000\n11/11 [==============================] - 0s 6ms/step - loss: 8.0519e-04 - val_loss: 7.7626e-04\nEpoch 147/1000\n11/11 [==============================] - 0s 6ms/step - loss: 0.0011 - val_loss: 5.4953e-04\nEpoch 148/1000\n11/11 [==============================] - 0s 6ms/step - loss: 9.2699e-04 - val_loss: 0.0015\nEpoch 149/1000\n11/11 [==============================] - 0s 6ms/step - loss: 0.0010 - val_loss: 8.1726e-04\nEpoch 150/1000\n11/11 [==============================] - 0s 6ms/step - loss: 9.7742e-04 - val_loss: 6.2966e-04\nEpoch 151/1000\n11/11 [==============================] - 0s 6ms/step - loss: 7.7924e-04 - val_loss: 6.9052e-04\nEpoch 152/1000\n11/11 [==============================] - 0s 6ms/step - loss: 9.0686e-04 - val_loss: 9.9900e-04\nEpoch 153/1000\n11/11 [==============================] - 0s 6ms/step - loss: 0.0011 - val_loss: 6.1426e-04\nEpoch 154/1000\n11/11 [==============================] - 0s 6ms/step - loss: 6.1850e-04 - val_loss: 0.0012\nEpoch 155/1000\n11/11 [==============================] - 0s 6ms/step - loss: 8.7843e-04 - val_loss: 6.7981e-04\nEpoch 156/1000\n11/11 [==============================] - 0s 6ms/step - loss: 8.8707e-04 - val_loss: 5.3835e-04\nEpoch 157/1000\n11/11 [==============================] - 0s 6ms/step - loss: 8.9035e-04 - val_loss: 0.0014\nEpoch 158/1000\n11/11 [==============================] - 0s 7ms/step - loss: 8.6395e-04 - val_loss: 9.6831e-04\nEpoch 159/1000\n11/11 [==============================] - 0s 7ms/step - loss: 9.2312e-04 - val_loss: 6.4515e-04\nEpoch 160/1000\n11/11 [==============================] - 0s 6ms/step - loss: 9.5865e-04 - val_loss: 0.0018\nEpoch 161/1000\n11/11 [==============================] - 0s 6ms/step - loss: 7.6873e-04 - val_loss: 6.4532e-04\nEpoch 162/1000\n11/11 [==============================] - 0s 6ms/step - loss: 6.5469e-04 - val_loss: 5.8482e-04\nEpoch 163/1000\n11/11 [==============================] - 0s 6ms/step - loss: 9.8863e-04 - val_loss: 0.0012\nEpoch 164/1000\n11/11 [==============================] - 0s 6ms/step - loss: 9.0388e-04 - val_loss: 0.0010\nEpoch 165/1000\n11/11 [==============================] - 0s 6ms/step - loss: 0.0011 - val_loss: 5.9245e-04\nEpoch 166/1000\n11/11 [==============================] - 0s 6ms/step - loss: 0.0012 - val_loss: 9.8786e-04\nEpoch 167/1000\n11/11 [==============================] - 0s 6ms/step - loss: 5.1282e-04 - val_loss: 8.1336e-04\nEpoch 168/1000\n11/11 [==============================] - 0s 6ms/step - loss: 5.2468e-04 - val_loss: 6.9287e-04\nEpoch 169/1000\n11/11 [==============================] - 0s 6ms/step - loss: 7.7834e-04 - val_loss: 0.0011\nEpoch 170/1000\n11/11 [==============================] - 0s 6ms/step - loss: 7.7972e-04 - val_loss: 8.2309e-04\nEpoch 171/1000\n11/11 [==============================] - 0s 6ms/step - loss: 9.9124e-04 - val_loss: 5.9850e-04\nEpoch 172/1000\n11/11 [==============================] - 0s 7ms/step - loss: 8.4707e-04 - val_loss: 0.0015\nEpoch 173/1000\n11/11 [==============================] - 0s 6ms/step - loss: 8.2132e-04 - val_loss: 6.5996e-04\nEpoch 174/1000\n11/11 [==============================] - 0s 6ms/step - loss: 8.3643e-04 - val_loss: 8.2034e-04\nEpoch 175/1000\n11/11 [==============================] - 0s 6ms/step - loss: 8.3328e-04 - val_loss: 0.0012\nEpoch 176/1000\n11/11 [==============================] - 0s 7ms/step - loss: 0.0016 - val_loss: 7.5757e-04\nEpoch 177/1000\n11/11 [==============================] - 0s 6ms/step - loss: 0.0011 - val_loss: 6.8602e-04\nEpoch 178/1000\n11/11 [==============================] - 0s 6ms/step - loss: 9.9300e-04 - val_loss: 0.0014\nEpoch 179/1000\n11/11 [==============================] - 0s 6ms/step - loss: 8.2742e-04 - val_loss: 8.4010e-04\nEpoch 180/1000\n11/11 [==============================] - 0s 6ms/step - loss: 6.4438e-04 - val_loss: 5.6508e-04\nEpoch 181/1000\n11/11 [==============================] - 0s 6ms/step - loss: 8.2585e-04 - val_loss: 8.2883e-04\nEpoch 182/1000\n11/11 [==============================] - 0s 6ms/step - loss: 7.7291e-04 - val_loss: 0.0012\nEpoch 183/1000\n11/11 [==============================] - 0s 6ms/step - loss: 0.0011 - val_loss: 6.1887e-04\nEpoch 184/1000\n11/11 [==============================] - 0s 6ms/step - loss: 8.0449e-04 - val_loss: 6.9295e-04\nEpoch 185/1000\n11/11 [==============================] - 0s 6ms/step - loss: 0.0010 - val_loss: 8.2446e-04\nEpoch 186/1000\n11/11 [==============================] - 0s 6ms/step - loss: 5.8622e-04 - val_loss: 6.7813e-04\nEpoch 187/1000\n11/11 [==============================] - 0s 6ms/step - loss: 6.1584e-04 - val_loss: 7.0006e-04\nEpoch 188/1000\n11/11 [==============================] - 0s 7ms/step - loss: 8.3708e-04 - val_loss: 0.0011\nEpoch 189/1000\n11/11 [==============================] - 0s 6ms/step - loss: 7.2422e-04 - val_loss: 8.6090e-04\nEpoch 190/1000\n11/11 [==============================] - 0s 6ms/step - loss: 8.9527e-04 - val_loss: 0.0014\nEpoch 191/1000\n11/11 [==============================] - 0s 6ms/step - loss: 7.7067e-04 - val_loss: 8.3354e-04\nEpoch 192/1000\n11/11 [==============================] - 0s 6ms/step - loss: 6.5508e-04 - val_loss: 6.7252e-04\nEpoch 193/1000\n11/11 [==============================] - 0s 6ms/step - loss: 0.0012 - val_loss: 5.4303e-04\nEpoch 194/1000\n11/11 [==============================] - 0s 6ms/step - loss: 0.0011 - val_loss: 9.3759e-04\nEpoch 195/1000\n11/11 [==============================] - 0s 6ms/step - loss: 5.7354e-04 - val_loss: 8.7422e-04\nEpoch 196/1000\n11/11 [==============================] - 0s 6ms/step - loss: 6.0132e-04 - val_loss: 6.4217e-04\nEpoch 197/1000\n11/11 [==============================] - 0s 6ms/step - loss: 8.3697e-04 - val_loss: 8.6420e-04\nEpoch 198/1000\n11/11 [==============================] - 0s 6ms/step - loss: 6.5526e-04 - val_loss: 9.0674e-04\nEpoch 199/1000\n11/11 [==============================] - 0s 6ms/step - loss: 7.7114e-04 - val_loss: 8.6320e-04\nEpoch 200/1000\n11/11 [==============================] - 0s 6ms/step - loss: 8.0367e-04 - val_loss: 6.9099e-04\nEpoch 201/1000\n11/11 [==============================] - 0s 6ms/step - loss: 5.5482e-04 - val_loss: 6.9607e-04\nEpoch 202/1000\n11/11 [==============================] - 0s 6ms/step - loss: 6.3743e-04 - val_loss: 6.9963e-04\nEpoch 203/1000\n11/11 [==============================] - 0s 6ms/step - loss: 7.3101e-04 - val_loss: 9.4072e-04\nEpoch 204/1000\n11/11 [==============================] - 0s 6ms/step - loss: 9.7588e-04 - val_loss: 5.6176e-04\nEpoch 205/1000\n11/11 [==============================] - 0s 6ms/step - loss: 7.4769e-04 - val_loss: 5.4424e-04\nEpoch 206/1000\n11/11 [==============================] - 0s 6ms/step - loss: 7.3868e-04 - val_loss: 0.0014\nEpoch 207/1000\n11/11 [==============================] - 0s 6ms/step - loss: 7.5903e-04 - val_loss: 9.5665e-04\nEpoch 208/1000\n11/11 [==============================] - 0s 6ms/step - loss: 7.8760e-04 - val_loss: 7.7102e-04\nEpoch 209/1000\n11/11 [==============================] - 0s 6ms/step - loss: 7.0063e-04 - val_loss: 7.0042e-04\nEpoch 210/1000\n11/11 [==============================] - 0s 6ms/step - loss: 6.4961e-04 - val_loss: 6.2657e-04\nEpoch 211/1000\n11/11 [==============================] - 0s 6ms/step - loss: 7.5367e-04 - val_loss: 0.0010\nEpoch 212/1000\n11/11 [==============================] - 0s 6ms/step - loss: 7.0242e-04 - val_loss: 9.1669e-04\nEpoch 213/1000\n11/11 [==============================] - 0s 6ms/step - loss: 7.4201e-04 - val_loss: 6.6613e-04\nEpoch 214/1000\n11/11 [==============================] - 0s 6ms/step - loss: 7.0265e-04 - val_loss: 0.0013\nEpoch 215/1000\n11/11 [==============================] - 0s 6ms/step - loss: 5.5676e-04 - val_loss: 5.7673e-04\nEpoch 216/1000\n11/11 [==============================] - 0s 6ms/step - loss: 6.2315e-04 - val_loss: 0.0010\nEpoch 217/1000\n11/11 [==============================] - 0s 7ms/step - loss: 7.7737e-04 - val_loss: 5.7065e-04\nEpoch 218/1000\n11/11 [==============================] - 0s 6ms/step - loss: 7.6179e-04 - val_loss: 6.9822e-04\nEpoch 219/1000\n11/11 [==============================] - 0s 6ms/step - loss: 7.5651e-04 - val_loss: 9.5858e-04\nEpoch 220/1000\n11/11 [==============================] - 0s 9ms/step - loss: 6.7516e-04 - val_loss: 7.3881e-04\nEpoch 221/1000\n11/11 [==============================] - 0s 7ms/step - loss: 9.5841e-04 - val_loss: 6.0246e-04\nEpoch 222/1000\n11/11 [==============================] - 0s 6ms/step - loss: 5.4622e-04 - val_loss: 7.3439e-04\nEpoch 223/1000\n11/11 [==============================] - 0s 6ms/step - loss: 8.0165e-04 - val_loss: 7.1027e-04\nEpoch 224/1000\n11/11 [==============================] - 0s 6ms/step - loss: 7.0770e-04 - val_loss: 0.0010\nEpoch 225/1000\n11/11 [==============================] - 0s 6ms/step - loss: 6.4211e-04 - val_loss: 8.2684e-04\nEpoch 226/1000\n11/11 [==============================] - 0s 6ms/step - loss: 0.0012 - val_loss: 5.6132e-04\nEpoch 227/1000\n11/11 [==============================] - 0s 6ms/step - loss: 7.1540e-04 - val_loss: 7.4885e-04\nEpoch 228/1000\n11/11 [==============================] - 0s 6ms/step - loss: 9.7216e-04 - val_loss: 0.0016\nEpoch 229/1000\n11/11 [==============================] - 0s 6ms/step - loss: 6.2381e-04 - val_loss: 7.1083e-04\nEpoch 230/1000\n11/11 [==============================] - 0s 6ms/step - loss: 7.0488e-04 - val_loss: 8.9207e-04\nEpoch 231/1000\n11/11 [==============================] - 0s 6ms/step - loss: 7.7914e-04 - val_loss: 6.2624e-04\nEpoch 232/1000\n11/11 [==============================] - 0s 6ms/step - loss: 6.7806e-04 - val_loss: 6.3730e-04\nEpoch 233/1000\n11/11 [==============================] - 0s 6ms/step - loss: 6.3704e-04 - val_loss: 0.0013\nEpoch 234/1000\n11/11 [==============================] - 0s 7ms/step - loss: 0.0011 - val_loss: 7.7835e-04\nEpoch 235/1000\n11/11 [==============================] - 0s 20ms/step - loss: 6.9225e-04 - val_loss: 6.6120e-04\nEpoch 236/1000\n11/11 [==============================] - 0s 15ms/step - loss: 9.0269e-04 - val_loss: 9.6672e-04\nEpoch 237/1000\n11/11 [==============================] - 0s 10ms/step - loss: 6.2272e-04 - val_loss: 7.9665e-04\nEpoch 238/1000\n11/11 [==============================] - 0s 18ms/step - loss: 5.9830e-04 - val_loss: 6.3343e-04\nEpoch 239/1000\n11/11 [==============================] - 0s 15ms/step - loss: 7.5125e-04 - val_loss: 6.1069e-04\nEpoch 240/1000\n11/11 [==============================] - 0s 14ms/step - loss: 6.6324e-04 - val_loss: 9.1142e-04\nEpoch 241/1000\n11/11 [==============================] - 0s 14ms/step - loss: 5.9852e-04 - val_loss: 0.0010\nEpoch 242/1000\n11/11 [==============================] - 0s 13ms/step - loss: 7.0644e-04 - val_loss: 5.1817e-04\nEpoch 243/1000\n11/11 [==============================] - 0s 14ms/step - loss: 7.2495e-04 - val_loss: 7.1025e-04\nEpoch 244/1000\n11/11 [==============================] - 0s 14ms/step - loss: 6.9581e-04 - val_loss: 8.2579e-04\nEpoch 245/1000\n11/11 [==============================] - 0s 7ms/step - loss: 9.0715e-04 - val_loss: 5.4518e-04\nEpoch 246/1000\n11/11 [==============================] - 0s 6ms/step - loss: 7.5263e-04 - val_loss: 7.3304e-04\nEpoch 247/1000\n11/11 [==============================] - 0s 6ms/step - loss: 9.9963e-04 - val_loss: 0.0016\nEpoch 248/1000\n11/11 [==============================] - 0s 7ms/step - loss: 8.2052e-04 - val_loss: 6.8820e-04\nEpoch 249/1000\n11/11 [==============================] - 0s 6ms/step - loss: 9.3831e-04 - val_loss: 5.6782e-04\nEpoch 250/1000\n11/11 [==============================] - 0s 6ms/step - loss: 9.3968e-04 - val_loss: 0.0015\nEpoch 251/1000\n11/11 [==============================] - 0s 6ms/step - loss: 7.4329e-04 - val_loss: 8.2995e-04\nEpoch 252/1000\n11/11 [==============================] - 0s 6ms/step - loss: 7.2371e-04 - val_loss: 6.0266e-04\nEpoch 253/1000\n11/11 [==============================] - 0s 6ms/step - loss: 5.8677e-04 - val_loss: 7.4220e-04\nEpoch 254/1000\n11/11 [==============================] - 0s 6ms/step - loss: 5.8845e-04 - val_loss: 8.5062e-04\nEpoch 255/1000\n11/11 [==============================] - 0s 6ms/step - loss: 7.5397e-04 - val_loss: 0.0013\nEpoch 256/1000\n11/11 [==============================] - 0s 6ms/step - loss: 5.9347e-04 - val_loss: 7.9607e-04\nEpoch 257/1000\n11/11 [==============================] - 0s 6ms/step - loss: 7.0604e-04 - val_loss: 5.3056e-04\nEpoch 258/1000\n11/11 [==============================] - 0s 6ms/step - loss: 8.0586e-04 - val_loss: 0.0011\nEpoch 259/1000\n11/11 [==============================] - 0s 6ms/step - loss: 5.9417e-04 - val_loss: 0.0011\nEpoch 260/1000\n11/11 [==============================] - 0s 6ms/step - loss: 7.1083e-04 - val_loss: 6.6871e-04\nEpoch 261/1000\n11/11 [==============================] - 0s 6ms/step - loss: 7.5076e-04 - val_loss: 0.0011\nEpoch 262/1000\n11/11 [==============================] - 0s 6ms/step - loss: 7.2296e-04 - val_loss: 5.7886e-04\nEpoch 263/1000\n11/11 [==============================] - 0s 6ms/step - loss: 5.8327e-04 - val_loss: 9.4401e-04\nEpoch 264/1000\n11/11 [==============================] - 0s 6ms/step - loss: 5.5677e-04 - val_loss: 0.0010\nEpoch 265/1000\n11/11 [==============================] - 0s 6ms/step - loss: 7.7584e-04 - val_loss: 7.0589e-04\nEpoch 266/1000\n11/11 [==============================] - 0s 6ms/step - loss: 8.5311e-04 - val_loss: 6.2319e-04\nEpoch 267/1000\n11/11 [==============================] - 0s 6ms/step - loss: 7.1144e-04 - val_loss: 5.4088e-04\nEpoch 268/1000\n11/11 [==============================] - 0s 6ms/step - loss: 8.1464e-04 - val_loss: 9.9589e-04\nEpoch 269/1000\n11/11 [==============================] - 0s 6ms/step - loss: 6.6800e-04 - val_loss: 9.2733e-04\nEpoch 270/1000\n11/11 [==============================] - 0s 6ms/step - loss: 6.9393e-04 - val_loss: 6.3122e-04\nEpoch 271/1000\n11/11 [==============================] - 0s 6ms/step - loss: 7.9118e-04 - val_loss: 8.5893e-04\nEpoch 272/1000\n11/11 [==============================] - 0s 6ms/step - loss: 5.9782e-04 - val_loss: 0.0010\nEpoch 273/1000\n11/11 [==============================] - 0s 6ms/step - loss: 5.7717e-04 - val_loss: 8.0635e-04\nEpoch 274/1000\n11/11 [==============================] - 0s 6ms/step - loss: 7.4635e-04 - val_loss: 6.4040e-04\nEpoch 275/1000\n11/11 [==============================] - 0s 6ms/step - loss: 7.0212e-04 - val_loss: 9.1857e-04\nEpoch 276/1000\n11/11 [==============================] - 0s 6ms/step - loss: 6.5168e-04 - val_loss: 5.7008e-04\nEpoch 277/1000\n11/11 [==============================] - 0s 6ms/step - loss: 6.7201e-04 - val_loss: 7.7860e-04\nEpoch 278/1000\n11/11 [==============================] - 0s 6ms/step - loss: 5.9835e-04 - val_loss: 6.8279e-04\nEpoch 279/1000\n11/11 [==============================] - 0s 6ms/step - loss: 9.0468e-04 - val_loss: 8.3846e-04\nEpoch 280/1000\n11/11 [==============================] - 0s 6ms/step - loss: 6.1447e-04 - val_loss: 8.5643e-04\nEpoch 281/1000\n11/11 [==============================] - 0s 7ms/step - loss: 8.8096e-04 - val_loss: 9.4246e-04\nEpoch 282/1000\n11/11 [==============================] - 0s 6ms/step - loss: 6.4451e-04 - val_loss: 7.1495e-04\nEpoch 283/1000\n11/11 [==============================] - 0s 6ms/step - loss: 6.0361e-04 - val_loss: 6.1895e-04\nEpoch 284/1000\n11/11 [==============================] - 0s 6ms/step - loss: 7.2329e-04 - val_loss: 9.2731e-04\nEpoch 285/1000\n11/11 [==============================] - 0s 6ms/step - loss: 7.7911e-04 - val_loss: 7.9373e-04\nEpoch 286/1000\n11/11 [==============================] - 0s 6ms/step - loss: 6.2245e-04 - val_loss: 7.7056e-04\nEpoch 287/1000\n11/11 [==============================] - 0s 6ms/step - loss: 6.2975e-04 - val_loss: 9.5124e-04\nEpoch 288/1000\n11/11 [==============================] - 0s 6ms/step - loss: 0.0011 - val_loss: 9.9718e-04\nEpoch 289/1000\n11/11 [==============================] - 0s 6ms/step - loss: 7.6921e-04 - val_loss: 6.7187e-04\nEpoch 290/1000\n11/11 [==============================] - 0s 6ms/step - loss: 7.4496e-04 - val_loss: 0.0012\nEpoch 291/1000\n11/11 [==============================] - 0s 6ms/step - loss: 7.1867e-04 - val_loss: 5.3885e-04\nEpoch 292/1000\n11/11 [==============================] - 0s 6ms/step - loss: 5.3390e-04 - val_loss: 0.0011\nEpoch 293/1000\n11/11 [==============================] - 0s 6ms/step - loss: 7.5178e-04 - val_loss: 5.4469e-04\nEpoch 294/1000\n11/11 [==============================] - 0s 6ms/step - loss: 9.9858e-04 - val_loss: 9.3382e-04\nEpoch 295/1000\n11/11 [==============================] - 0s 6ms/step - loss: 6.5815e-04 - val_loss: 0.0011\nEpoch 296/1000\n11/11 [==============================] - 0s 6ms/step - loss: 8.6000e-04 - val_loss: 5.6796e-04\nEpoch 297/1000\n11/11 [==============================] - 0s 6ms/step - loss: 7.8995e-04 - val_loss: 6.2580e-04\nEpoch 298/1000\n11/11 [==============================] - 0s 6ms/step - loss: 5.9659e-04 - val_loss: 8.4989e-04\nEpoch 299/1000\n11/11 [==============================] - 0s 6ms/step - loss: 9.2625e-04 - val_loss: 6.9290e-04\nEpoch 300/1000\n11/11 [==============================] - 0s 6ms/step - loss: 7.7099e-04 - val_loss: 8.3466e-04\nEpoch 301/1000\n11/11 [==============================] - 0s 6ms/step - loss: 0.0011 - val_loss: 5.9079e-04\nEpoch 302/1000\n11/11 [==============================] - 0s 6ms/step - loss: 5.2884e-04 - val_loss: 9.6363e-04\nEpoch 303/1000\n11/11 [==============================] - 0s 6ms/step - loss: 6.6452e-04 - val_loss: 6.4625e-04\nEpoch 304/1000\n11/11 [==============================] - 0s 6ms/step - loss: 5.5280e-04 - val_loss: 7.2200e-04\nEpoch 305/1000\n11/11 [==============================] - 0s 6ms/step - loss: 7.8391e-04 - val_loss: 6.8317e-04\nEpoch 306/1000\n11/11 [==============================] - 0s 6ms/step - loss: 6.1859e-04 - val_loss: 6.7875e-04\nEpoch 307/1000\n11/11 [==============================] - 0s 6ms/step - loss: 6.4252e-04 - val_loss: 9.8530e-04\nEpoch 308/1000\n11/11 [==============================] - 0s 6ms/step - loss: 7.7999e-04 - val_loss: 7.1729e-04\nEpoch 309/1000\n11/11 [==============================] - 0s 6ms/step - loss: 7.0143e-04 - val_loss: 7.2978e-04\nEpoch 310/1000\n11/11 [==============================] - 0s 6ms/step - loss: 7.1248e-04 - val_loss: 5.3292e-04\nEpoch 311/1000\n11/11 [==============================] - 0s 6ms/step - loss: 0.0011 - val_loss: 5.5337e-04\nEpoch 312/1000\n11/11 [==============================] - 0s 6ms/step - loss: 8.6446e-04 - val_loss: 7.1003e-04\nEpoch 313/1000\n11/11 [==============================] - 0s 6ms/step - loss: 7.6476e-04 - val_loss: 0.0015\nEpoch 314/1000\n11/11 [==============================] - 0s 6ms/step - loss: 0.0013 - val_loss: 5.3584e-04\nEpoch 315/1000\n11/11 [==============================] - 0s 6ms/step - loss: 9.6230e-04 - val_loss: 0.0014\nEpoch 316/1000\n11/11 [==============================] - 0s 7ms/step - loss: 0.0010 - val_loss: 0.0010\nEpoch 317/1000\n11/11 [==============================] - 0s 6ms/step - loss: 7.0409e-04 - val_loss: 8.4278e-04\nEpoch 318/1000\n11/11 [==============================] - 0s 7ms/step - loss: 6.2356e-04 - val_loss: 7.1259e-04\nEpoch 319/1000\n11/11 [==============================] - 0s 6ms/step - loss: 9.5973e-04 - val_loss: 9.3177e-04\nEpoch 320/1000\n11/11 [==============================] - 0s 6ms/step - loss: 6.4460e-04 - val_loss: 6.5094e-04\nEpoch 321/1000\n11/11 [==============================] - 0s 7ms/step - loss: 6.7870e-04 - val_loss: 0.0011\nEpoch 322/1000\n11/11 [==============================] - 0s 6ms/step - loss: 8.0165e-04 - val_loss: 9.0408e-04\nEpoch 323/1000\n11/11 [==============================] - 0s 6ms/step - loss: 8.3224e-04 - val_loss: 5.9193e-04\nEpoch 324/1000\n11/11 [==============================] - 0s 6ms/step - loss: 7.6487e-04 - val_loss: 8.3273e-04\nEpoch 325/1000\n11/11 [==============================] - 0s 6ms/step - loss: 6.1979e-04 - val_loss: 0.0011\nEpoch 326/1000\n11/11 [==============================] - 0s 6ms/step - loss: 7.0776e-04 - val_loss: 7.7823e-04\nEpoch 327/1000\n11/11 [==============================] - 0s 6ms/step - loss: 8.0767e-04 - val_loss: 0.0011\nEpoch 328/1000\n11/11 [==============================] - 0s 6ms/step - loss: 5.3531e-04 - val_loss: 5.7394e-04\nEpoch 329/1000\n11/11 [==============================] - 0s 6ms/step - loss: 7.6291e-04 - val_loss: 7.1557e-04\nEpoch 330/1000\n11/11 [==============================] - 0s 6ms/step - loss: 5.9438e-04 - val_loss: 7.1804e-04\nEpoch 331/1000\n11/11 [==============================] - 0s 6ms/step - loss: 7.8900e-04 - val_loss: 5.6785e-04\nEpoch 332/1000\n11/11 [==============================] - 0s 6ms/step - loss: 6.0564e-04 - val_loss: 6.5906e-04\nEpoch 333/1000\n11/11 [==============================] - 0s 6ms/step - loss: 7.4192e-04 - val_loss: 5.2591e-04\nEpoch 334/1000\n11/11 [==============================] - 0s 6ms/step - loss: 8.1979e-04 - val_loss: 6.4337e-04\nEpoch 335/1000\n11/11 [==============================] - 0s 6ms/step - loss: 7.2900e-04 - val_loss: 7.9261e-04\nEpoch 336/1000\n11/11 [==============================] - 0s 6ms/step - loss: 7.4127e-04 - val_loss: 8.7795e-04\nEpoch 337/1000\n11/11 [==============================] - 0s 6ms/step - loss: 0.0014 - val_loss: 5.4396e-04\nEpoch 338/1000\n11/11 [==============================] - 0s 6ms/step - loss: 8.5801e-04 - val_loss: 0.0013\nEpoch 339/1000\n11/11 [==============================] - 0s 6ms/step - loss: 7.2530e-04 - val_loss: 0.0011\nEpoch 340/1000\n11/11 [==============================] - 0s 6ms/step - loss: 7.5642e-04 - val_loss: 5.5977e-04\nEpoch 341/1000\n11/11 [==============================] - 0s 6ms/step - loss: 9.1491e-04 - val_loss: 6.7252e-04\nEpoch 342/1000\n11/11 [==============================] - 0s 6ms/step - loss: 5.1276e-04 - val_loss: 0.0011\nEpoch 343/1000\n11/11 [==============================] - 0s 6ms/step - loss: 7.0001e-04 - val_loss: 6.1017e-04\nEpoch 344/1000\n11/11 [==============================] - 0s 6ms/step - loss: 7.3923e-04 - val_loss: 8.7892e-04\nEpoch 345/1000\n11/11 [==============================] - 0s 6ms/step - loss: 6.2710e-04 - val_loss: 9.2567e-04\nEpoch 346/1000\n11/11 [==============================] - 0s 6ms/step - loss: 9.3018e-04 - val_loss: 5.5577e-04\nEpoch 347/1000\n11/11 [==============================] - 0s 6ms/step - loss: 7.1875e-04 - val_loss: 5.2088e-04\nEpoch 348/1000\n11/11 [==============================] - 0s 6ms/step - loss: 7.4680e-04 - val_loss: 5.5614e-04\nEpoch 349/1000\n11/11 [==============================] - 0s 7ms/step - loss: 7.0441e-04 - val_loss: 6.9249e-04\nEpoch 350/1000\n11/11 [==============================] - 0s 6ms/step - loss: 6.5660e-04 - val_loss: 5.9163e-04\nEpoch 351/1000\n11/11 [==============================] - 0s 6ms/step - loss: 7.2498e-04 - val_loss: 6.3136e-04\nEpoch 352/1000\n11/11 [==============================] - 0s 6ms/step - loss: 5.2291e-04 - val_loss: 8.8982e-04\nEpoch 353/1000\n11/11 [==============================] - 0s 10ms/step - loss: 5.5774e-04 - val_loss: 6.4501e-04\nEpoch 354/1000\n11/11 [==============================] - 0s 6ms/step - loss: 8.4540e-04 - val_loss: 5.6544e-04\nEpoch 355/1000\n11/11 [==============================] - 0s 6ms/step - loss: 6.6280e-04 - val_loss: 9.4470e-04\nEpoch 356/1000\n11/11 [==============================] - 0s 6ms/step - loss: 5.5695e-04 - val_loss: 6.6514e-04\nEpoch 357/1000\n11/11 [==============================] - 0s 6ms/step - loss: 6.7251e-04 - val_loss: 5.6318e-04\nEpoch 358/1000\n11/11 [==============================] - 0s 6ms/step - loss: 5.8365e-04 - val_loss: 7.1294e-04\nEpoch 359/1000\n11/11 [==============================] - 0s 7ms/step - loss: 6.1199e-04 - val_loss: 6.7766e-04\nEpoch 360/1000\n11/11 [==============================] - 0s 7ms/step - loss: 7.6112e-04 - val_loss: 8.2149e-04\nEpoch 361/1000\n11/11 [==============================] - 0s 7ms/step - loss: 6.5788e-04 - val_loss: 5.0158e-04\nEpoch 362/1000\n11/11 [==============================] - 0s 7ms/step - loss: 7.6375e-04 - val_loss: 7.9095e-04\nEpoch 363/1000\n11/11 [==============================] - 0s 7ms/step - loss: 4.9084e-04 - val_loss: 6.5696e-04\nEpoch 364/1000\n11/11 [==============================] - 0s 7ms/step - loss: 6.1053e-04 - val_loss: 5.4716e-04\nEpoch 365/1000\n11/11 [==============================] - 0s 6ms/step - loss: 6.1501e-04 - val_loss: 8.2300e-04\nEpoch 366/1000\n11/11 [==============================] - 0s 7ms/step - loss: 6.3275e-04 - val_loss: 6.4530e-04\nEpoch 367/1000\n11/11 [==============================] - 0s 7ms/step - loss: 5.8345e-04 - val_loss: 5.6692e-04\nEpoch 368/1000\n11/11 [==============================] - 0s 7ms/step - loss: 5.0229e-04 - val_loss: 6.7198e-04\nEpoch 369/1000\n11/11 [==============================] - 0s 7ms/step - loss: 4.9576e-04 - val_loss: 6.1502e-04\nEpoch 370/1000\n11/11 [==============================] - 0s 6ms/step - loss: 5.8713e-04 - val_loss: 7.8299e-04\nEpoch 371/1000\n11/11 [==============================] - 0s 7ms/step - loss: 5.3811e-04 - val_loss: 6.4591e-04\nEpoch 372/1000\n11/11 [==============================] - 0s 7ms/step - loss: 6.1052e-04 - val_loss: 6.5536e-04\nEpoch 373/1000\n11/11 [==============================] - 0s 7ms/step - loss: 7.2619e-04 - val_loss: 8.6020e-04\nEpoch 374/1000\n11/11 [==============================] - 0s 7ms/step - loss: 6.4738e-04 - val_loss: 6.2956e-04\nEpoch 375/1000\n11/11 [==============================] - 0s 7ms/step - loss: 6.2291e-04 - val_loss: 8.9301e-04\nEpoch 376/1000\n11/11 [==============================] - 0s 7ms/step - loss: 5.2948e-04 - val_loss: 5.8684e-04\nEpoch 377/1000\n11/11 [==============================] - 0s 7ms/step - loss: 4.6873e-04 - val_loss: 7.4330e-04\nEpoch 378/1000\n11/11 [==============================] - 0s 7ms/step - loss: 6.9577e-04 - val_loss: 7.1152e-04\nEpoch 379/1000\n11/11 [==============================] - 0s 7ms/step - loss: 5.7863e-04 - val_loss: 6.3583e-04\nEpoch 380/1000\n11/11 [==============================] - 0s 7ms/step - loss: 5.8517e-04 - val_loss: 6.3574e-04\nEpoch 381/1000\n11/11 [==============================] - 0s 6ms/step - loss: 5.5713e-04 - val_loss: 6.1518e-04\nEpoch 382/1000\n11/11 [==============================] - 0s 7ms/step - loss: 5.1513e-04 - val_loss: 4.8759e-04\nEpoch 383/1000\n11/11 [==============================] - 0s 6ms/step - loss: 7.5517e-04 - val_loss: 0.0014\nEpoch 384/1000\n11/11 [==============================] - 0s 6ms/step - loss: 9.3752e-04 - val_loss: 0.0012\nEpoch 385/1000\n11/11 [==============================] - 0s 6ms/step - loss: 8.7243e-04 - val_loss: 6.6170e-04\nEpoch 386/1000\n11/11 [==============================] - 0s 7ms/step - loss: 5.9511e-04 - val_loss: 4.8574e-04\nEpoch 387/1000\n11/11 [==============================] - 0s 6ms/step - loss: 9.8433e-04 - val_loss: 0.0014\nEpoch 388/1000\n11/11 [==============================] - 0s 6ms/step - loss: 8.3118e-04 - val_loss: 7.3374e-04\nEpoch 389/1000\n11/11 [==============================] - 0s 6ms/step - loss: 7.9191e-04 - val_loss: 5.2050e-04\nEpoch 390/1000\n11/11 [==============================] - 0s 6ms/step - loss: 8.0029e-04 - val_loss: 0.0012\nEpoch 391/1000\n11/11 [==============================] - 0s 6ms/step - loss: 8.4093e-04 - val_loss: 5.6449e-04\nEpoch 392/1000\n11/11 [==============================] - 0s 6ms/step - loss: 6.6283e-04 - val_loss: 5.5870e-04\nEpoch 393/1000\n11/11 [==============================] - 0s 6ms/step - loss: 8.3303e-04 - val_loss: 6.7100e-04\nEpoch 394/1000\n11/11 [==============================] - 0s 6ms/step - loss: 6.5928e-04 - val_loss: 7.1030e-04\nEpoch 395/1000\n11/11 [==============================] - 0s 6ms/step - loss: 7.7782e-04 - val_loss: 6.6150e-04\nEpoch 396/1000\n11/11 [==============================] - 0s 6ms/step - loss: 6.8060e-04 - val_loss: 5.9714e-04\nEpoch 397/1000\n11/11 [==============================] - 0s 6ms/step - loss: 7.6821e-04 - val_loss: 7.8331e-04\nEpoch 398/1000\n11/11 [==============================] - 0s 6ms/step - loss: 6.8175e-04 - val_loss: 6.7552e-04\nEpoch 399/1000\n11/11 [==============================] - 0s 6ms/step - loss: 5.0450e-04 - val_loss: 7.3813e-04\nEpoch 400/1000\n11/11 [==============================] - 0s 6ms/step - loss: 8.0093e-04 - val_loss: 5.9639e-04\nEpoch 401/1000\n11/11 [==============================] - 0s 6ms/step - loss: 8.2843e-04 - val_loss: 5.6927e-04\nEpoch 402/1000\n11/11 [==============================] - 0s 6ms/step - loss: 6.0246e-04 - val_loss: 6.8988e-04\nEpoch 403/1000\n11/11 [==============================] - 0s 6ms/step - loss: 7.3784e-04 - val_loss: 6.3374e-04\nEpoch 404/1000\n11/11 [==============================] - 0s 6ms/step - loss: 6.0883e-04 - val_loss: 4.7002e-04\nEpoch 405/1000\n11/11 [==============================] - 0s 7ms/step - loss: 6.9260e-04 - val_loss: 8.1444e-04\nEpoch 406/1000\n11/11 [==============================] - 0s 7ms/step - loss: 6.1599e-04 - val_loss: 9.2950e-04\nEpoch 407/1000\n11/11 [==============================] - 0s 7ms/step - loss: 7.4079e-04 - val_loss: 6.9574e-04\nEpoch 408/1000\n11/11 [==============================] - 0s 6ms/step - loss: 6.4844e-04 - val_loss: 8.2555e-04\nEpoch 409/1000\n11/11 [==============================] - 0s 6ms/step - loss: 7.1787e-04 - val_loss: 9.0851e-04\nEpoch 410/1000\n11/11 [==============================] - 0s 6ms/step - loss: 5.0691e-04 - val_loss: 6.3992e-04\nEpoch 411/1000\n11/11 [==============================] - 0s 6ms/step - loss: 5.5235e-04 - val_loss: 6.4381e-04\nEpoch 412/1000\n11/11 [==============================] - 0s 6ms/step - loss: 5.2565e-04 - val_loss: 6.5474e-04\nEpoch 413/1000\n11/11 [==============================] - 0s 7ms/step - loss: 5.8381e-04 - val_loss: 5.8421e-04\nEpoch 414/1000\n11/11 [==============================] - 0s 7ms/step - loss: 7.8765e-04 - val_loss: 8.3470e-04\nEpoch 415/1000\n11/11 [==============================] - 0s 6ms/step - loss: 5.5977e-04 - val_loss: 0.0010\nEpoch 416/1000\n11/11 [==============================] - 0s 6ms/step - loss: 5.4287e-04 - val_loss: 5.4922e-04\nEpoch 417/1000\n11/11 [==============================] - 0s 6ms/step - loss: 5.8233e-04 - val_loss: 9.9525e-04\nEpoch 418/1000\n11/11 [==============================] - 0s 7ms/step - loss: 8.0512e-04 - val_loss: 7.3673e-04\nEpoch 419/1000\n11/11 [==============================] - 0s 6ms/step - loss: 6.3984e-04 - val_loss: 8.7359e-04\nEpoch 420/1000\n11/11 [==============================] - 0s 7ms/step - loss: 8.3301e-04 - val_loss: 5.6316e-04\nEpoch 421/1000\n11/11 [==============================] - 0s 6ms/step - loss: 8.2968e-04 - val_loss: 6.1253e-04\nEpoch 422/1000\n11/11 [==============================] - 0s 6ms/step - loss: 8.1109e-04 - val_loss: 6.2757e-04\nEpoch 423/1000\n11/11 [==============================] - 0s 6ms/step - loss: 6.7696e-04 - val_loss: 0.0010\nEpoch 424/1000\n11/11 [==============================] - 0s 6ms/step - loss: 8.4799e-04 - val_loss: 8.3652e-04\nEpoch 425/1000\n11/11 [==============================] - 0s 7ms/step - loss: 5.9580e-04 - val_loss: 5.5160e-04\nEpoch 426/1000\n11/11 [==============================] - 0s 6ms/step - loss: 6.9367e-04 - val_loss: 5.0861e-04\nEpoch 427/1000\n11/11 [==============================] - 0s 6ms/step - loss: 9.7060e-04 - val_loss: 6.2901e-04\nEpoch 428/1000\n11/11 [==============================] - 0s 6ms/step - loss: 7.6125e-04 - val_loss: 9.2066e-04\nEpoch 429/1000\n11/11 [==============================] - 0s 6ms/step - loss: 7.3000e-04 - val_loss: 5.1885e-04\nEpoch 430/1000\n11/11 [==============================] - 0s 6ms/step - loss: 6.5350e-04 - val_loss: 8.0388e-04\nEpoch 431/1000\n11/11 [==============================] - 0s 6ms/step - loss: 6.9040e-04 - val_loss: 0.0012\nEpoch 432/1000\n11/11 [==============================] - 0s 6ms/step - loss: 7.6397e-04 - val_loss: 7.4966e-04\nEpoch 433/1000\n11/11 [==============================] - 0s 7ms/step - loss: 7.4152e-04 - val_loss: 5.6881e-04\nEpoch 434/1000\n11/11 [==============================] - 0s 7ms/step - loss: 6.5804e-04 - val_loss: 0.0012\nEpoch 435/1000\n11/11 [==============================] - 0s 6ms/step - loss: 5.9976e-04 - val_loss: 6.8253e-04\nEpoch 436/1000\n11/11 [==============================] - 0s 6ms/step - loss: 6.6859e-04 - val_loss: 0.0016\nEpoch 437/1000\n11/11 [==============================] - 0s 6ms/step - loss: 9.3479e-04 - val_loss: 8.2694e-04\nEpoch 438/1000\n11/11 [==============================] - 0s 6ms/step - loss: 0.0011 - val_loss: 5.7142e-04\nEpoch 439/1000\n11/11 [==============================] - 0s 6ms/step - loss: 8.0590e-04 - val_loss: 5.9147e-04\nEpoch 440/1000\n11/11 [==============================] - 0s 7ms/step - loss: 6.5486e-04 - val_loss: 9.5658e-04\nEpoch 441/1000\n11/11 [==============================] - 0s 6ms/step - loss: 6.3079e-04 - val_loss: 6.5539e-04\nEpoch 442/1000\n11/11 [==============================] - 0s 6ms/step - loss: 5.6596e-04 - val_loss: 7.6055e-04\nEpoch 443/1000\n11/11 [==============================] - 0s 6ms/step - loss: 5.8192e-04 - val_loss: 6.2748e-04\nEpoch 444/1000\n11/11 [==============================] - 0s 6ms/step - loss: 9.1669e-04 - val_loss: 7.9987e-04\nEpoch 445/1000\n11/11 [==============================] - 0s 6ms/step - loss: 5.9089e-04 - val_loss: 0.0014\nEpoch 446/1000\n11/11 [==============================] - 0s 6ms/step - loss: 8.2258e-04 - val_loss: 5.5108e-04\nEpoch 447/1000\n11/11 [==============================] - 0s 6ms/step - loss: 7.6607e-04 - val_loss: 7.1447e-04\nEpoch 448/1000\n11/11 [==============================] - 0s 6ms/step - loss: 6.9239e-04 - val_loss: 0.0012\nEpoch 449/1000\n11/11 [==============================] - 0s 6ms/step - loss: 9.7948e-04 - val_loss: 7.3223e-04\nEpoch 450/1000\n11/11 [==============================] - 0s 6ms/step - loss: 5.5043e-04 - val_loss: 7.6128e-04\nEpoch 451/1000\n11/11 [==============================] - 0s 6ms/step - loss: 5.4520e-04 - val_loss: 6.1564e-04\nEpoch 452/1000\n11/11 [==============================] - 0s 7ms/step - loss: 0.0013 - val_loss: 0.0021\nEpoch 453/1000\n11/11 [==============================] - 0s 7ms/step - loss: 9.8400e-04 - val_loss: 5.9150e-04\nEpoch 454/1000\n11/11 [==============================] - 0s 7ms/step - loss: 8.4014e-04 - val_loss: 0.0012\nEpoch 455/1000\n11/11 [==============================] - 0s 6ms/step - loss: 8.2558e-04 - val_loss: 8.9410e-04\nEpoch 456/1000\n11/11 [==============================] - 0s 6ms/step - loss: 5.1247e-04 - val_loss: 6.3582e-04\nEpoch 457/1000\n11/11 [==============================] - 0s 6ms/step - loss: 5.4186e-04 - val_loss: 8.6287e-04\nEpoch 458/1000\n11/11 [==============================] - 0s 6ms/step - loss: 5.9677e-04 - val_loss: 6.9846e-04\nEpoch 459/1000\n11/11 [==============================] - 0s 7ms/step - loss: 6.7836e-04 - val_loss: 5.3278e-04\nEpoch 460/1000\n11/11 [==============================] - 0s 6ms/step - loss: 5.9754e-04 - val_loss: 8.5206e-04\nEpoch 461/1000\n11/11 [==============================] - 0s 7ms/step - loss: 0.0010 - val_loss: 0.0019\nEpoch 462/1000\n11/11 [==============================] - 0s 7ms/step - loss: 7.8662e-04 - val_loss: 5.5206e-04\nEpoch 463/1000\n11/11 [==============================] - 0s 7ms/step - loss: 5.5987e-04 - val_loss: 5.5047e-04\nEpoch 464/1000\n11/11 [==============================] - 0s 7ms/step - loss: 5.7588e-04 - val_loss: 0.0013\nEpoch 465/1000\n11/11 [==============================] - 0s 7ms/step - loss: 0.0013 - val_loss: 5.0167e-04\nEpoch 466/1000\n11/11 [==============================] - 0s 6ms/step - loss: 5.8785e-04 - val_loss: 6.7267e-04\nEpoch 467/1000\n11/11 [==============================] - 0s 6ms/step - loss: 5.5308e-04 - val_loss: 6.5670e-04\nEpoch 468/1000\n11/11 [==============================] - 0s 7ms/step - loss: 6.1542e-04 - val_loss: 7.9037e-04\nEpoch 469/1000\n11/11 [==============================] - 0s 6ms/step - loss: 7.5852e-04 - val_loss: 8.0643e-04\nEpoch 470/1000\n11/11 [==============================] - 0s 7ms/step - loss: 7.3107e-04 - val_loss: 4.5356e-04\nEpoch 471/1000\n11/11 [==============================] - 0s 7ms/step - loss: 6.6920e-04 - val_loss: 5.7388e-04\nEpoch 472/1000\n11/11 [==============================] - 0s 6ms/step - loss: 8.0696e-04 - val_loss: 6.6142e-04\nEpoch 473/1000\n11/11 [==============================] - 0s 6ms/step - loss: 9.2459e-04 - val_loss: 5.2052e-04\nEpoch 474/1000\n11/11 [==============================] - 0s 7ms/step - loss: 6.8099e-04 - val_loss: 8.6846e-04\nEpoch 475/1000\n11/11 [==============================] - 0s 7ms/step - loss: 8.2888e-04 - val_loss: 5.5327e-04\nEpoch 476/1000\n11/11 [==============================] - 0s 7ms/step - loss: 7.5787e-04 - val_loss: 5.8918e-04\nEpoch 477/1000\n11/11 [==============================] - 0s 7ms/step - loss: 7.5442e-04 - val_loss: 7.9052e-04\nEpoch 478/1000\n11/11 [==============================] - 0s 6ms/step - loss: 8.0680e-04 - val_loss: 5.3015e-04\nEpoch 479/1000\n11/11 [==============================] - 0s 6ms/step - loss: 5.3636e-04 - val_loss: 6.0072e-04\nEpoch 480/1000\n11/11 [==============================] - 0s 6ms/step - loss: 7.4665e-04 - val_loss: 7.7017e-04\nEpoch 481/1000\n11/11 [==============================] - 0s 6ms/step - loss: 7.3820e-04 - val_loss: 9.6683e-04\nEpoch 482/1000\n11/11 [==============================] - 0s 6ms/step - loss: 8.9552e-04 - val_loss: 0.0011\nEpoch 483/1000\n11/11 [==============================] - 0s 6ms/step - loss: 0.0010 - val_loss: 5.3566e-04\nEpoch 484/1000\n11/11 [==============================] - 0s 6ms/step - loss: 6.9903e-04 - val_loss: 5.7722e-04\nEpoch 485/1000\n11/11 [==============================] - 0s 7ms/step - loss: 5.3909e-04 - val_loss: 7.5096e-04\nEpoch 486/1000\n11/11 [==============================] - 0s 6ms/step - loss: 5.7540e-04 - val_loss: 8.2092e-04\nEpoch 487/1000\n11/11 [==============================] - 0s 6ms/step - loss: 5.5061e-04 - val_loss: 4.7551e-04\nEpoch 488/1000\n11/11 [==============================] - 0s 6ms/step - loss: 7.9150e-04 - val_loss: 8.8666e-04\nEpoch 489/1000\n11/11 [==============================] - 0s 6ms/step - loss: 7.2488e-04 - val_loss: 6.9422e-04\nEpoch 490/1000\n11/11 [==============================] - 0s 7ms/step - loss: 6.2764e-04 - val_loss: 5.1617e-04\nEpoch 491/1000\n11/11 [==============================] - 0s 7ms/step - loss: 5.6694e-04 - val_loss: 6.9187e-04\nEpoch 492/1000\n11/11 [==============================] - 0s 6ms/step - loss: 8.0208e-04 - val_loss: 8.4739e-04\nEpoch 493/1000\n11/11 [==============================] - 0s 10ms/step - loss: 6.1263e-04 - val_loss: 6.0093e-04\nEpoch 494/1000\n11/11 [==============================] - 0s 8ms/step - loss: 5.3249e-04 - val_loss: 5.8966e-04\nEpoch 495/1000\n11/11 [==============================] - 0s 6ms/step - loss: 5.5861e-04 - val_loss: 4.8046e-04\nEpoch 496/1000\n11/11 [==============================] - 0s 6ms/step - loss: 7.9075e-04 - val_loss: 6.1976e-04\nEpoch 497/1000\n11/11 [==============================] - 0s 6ms/step - loss: 6.3904e-04 - val_loss: 7.8942e-04\nEpoch 498/1000\n11/11 [==============================] - 0s 7ms/step - loss: 4.4919e-04 - val_loss: 5.2038e-04\nEpoch 499/1000\n11/11 [==============================] - 0s 6ms/step - loss: 7.2413e-04 - val_loss: 6.7446e-04\nEpoch 500/1000\n11/11 [==============================] - 0s 6ms/step - loss: 6.6617e-04 - val_loss: 5.6968e-04\nEpoch 501/1000\n11/11 [==============================] - 0s 6ms/step - loss: 5.3659e-04 - val_loss: 6.8410e-04\nEpoch 502/1000\n11/11 [==============================] - 0s 6ms/step - loss: 4.8009e-04 - val_loss: 9.0835e-04\nEpoch 503/1000\n11/11 [==============================] - 0s 7ms/step - loss: 4.3458e-04 - val_loss: 5.8889e-04\nEpoch 504/1000\n11/11 [==============================] - 0s 6ms/step - loss: 5.9786e-04 - val_loss: 6.9036e-04\nEpoch 505/1000\n11/11 [==============================] - 0s 6ms/step - loss: 6.7728e-04 - val_loss: 0.0011\nEpoch 506/1000\n11/11 [==============================] - 0s 6ms/step - loss: 7.1469e-04 - val_loss: 5.0595e-04\nEpoch 507/1000\n11/11 [==============================] - 0s 6ms/step - loss: 6.6887e-04 - val_loss: 5.7110e-04\nEpoch 508/1000\n11/11 [==============================] - 0s 6ms/step - loss: 5.2789e-04 - val_loss: 5.6457e-04\nEpoch 509/1000\n11/11 [==============================] - 0s 6ms/step - loss: 6.9154e-04 - val_loss: 5.4039e-04\nEpoch 510/1000\n11/11 [==============================] - 0s 6ms/step - loss: 8.0094e-04 - val_loss: 4.6811e-04\nEpoch 511/1000\n11/11 [==============================] - 0s 6ms/step - loss: 7.1416e-04 - val_loss: 8.1219e-04\nEpoch 512/1000\n11/11 [==============================] - 0s 6ms/step - loss: 6.7584e-04 - val_loss: 7.0818e-04\nEpoch 513/1000\n11/11 [==============================] - 0s 6ms/step - loss: 5.6972e-04 - val_loss: 6.3958e-04\nEpoch 514/1000\n11/11 [==============================] - 0s 6ms/step - loss: 6.6654e-04 - val_loss: 6.9541e-04\nEpoch 515/1000\n11/11 [==============================] - 0s 6ms/step - loss: 6.1881e-04 - val_loss: 8.6380e-04\nEpoch 516/1000\n11/11 [==============================] - 0s 6ms/step - loss: 5.7472e-04 - val_loss: 5.6693e-04\nEpoch 517/1000\n11/11 [==============================] - 0s 7ms/step - loss: 5.9621e-04 - val_loss: 7.0389e-04\nEpoch 518/1000\n11/11 [==============================] - 0s 6ms/step - loss: 5.1476e-04 - val_loss: 6.7890e-04\nEpoch 519/1000\n11/11 [==============================] - 0s 6ms/step - loss: 5.7005e-04 - val_loss: 5.5693e-04\nEpoch 520/1000\n11/11 [==============================] - 0s 6ms/step - loss: 6.1102e-04 - val_loss: 6.9593e-04\nEpoch 521/1000\n11/11 [==============================] - 0s 7ms/step - loss: 7.9125e-04 - val_loss: 7.6382e-04\nEpoch 522/1000\n11/11 [==============================] - 0s 6ms/step - loss: 7.0078e-04 - val_loss: 7.5278e-04\nEpoch 523/1000\n11/11 [==============================] - 0s 6ms/step - loss: 8.8963e-04 - val_loss: 6.2544e-04\nEpoch 524/1000\n11/11 [==============================] - 0s 7ms/step - loss: 6.0067e-04 - val_loss: 6.8879e-04\nEpoch 525/1000\n11/11 [==============================] - 0s 6ms/step - loss: 4.8559e-04 - val_loss: 8.5384e-04\nEpoch 526/1000\n11/11 [==============================] - 0s 6ms/step - loss: 7.1136e-04 - val_loss: 7.2816e-04\nEpoch 527/1000\n11/11 [==============================] - 0s 7ms/step - loss: 6.7707e-04 - val_loss: 4.7356e-04\nEpoch 528/1000\n11/11 [==============================] - 0s 6ms/step - loss: 6.3787e-04 - val_loss: 6.0570e-04\nEpoch 529/1000\n11/11 [==============================] - 0s 6ms/step - loss: 6.5905e-04 - val_loss: 8.2518e-04\nEpoch 530/1000\n11/11 [==============================] - 0s 7ms/step - loss: 6.1804e-04 - val_loss: 5.8252e-04\nEpoch 531/1000\n11/11 [==============================] - 0s 7ms/step - loss: 5.3556e-04 - val_loss: 9.1030e-04\nEpoch 532/1000\n11/11 [==============================] - 0s 6ms/step - loss: 6.1543e-04 - val_loss: 5.9426e-04\nEpoch 533/1000\n11/11 [==============================] - 0s 6ms/step - loss: 7.5973e-04 - val_loss: 4.8067e-04\nEpoch 534/1000\n11/11 [==============================] - 0s 6ms/step - loss: 7.0627e-04 - val_loss: 4.5728e-04\nEpoch 535/1000\n11/11 [==============================] - 0s 6ms/step - loss: 6.2639e-04 - val_loss: 7.1797e-04\nEpoch 536/1000\n11/11 [==============================] - 0s 6ms/step - loss: 6.0583e-04 - val_loss: 8.5774e-04\nEpoch 537/1000\n11/11 [==============================] - 0s 7ms/step - loss: 4.4913e-04 - val_loss: 5.6524e-04\nEpoch 538/1000\n11/11 [==============================] - 0s 7ms/step - loss: 5.0609e-04 - val_loss: 5.0522e-04\nEpoch 539/1000\n11/11 [==============================] - 0s 6ms/step - loss: 9.5632e-04 - val_loss: 0.0017\nEpoch 540/1000\n11/11 [==============================] - 0s 6ms/step - loss: 0.0010 - val_loss: 5.6930e-04\nEpoch 541/1000\n11/11 [==============================] - 0s 6ms/step - loss: 6.5647e-04 - val_loss: 5.9695e-04\nEpoch 542/1000\n11/11 [==============================] - 0s 6ms/step - loss: 4.7284e-04 - val_loss: 8.7146e-04\nEpoch 543/1000\n11/11 [==============================] - 0s 6ms/step - loss: 8.9100e-04 - val_loss: 4.7802e-04\nEpoch 544/1000\n11/11 [==============================] - 0s 6ms/step - loss: 8.1925e-04 - val_loss: 5.5820e-04\nEpoch 545/1000\n11/11 [==============================] - 0s 6ms/step - loss: 6.7571e-04 - val_loss: 7.5000e-04\nEpoch 546/1000\n11/11 [==============================] - 0s 7ms/step - loss: 5.8144e-04 - val_loss: 9.1949e-04\nEpoch 547/1000\n11/11 [==============================] - 0s 7ms/step - loss: 5.9517e-04 - val_loss: 4.6935e-04\nEpoch 548/1000\n11/11 [==============================] - 0s 7ms/step - loss: 8.8561e-04 - val_loss: 6.5218e-04\nEpoch 549/1000\n11/11 [==============================] - 0s 6ms/step - loss: 6.4818e-04 - val_loss: 0.0012\nEpoch 550/1000\n11/11 [==============================] - 0s 6ms/step - loss: 6.4806e-04 - val_loss: 7.8520e-04\nEpoch 551/1000\n11/11 [==============================] - 0s 6ms/step - loss: 5.6899e-04 - val_loss: 0.0010\nEpoch 552/1000\n11/11 [==============================] - 0s 6ms/step - loss: 7.5924e-04 - val_loss: 5.4591e-04\nEpoch 553/1000\n11/11 [==============================] - 0s 6ms/step - loss: 4.9407e-04 - val_loss: 6.8199e-04\nEpoch 554/1000\n11/11 [==============================] - 0s 6ms/step - loss: 6.1626e-04 - val_loss: 7.6055e-04\nEpoch 555/1000\n11/11 [==============================] - 0s 6ms/step - loss: 8.1798e-04 - val_loss: 0.0011\nEpoch 556/1000\n11/11 [==============================] - 0s 6ms/step - loss: 8.1140e-04 - val_loss: 5.7007e-04\nEpoch 557/1000\n11/11 [==============================] - 0s 6ms/step - loss: 7.3628e-04 - val_loss: 4.6762e-04\nEpoch 558/1000\n11/11 [==============================] - 0s 6ms/step - loss: 5.7570e-04 - val_loss: 7.4859e-04\nEpoch 559/1000\n11/11 [==============================] - 0s 6ms/step - loss: 7.6256e-04 - val_loss: 7.5516e-04\nEpoch 560/1000\n11/11 [==============================] - 0s 7ms/step - loss: 5.8306e-04 - val_loss: 5.1999e-04\nEpoch 561/1000\n11/11 [==============================] - 0s 6ms/step - loss: 7.6694e-04 - val_loss: 8.1885e-04\nEpoch 562/1000\n11/11 [==============================] - 0s 7ms/step - loss: 5.0282e-04 - val_loss: 5.4197e-04\nEpoch 563/1000\n11/11 [==============================] - 0s 6ms/step - loss: 6.4908e-04 - val_loss: 6.5264e-04\nEpoch 564/1000\n11/11 [==============================] - 0s 6ms/step - loss: 5.0742e-04 - val_loss: 9.0523e-04\nEpoch 565/1000\n11/11 [==============================] - 0s 7ms/step - loss: 5.6420e-04 - val_loss: 5.8404e-04\nEpoch 566/1000\n11/11 [==============================] - 0s 6ms/step - loss: 5.3100e-04 - val_loss: 8.7566e-04\nEpoch 567/1000\n11/11 [==============================] - 0s 6ms/step - loss: 7.0955e-04 - val_loss: 0.0010\nEpoch 568/1000\n11/11 [==============================] - 0s 6ms/step - loss: 6.7011e-04 - val_loss: 5.1731e-04\nEpoch 569/1000\n11/11 [==============================] - 0s 6ms/step - loss: 7.4634e-04 - val_loss: 7.5805e-04\nEpoch 570/1000\n11/11 [==============================] - 0s 7ms/step - loss: 6.1247e-04 - val_loss: 9.1661e-04\nEpoch 571/1000\n11/11 [==============================] - 0s 6ms/step - loss: 8.3829e-04 - val_loss: 5.2701e-04\nEpoch 572/1000\n11/11 [==============================] - 0s 6ms/step - loss: 6.5203e-04 - val_loss: 5.4567e-04\nEpoch 573/1000\n11/11 [==============================] - 0s 6ms/step - loss: 6.8205e-04 - val_loss: 6.4865e-04\nEpoch 574/1000\n11/11 [==============================] - 0s 7ms/step - loss: 5.8851e-04 - val_loss: 5.5418e-04\nEpoch 575/1000\n11/11 [==============================] - 0s 7ms/step - loss: 6.1291e-04 - val_loss: 8.1199e-04\nEpoch 576/1000\n11/11 [==============================] - 0s 6ms/step - loss: 6.6786e-04 - val_loss: 5.6105e-04\nEpoch 577/1000\n11/11 [==============================] - 0s 6ms/step - loss: 5.6558e-04 - val_loss: 5.7233e-04\nEpoch 578/1000\n11/11 [==============================] - 0s 6ms/step - loss: 7.2256e-04 - val_loss: 5.2273e-04\nEpoch 579/1000\n11/11 [==============================] - 0s 7ms/step - loss: 5.8388e-04 - val_loss: 5.1102e-04\nEpoch 580/1000\n11/11 [==============================] - 0s 6ms/step - loss: 7.5916e-04 - val_loss: 7.4718e-04\nEpoch 581/1000\n11/11 [==============================] - 0s 6ms/step - loss: 7.2975e-04 - val_loss: 0.0012\nEpoch 582/1000\n11/11 [==============================] - 0s 6ms/step - loss: 6.1727e-04 - val_loss: 4.8156e-04\nEpoch 583/1000\n11/11 [==============================] - 0s 7ms/step - loss: 5.2617e-04 - val_loss: 8.3370e-04\nEpoch 584/1000\n11/11 [==============================] - 0s 7ms/step - loss: 5.8653e-04 - val_loss: 6.3467e-04\nEpoch 585/1000\n11/11 [==============================] - 0s 7ms/step - loss: 5.8622e-04 - val_loss: 4.8018e-04\nEpoch 586/1000\n11/11 [==============================] - 0s 7ms/step - loss: 9.0802e-04 - val_loss: 5.7538e-04\nEpoch 587/1000\n11/11 [==============================] - 0s 7ms/step - loss: 7.0540e-04 - val_loss: 7.2211e-04\nEpoch 588/1000\n11/11 [==============================] - 0s 7ms/step - loss: 5.8239e-04 - val_loss: 8.9812e-04\nEpoch 589/1000\n11/11 [==============================] - 0s 7ms/step - loss: 8.3153e-04 - val_loss: 7.0411e-04\nEpoch 590/1000\n11/11 [==============================] - 0s 7ms/step - loss: 8.9628e-04 - val_loss: 8.2952e-04\nEpoch 591/1000\n11/11 [==============================] - 0s 7ms/step - loss: 5.1371e-04 - val_loss: 7.8203e-04\nEpoch 592/1000\n11/11 [==============================] - 0s 7ms/step - loss: 7.4507e-04 - val_loss: 5.6724e-04\nEpoch 593/1000\n11/11 [==============================] - 0s 7ms/step - loss: 5.3042e-04 - val_loss: 4.9561e-04\nEpoch 594/1000\n11/11 [==============================] - 0s 7ms/step - loss: 7.3565e-04 - val_loss: 0.0013\nEpoch 595/1000\n11/11 [==============================] - 0s 7ms/step - loss: 6.8465e-04 - val_loss: 5.6002e-04\nEpoch 596/1000\n11/11 [==============================] - 0s 7ms/step - loss: 7.0389e-04 - val_loss: 0.0010\nEpoch 597/1000\n11/11 [==============================] - 0s 7ms/step - loss: 6.3924e-04 - val_loss: 9.9303e-04\nEpoch 598/1000\n11/11 [==============================] - 0s 7ms/step - loss: 5.6512e-04 - val_loss: 5.1249e-04\nEpoch 599/1000\n11/11 [==============================] - 0s 7ms/step - loss: 6.8350e-04 - val_loss: 5.4476e-04\nEpoch 600/1000\n11/11 [==============================] - 0s 7ms/step - loss: 6.7768e-04 - val_loss: 8.0284e-04\nEpoch 601/1000\n11/11 [==============================] - 0s 7ms/step - loss: 6.0546e-04 - val_loss: 8.6362e-04\nEpoch 602/1000\n11/11 [==============================] - 0s 7ms/step - loss: 5.3933e-04 - val_loss: 4.7480e-04\nEpoch 603/1000\n11/11 [==============================] - 0s 7ms/step - loss: 6.1340e-04 - val_loss: 6.8464e-04\nEpoch 604/1000\n11/11 [==============================] - 0s 7ms/step - loss: 5.6627e-04 - val_loss: 5.9335e-04\nEpoch 605/1000\n11/11 [==============================] - 0s 7ms/step - loss: 5.8823e-04 - val_loss: 5.6958e-04\nEpoch 606/1000\n11/11 [==============================] - 0s 7ms/step - loss: 6.6042e-04 - val_loss: 6.1841e-04\nEpoch 607/1000\n11/11 [==============================] - 0s 7ms/step - loss: 4.0390e-04 - val_loss: 7.2673e-04\nEpoch 608/1000\n11/11 [==============================] - 0s 7ms/step - loss: 5.3642e-04 - val_loss: 4.5315e-04\nEpoch 609/1000\n11/11 [==============================] - 0s 7ms/step - loss: 6.7417e-04 - val_loss: 5.3207e-04\nEpoch 610/1000\n11/11 [==============================] - 0s 7ms/step - loss: 5.3626e-04 - val_loss: 7.8827e-04\nEpoch 611/1000\n11/11 [==============================] - 0s 7ms/step - loss: 6.7172e-04 - val_loss: 5.6445e-04\nEpoch 612/1000\n11/11 [==============================] - 0s 7ms/step - loss: 6.1763e-04 - val_loss: 8.4422e-04\nEpoch 613/1000\n11/11 [==============================] - 0s 7ms/step - loss: 7.4028e-04 - val_loss: 7.5307e-04\nEpoch 614/1000\n11/11 [==============================] - 0s 7ms/step - loss: 7.0514e-04 - val_loss: 8.5946e-04\nEpoch 615/1000\n11/11 [==============================] - 0s 7ms/step - loss: 5.3880e-04 - val_loss: 5.2196e-04\nEpoch 616/1000\n11/11 [==============================] - 0s 7ms/step - loss: 6.2707e-04 - val_loss: 7.0490e-04\nEpoch 617/1000\n11/11 [==============================] - 0s 7ms/step - loss: 5.3923e-04 - val_loss: 7.0588e-04\nEpoch 618/1000\n11/11 [==============================] - 0s 7ms/step - loss: 6.5494e-04 - val_loss: 9.4411e-04\nEpoch 619/1000\n11/11 [==============================] - 0s 7ms/step - loss: 6.2461e-04 - val_loss: 4.9503e-04\nEpoch 620/1000\n11/11 [==============================] - 0s 7ms/step - loss: 6.5613e-04 - val_loss: 0.0010\nEpoch 621/1000\n11/11 [==============================] - 0s 7ms/step - loss: 8.4572e-04 - val_loss: 6.5877e-04\nEpoch 622/1000\n11/11 [==============================] - 0s 7ms/step - loss: 5.7595e-04 - val_loss: 4.6767e-04\nEpoch 623/1000\n11/11 [==============================] - 0s 7ms/step - loss: 9.4221e-04 - val_loss: 5.4262e-04\nEpoch 624/1000\n11/11 [==============================] - 0s 7ms/step - loss: 6.2988e-04 - val_loss: 6.8387e-04\nEpoch 625/1000\n11/11 [==============================] - 0s 7ms/step - loss: 6.4093e-04 - val_loss: 7.1987e-04\nEpoch 626/1000\n11/11 [==============================] - 0s 7ms/step - loss: 6.8535e-04 - val_loss: 8.5225e-04\nEpoch 627/1000\n11/11 [==============================] - 0s 7ms/step - loss: 5.8579e-04 - val_loss: 6.8138e-04\nEpoch 628/1000\n11/11 [==============================] - 0s 7ms/step - loss: 4.1559e-04 - val_loss: 4.6114e-04\nEpoch 629/1000\n11/11 [==============================] - 0s 7ms/step - loss: 7.0980e-04 - val_loss: 8.7490e-04\nEpoch 630/1000\n11/11 [==============================] - 0s 6ms/step - loss: 5.8484e-04 - val_loss: 8.2347e-04\nEpoch 631/1000\n11/11 [==============================] - 0s 7ms/step - loss: 9.3530e-04 - val_loss: 7.7757e-04\nEpoch 632/1000\n11/11 [==============================] - 0s 11ms/step - loss: 6.6702e-04 - val_loss: 7.6460e-04\nEpoch 633/1000\n11/11 [==============================] - 0s 7ms/step - loss: 5.8182e-04 - val_loss: 7.2538e-04\nEpoch 634/1000\n11/11 [==============================] - 0s 7ms/step - loss: 5.5915e-04 - val_loss: 6.2034e-04\nEpoch 635/1000\n11/11 [==============================] - 0s 7ms/step - loss: 7.8517e-04 - val_loss: 4.9685e-04\nEpoch 636/1000\n11/11 [==============================] - 0s 7ms/step - loss: 8.3518e-04 - val_loss: 5.7646e-04\nEpoch 637/1000\n11/11 [==============================] - 0s 7ms/step - loss: 7.5775e-04 - val_loss: 8.4405e-04\nEpoch 638/1000\n11/11 [==============================] - 0s 7ms/step - loss: 6.8017e-04 - val_loss: 7.2086e-04\nEpoch 639/1000\n11/11 [==============================] - 0s 7ms/step - loss: 6.8270e-04 - val_loss: 0.0013\nEpoch 640/1000\n11/11 [==============================] - 0s 7ms/step - loss: 6.4244e-04 - val_loss: 6.2010e-04\nEpoch 641/1000\n11/11 [==============================] - 0s 7ms/step - loss: 6.4833e-04 - val_loss: 4.5092e-04\nEpoch 642/1000\n11/11 [==============================] - 0s 7ms/step - loss: 6.6946e-04 - val_loss: 5.7514e-04\nEpoch 643/1000\n11/11 [==============================] - 0s 7ms/step - loss: 6.1015e-04 - val_loss: 7.0460e-04\nEpoch 644/1000\n11/11 [==============================] - 0s 7ms/step - loss: 5.9397e-04 - val_loss: 5.0950e-04\nEpoch 645/1000\n11/11 [==============================] - 0s 6ms/step - loss: 7.6129e-04 - val_loss: 8.3585e-04\nEpoch 646/1000\n11/11 [==============================] - 0s 7ms/step - loss: 5.9908e-04 - val_loss: 7.0608e-04\nEpoch 647/1000\n11/11 [==============================] - 0s 6ms/step - loss: 6.0983e-04 - val_loss: 8.7663e-04\nEpoch 648/1000\n11/11 [==============================] - 0s 7ms/step - loss: 6.2322e-04 - val_loss: 5.3673e-04\nEpoch 649/1000\n11/11 [==============================] - 0s 7ms/step - loss: 5.0024e-04 - val_loss: 7.5237e-04\nEpoch 650/1000\n11/11 [==============================] - 0s 7ms/step - loss: 5.8704e-04 - val_loss: 7.0322e-04\nEpoch 651/1000\n11/11 [==============================] - 0s 7ms/step - loss: 5.8230e-04 - val_loss: 4.7149e-04\nEpoch 652/1000\n11/11 [==============================] - 0s 7ms/step - loss: 5.6964e-04 - val_loss: 8.2413e-04\nEpoch 653/1000\n11/11 [==============================] - 0s 7ms/step - loss: 8.4663e-04 - val_loss: 5.1285e-04\nEpoch 654/1000\n11/11 [==============================] - 0s 7ms/step - loss: 7.2338e-04 - val_loss: 9.4175e-04\nEpoch 655/1000\n11/11 [==============================] - 0s 7ms/step - loss: 7.7028e-04 - val_loss: 8.2815e-04\nEpoch 656/1000\n11/11 [==============================] - 0s 7ms/step - loss: 7.4287e-04 - val_loss: 9.6524e-04\nEpoch 657/1000\n11/11 [==============================] - 0s 7ms/step - loss: 6.9542e-04 - val_loss: 5.4028e-04\nEpoch 658/1000\n11/11 [==============================] - 0s 7ms/step - loss: 7.8088e-04 - val_loss: 4.9248e-04\nEpoch 659/1000\n11/11 [==============================] - 0s 7ms/step - loss: 9.2556e-04 - val_loss: 9.6265e-04\nEpoch 660/1000\n11/11 [==============================] - 0s 7ms/step - loss: 6.3223e-04 - val_loss: 9.6368e-04\nEpoch 661/1000\n11/11 [==============================] - 0s 7ms/step - loss: 7.0328e-04 - val_loss: 7.8279e-04\nEpoch 662/1000\n11/11 [==============================] - 0s 7ms/step - loss: 8.9189e-04 - val_loss: 5.2211e-04\nEpoch 663/1000\n11/11 [==============================] - 0s 7ms/step - loss: 7.0815e-04 - val_loss: 7.5804e-04\nEpoch 664/1000\n11/11 [==============================] - 0s 7ms/step - loss: 5.5117e-04 - val_loss: 6.1878e-04\nEpoch 665/1000\n11/11 [==============================] - 0s 7ms/step - loss: 4.8021e-04 - val_loss: 9.0918e-04\nEpoch 666/1000\n11/11 [==============================] - 0s 7ms/step - loss: 6.0474e-04 - val_loss: 6.0994e-04\nEpoch 667/1000\n11/11 [==============================] - 0s 7ms/step - loss: 7.1374e-04 - val_loss: 9.3773e-04\nEpoch 668/1000\n11/11 [==============================] - 0s 7ms/step - loss: 6.2748e-04 - val_loss: 6.0697e-04\nEpoch 669/1000\n11/11 [==============================] - 0s 7ms/step - loss: 5.3819e-04 - val_loss: 4.9793e-04\nEpoch 670/1000\n11/11 [==============================] - 0s 14ms/step - loss: 7.7598e-04 - val_loss: 7.3127e-04\nEpoch 671/1000\n11/11 [==============================] - 0s 13ms/step - loss: 5.3229e-04 - val_loss: 5.5706e-04\nEpoch 672/1000\n11/11 [==============================] - 0s 16ms/step - loss: 6.5413e-04 - val_loss: 5.8472e-04\nEpoch 673/1000\n11/11 [==============================] - 0s 10ms/step - loss: 5.3022e-04 - val_loss: 6.3986e-04\nEpoch 674/1000\n11/11 [==============================] - 0s 18ms/step - loss: 6.6104e-04 - val_loss: 6.5920e-04\nEpoch 675/1000\n11/11 [==============================] - 0s 14ms/step - loss: 6.7026e-04 - val_loss: 5.5436e-04\nEpoch 676/1000\n11/11 [==============================] - 0s 15ms/step - loss: 4.8483e-04 - val_loss: 8.4191e-04\nEpoch 677/1000\n11/11 [==============================] - 0s 16ms/step - loss: 6.4904e-04 - val_loss: 5.7429e-04\nEpoch 678/1000\n11/11 [==============================] - 0s 15ms/step - loss: 6.2481e-04 - val_loss: 4.9406e-04\nEpoch 679/1000\n11/11 [==============================] - 0s 13ms/step - loss: 5.1147e-04 - val_loss: 7.8275e-04\nEpoch 680/1000\n11/11 [==============================] - 0s 13ms/step - loss: 5.2770e-04 - val_loss: 7.1626e-04\nEpoch 681/1000\n11/11 [==============================] - 0s 7ms/step - loss: 6.2426e-04 - val_loss: 5.5552e-04\nEpoch 682/1000\n11/11 [==============================] - 0s 7ms/step - loss: 5.8622e-04 - val_loss: 6.6580e-04\nEpoch 683/1000\n11/11 [==============================] - 0s 7ms/step - loss: 6.6173e-04 - val_loss: 5.9751e-04\nEpoch 684/1000\n11/11 [==============================] - 0s 7ms/step - loss: 5.3102e-04 - val_loss: 6.5062e-04\nEpoch 685/1000\n11/11 [==============================] - 0s 7ms/step - loss: 6.1723e-04 - val_loss: 4.9985e-04\nEpoch 686/1000\n11/11 [==============================] - 0s 7ms/step - loss: 5.7344e-04 - val_loss: 5.3166e-04\nEpoch 687/1000\n11/11 [==============================] - 0s 7ms/step - loss: 5.4265e-04 - val_loss: 6.0433e-04\nEpoch 688/1000\n11/11 [==============================] - 0s 7ms/step - loss: 6.4283e-04 - val_loss: 6.6289e-04\nEpoch 689/1000\n11/11 [==============================] - 0s 7ms/step - loss: 4.5266e-04 - val_loss: 5.8634e-04\nEpoch 690/1000\n11/11 [==============================] - 0s 7ms/step - loss: 4.5738e-04 - val_loss: 8.4028e-04\nEpoch 691/1000\n11/11 [==============================] - 0s 7ms/step - loss: 5.3100e-04 - val_loss: 6.9837e-04\nEpoch 692/1000\n11/11 [==============================] - 0s 7ms/step - loss: 5.8422e-04 - val_loss: 8.5596e-04\nEpoch 693/1000\n11/11 [==============================] - 0s 7ms/step - loss: 7.1519e-04 - val_loss: 7.1517e-04\nEpoch 694/1000\n11/11 [==============================] - 0s 7ms/step - loss: 7.3757e-04 - val_loss: 6.1573e-04\nEpoch 695/1000\n11/11 [==============================] - 0s 7ms/step - loss: 7.1478e-04 - val_loss: 4.8556e-04\nEpoch 696/1000\n11/11 [==============================] - 0s 7ms/step - loss: 6.1304e-04 - val_loss: 8.3317e-04\nEpoch 697/1000\n11/11 [==============================] - 0s 7ms/step - loss: 6.3767e-04 - val_loss: 9.7769e-04\nEpoch 698/1000\n11/11 [==============================] - 0s 7ms/step - loss: 6.2959e-04 - val_loss: 0.0012\nEpoch 699/1000\n11/11 [==============================] - 0s 7ms/step - loss: 6.4322e-04 - val_loss: 5.4868e-04\nEpoch 700/1000\n11/11 [==============================] - 0s 7ms/step - loss: 6.6710e-04 - val_loss: 7.7347e-04\nEpoch 701/1000\n11/11 [==============================] - 0s 7ms/step - loss: 6.3201e-04 - val_loss: 6.6121e-04\nEpoch 702/1000\n11/11 [==============================] - 0s 7ms/step - loss: 5.2427e-04 - val_loss: 5.2469e-04\nEpoch 703/1000\n11/11 [==============================] - 0s 7ms/step - loss: 8.5540e-04 - val_loss: 7.2574e-04\nEpoch 704/1000\n11/11 [==============================] - 0s 7ms/step - loss: 6.3575e-04 - val_loss: 6.4230e-04\nEpoch 705/1000\n11/11 [==============================] - 0s 7ms/step - loss: 5.4231e-04 - val_loss: 7.5194e-04\nEpoch 706/1000\n11/11 [==============================] - 0s 8ms/step - loss: 6.7407e-04 - val_loss: 4.6781e-04\nEpoch 707/1000\n11/11 [==============================] - 0s 7ms/step - loss: 6.5932e-04 - val_loss: 0.0013\nEpoch 708/1000\n11/11 [==============================] - 0s 7ms/step - loss: 8.8830e-04 - val_loss: 6.8347e-04\nEpoch 709/1000\n11/11 [==============================] - 0s 7ms/step - loss: 6.1320e-04 - val_loss: 6.0071e-04\nEpoch 710/1000\n11/11 [==============================] - 0s 7ms/step - loss: 5.7623e-04 - val_loss: 6.3846e-04\nEpoch 711/1000\n11/11 [==============================] - 0s 7ms/step - loss: 7.9775e-04 - val_loss: 5.3022e-04\nEpoch 712/1000\n11/11 [==============================] - 0s 7ms/step - loss: 4.3167e-04 - val_loss: 7.3055e-04\nEpoch 713/1000\n11/11 [==============================] - 0s 7ms/step - loss: 4.4159e-04 - val_loss: 7.0730e-04\nEpoch 714/1000\n11/11 [==============================] - 0s 7ms/step - loss: 7.0350e-04 - val_loss: 5.3822e-04\nEpoch 715/1000\n11/11 [==============================] - 0s 7ms/step - loss: 4.0461e-04 - val_loss: 6.8993e-04\nEpoch 716/1000\n11/11 [==============================] - 0s 7ms/step - loss: 5.8377e-04 - val_loss: 7.0111e-04\nEpoch 717/1000\n11/11 [==============================] - 0s 7ms/step - loss: 6.1283e-04 - val_loss: 8.3321e-04\nEpoch 718/1000\n11/11 [==============================] - 0s 7ms/step - loss: 6.7124e-04 - val_loss: 7.3699e-04\nEpoch 719/1000\n11/11 [==============================] - 0s 7ms/step - loss: 4.9445e-04 - val_loss: 7.0027e-04\nEpoch 720/1000\n11/11 [==============================] - 0s 7ms/step - loss: 7.0641e-04 - val_loss: 4.7597e-04\nEpoch 721/1000\n11/11 [==============================] - 0s 7ms/step - loss: 7.0403e-04 - val_loss: 7.9081e-04\nEpoch 722/1000\n11/11 [==============================] - 0s 7ms/step - loss: 6.4790e-04 - val_loss: 9.2009e-04\nEpoch 723/1000\n11/11 [==============================] - 0s 7ms/step - loss: 5.5218e-04 - val_loss: 6.0978e-04\nEpoch 724/1000\n11/11 [==============================] - 0s 7ms/step - loss: 5.0085e-04 - val_loss: 5.4157e-04\nEpoch 725/1000\n11/11 [==============================] - 0s 6ms/step - loss: 4.7389e-04 - val_loss: 5.6986e-04\nEpoch 726/1000\n11/11 [==============================] - 0s 7ms/step - loss: 6.3221e-04 - val_loss: 5.3722e-04\nEpoch 727/1000\n11/11 [==============================] - 0s 7ms/step - loss: 7.8837e-04 - val_loss: 4.6712e-04\nEpoch 728/1000\n11/11 [==============================] - 0s 7ms/step - loss: 8.5758e-04 - val_loss: 0.0017\nEpoch 729/1000\n11/11 [==============================] - 0s 7ms/step - loss: 7.6230e-04 - val_loss: 6.5833e-04\nEpoch 730/1000\n11/11 [==============================] - 0s 7ms/step - loss: 7.1963e-04 - val_loss: 6.1922e-04\nEpoch 731/1000\n11/11 [==============================] - 0s 7ms/step - loss: 5.5922e-04 - val_loss: 8.1936e-04\nEpoch 732/1000\n11/11 [==============================] - 0s 7ms/step - loss: 5.4482e-04 - val_loss: 8.5610e-04\nEpoch 733/1000\n11/11 [==============================] - 0s 7ms/step - loss: 6.9922e-04 - val_loss: 5.3347e-04\nEpoch 734/1000\n11/11 [==============================] - 0s 7ms/step - loss: 6.5311e-04 - val_loss: 6.5677e-04\nEpoch 735/1000\n11/11 [==============================] - 0s 7ms/step - loss: 3.8907e-04 - val_loss: 6.0102e-04\nEpoch 736/1000\n11/11 [==============================] - 0s 7ms/step - loss: 6.1404e-04 - val_loss: 8.3673e-04\nEpoch 737/1000\n11/11 [==============================] - 0s 7ms/step - loss: 5.4110e-04 - val_loss: 5.7691e-04\nEpoch 738/1000\n11/11 [==============================] - 0s 7ms/step - loss: 5.2340e-04 - val_loss: 6.8975e-04\nEpoch 739/1000\n11/11 [==============================] - 0s 7ms/step - loss: 6.8250e-04 - val_loss: 5.7286e-04\nEpoch 740/1000\n11/11 [==============================] - 0s 8ms/step - loss: 7.5340e-04 - val_loss: 5.3667e-04\nEpoch 741/1000\n11/11 [==============================] - 0s 7ms/step - loss: 8.5935e-04 - val_loss: 5.6989e-04\nEpoch 742/1000\n11/11 [==============================] - 0s 7ms/step - loss: 8.2920e-04 - val_loss: 0.0014\nEpoch 743/1000\n11/11 [==============================] - 0s 7ms/step - loss: 0.0010 - val_loss: 8.1112e-04\nEpoch 744/1000\n11/11 [==============================] - 0s 7ms/step - loss: 5.9326e-04 - val_loss: 7.0607e-04\nEpoch 745/1000\n11/11 [==============================] - 0s 7ms/step - loss: 6.8922e-04 - val_loss: 5.6485e-04\nEpoch 746/1000\n11/11 [==============================] - 0s 7ms/step - loss: 6.7290e-04 - val_loss: 0.0012\nEpoch 747/1000\n11/11 [==============================] - 0s 7ms/step - loss: 4.8993e-04 - val_loss: 7.2297e-04\nEpoch 748/1000\n11/11 [==============================] - 0s 7ms/step - loss: 6.7698e-04 - val_loss: 5.0901e-04\nEpoch 749/1000\n11/11 [==============================] - 0s 7ms/step - loss: 7.6526e-04 - val_loss: 5.1781e-04\nEpoch 750/1000\n11/11 [==============================] - 0s 7ms/step - loss: 8.5913e-04 - val_loss: 5.9829e-04\nEpoch 751/1000\n11/11 [==============================] - 0s 8ms/step - loss: 5.8239e-04 - val_loss: 8.0174e-04\nEpoch 752/1000\n11/11 [==============================] - 0s 7ms/step - loss: 5.5750e-04 - val_loss: 9.1657e-04\nEpoch 753/1000\n11/11 [==============================] - 0s 10ms/step - loss: 6.8006e-04 - val_loss: 6.0418e-04\nEpoch 754/1000\n11/11 [==============================] - 0s 7ms/step - loss: 7.3499e-04 - val_loss: 5.5581e-04\nEpoch 755/1000\n11/11 [==============================] - 0s 7ms/step - loss: 8.8872e-04 - val_loss: 9.9118e-04\nEpoch 756/1000\n11/11 [==============================] - 0s 7ms/step - loss: 6.1773e-04 - val_loss: 5.1996e-04\nEpoch 757/1000\n11/11 [==============================] - 0s 7ms/step - loss: 9.6923e-04 - val_loss: 5.4336e-04\nEpoch 758/1000\n11/11 [==============================] - 0s 7ms/step - loss: 9.6569e-04 - val_loss: 0.0015\nEpoch 759/1000\n11/11 [==============================] - 0s 7ms/step - loss: 8.3110e-04 - val_loss: 6.6242e-04\nEpoch 760/1000\n11/11 [==============================] - 0s 7ms/step - loss: 5.2096e-04 - val_loss: 7.5065e-04\nEpoch 761/1000\n11/11 [==============================] - 0s 7ms/step - loss: 4.2880e-04 - val_loss: 7.4567e-04\nEpoch 762/1000\n11/11 [==============================] - 0s 7ms/step - loss: 4.1701e-04 - val_loss: 6.6215e-04\nEpoch 763/1000\n11/11 [==============================] - 0s 7ms/step - loss: 9.0925e-04 - val_loss: 4.9606e-04\nEpoch 764/1000\n11/11 [==============================] - 0s 7ms/step - loss: 9.2947e-04 - val_loss: 5.5362e-04\nEpoch 765/1000\n11/11 [==============================] - 0s 7ms/step - loss: 6.0282e-04 - val_loss: 0.0011\nEpoch 766/1000\n11/11 [==============================] - 0s 7ms/step - loss: 4.5896e-04 - val_loss: 5.1311e-04\nEpoch 767/1000\n11/11 [==============================] - 0s 7ms/step - loss: 8.6591e-04 - val_loss: 0.0011\nEpoch 768/1000\n11/11 [==============================] - 0s 7ms/step - loss: 6.2535e-04 - val_loss: 5.1095e-04\nEpoch 769/1000\n11/11 [==============================] - 0s 7ms/step - loss: 6.5152e-04 - val_loss: 0.0016\nEpoch 770/1000\n11/11 [==============================] - 0s 7ms/step - loss: 8.6757e-04 - val_loss: 6.0688e-04\nEpoch 771/1000\n11/11 [==============================] - 0s 7ms/step - loss: 0.0011 - val_loss: 5.5510e-04\nEpoch 772/1000\n11/11 [==============================] - 0s 7ms/step - loss: 0.0011 - val_loss: 4.8936e-04\nEpoch 773/1000\n11/11 [==============================] - 0s 7ms/step - loss: 0.0025 - val_loss: 0.0014\nEpoch 774/1000\n11/11 [==============================] - 0s 7ms/step - loss: 0.0015 - val_loss: 5.2967e-04\nEpoch 775/1000\n11/11 [==============================] - 0s 7ms/step - loss: 6.9409e-04 - val_loss: 0.0010\nEpoch 776/1000\n11/11 [==============================] - 0s 7ms/step - loss: 0.0010 - val_loss: 7.9113e-04\nEpoch 777/1000\n11/11 [==============================] - 0s 7ms/step - loss: 7.0908e-04 - val_loss: 4.9605e-04\nEpoch 778/1000\n11/11 [==============================] - 0s 7ms/step - loss: 7.9206e-04 - val_loss: 0.0010\nEpoch 779/1000\n11/11 [==============================] - 0s 7ms/step - loss: 6.5037e-04 - val_loss: 7.1812e-04\nEpoch 780/1000\n11/11 [==============================] - 0s 7ms/step - loss: 6.5828e-04 - val_loss: 6.4465e-04\nEpoch 781/1000\n11/11 [==============================] - 0s 7ms/step - loss: 6.6452e-04 - val_loss: 5.0614e-04\nEpoch 782/1000\n11/11 [==============================] - 0s 7ms/step - loss: 6.7345e-04 - val_loss: 9.3232e-04\nEpoch 783/1000\n11/11 [==============================] - 0s 7ms/step - loss: 5.5251e-04 - val_loss: 6.7319e-04\nEpoch 784/1000\n11/11 [==============================] - 0s 7ms/step - loss: 5.1677e-04 - val_loss: 6.8565e-04\nEpoch 785/1000\n11/11 [==============================] - 0s 7ms/step - loss: 6.7282e-04 - val_loss: 9.1955e-04\nEpoch 786/1000\n11/11 [==============================] - 0s 8ms/step - loss: 8.0197e-04 - val_loss: 4.8923e-04\nEpoch 787/1000\n11/11 [==============================] - 0s 8ms/step - loss: 5.6342e-04 - val_loss: 7.7406e-04\nEpoch 788/1000\n11/11 [==============================] - 0s 8ms/step - loss: 4.8321e-04 - val_loss: 7.0884e-04\nEpoch 789/1000\n11/11 [==============================] - 0s 8ms/step - loss: 6.5105e-04 - val_loss: 5.1070e-04\nEpoch 790/1000\n11/11 [==============================] - 0s 7ms/step - loss: 5.2831e-04 - val_loss: 8.8528e-04\nEpoch 791/1000\n11/11 [==============================] - 0s 8ms/step - loss: 6.2337e-04 - val_loss: 0.0010\nEpoch 792/1000\n11/11 [==============================] - 0s 7ms/step - loss: 6.3285e-04 - val_loss: 5.8895e-04\nEpoch 793/1000\n11/11 [==============================] - 0s 7ms/step - loss: 5.9652e-04 - val_loss: 6.1738e-04\nEpoch 794/1000\n11/11 [==============================] - 0s 7ms/step - loss: 5.2722e-04 - val_loss: 8.0521e-04\nEpoch 795/1000\n11/11 [==============================] - 0s 7ms/step - loss: 6.4852e-04 - val_loss: 0.0011\nEpoch 796/1000\n11/11 [==============================] - 0s 7ms/step - loss: 6.7681e-04 - val_loss: 7.2323e-04\nEpoch 797/1000\n11/11 [==============================] - 0s 7ms/step - loss: 8.2215e-04 - val_loss: 5.2391e-04\nEpoch 798/1000\n11/11 [==============================] - 0s 7ms/step - loss: 6.7851e-04 - val_loss: 6.5050e-04\nEpoch 799/1000\n11/11 [==============================] - 0s 7ms/step - loss: 5.5619e-04 - val_loss: 9.5056e-04\nEpoch 800/1000\n11/11 [==============================] - 0s 7ms/step - loss: 8.6019e-04 - val_loss: 6.8674e-04\nEpoch 801/1000\n11/11 [==============================] - 0s 7ms/step - loss: 5.2452e-04 - val_loss: 6.0178e-04\nEpoch 802/1000\n11/11 [==============================] - 0s 7ms/step - loss: 6.3357e-04 - val_loss: 6.7529e-04\nEpoch 803/1000\n11/11 [==============================] - 0s 7ms/step - loss: 7.4191e-04 - val_loss: 8.9851e-04\nEpoch 804/1000\n11/11 [==============================] - 0s 7ms/step - loss: 5.2042e-04 - val_loss: 5.1326e-04\nEpoch 805/1000\n11/11 [==============================] - 0s 7ms/step - loss: 7.4522e-04 - val_loss: 5.4613e-04\nEpoch 806/1000\n11/11 [==============================] - 0s 7ms/step - loss: 6.7250e-04 - val_loss: 8.6697e-04\nEpoch 807/1000\n11/11 [==============================] - 0s 7ms/step - loss: 5.0547e-04 - val_loss: 9.4369e-04\nEpoch 808/1000\n11/11 [==============================] - 0s 7ms/step - loss: 9.2045e-04 - val_loss: 6.1181e-04\nEpoch 809/1000\n11/11 [==============================] - 0s 7ms/step - loss: 4.0814e-04 - val_loss: 7.9230e-04\nEpoch 810/1000\n11/11 [==============================] - 0s 7ms/step - loss: 6.7670e-04 - val_loss: 7.6565e-04\nEpoch 811/1000\n11/11 [==============================] - 0s 7ms/step - loss: 5.6172e-04 - val_loss: 6.2556e-04\nEpoch 812/1000\n11/11 [==============================] - 0s 7ms/step - loss: 5.4627e-04 - val_loss: 8.5540e-04\nEpoch 813/1000\n11/11 [==============================] - 0s 7ms/step - loss: 5.7295e-04 - val_loss: 4.9367e-04\nEpoch 814/1000\n11/11 [==============================] - 0s 7ms/step - loss: 7.0566e-04 - val_loss: 0.0011\nEpoch 815/1000\n11/11 [==============================] - 0s 7ms/step - loss: 6.0434e-04 - val_loss: 5.6127e-04\nEpoch 816/1000\n11/11 [==============================] - 0s 7ms/step - loss: 8.4093e-04 - val_loss: 8.1696e-04\nEpoch 817/1000\n11/11 [==============================] - 0s 7ms/step - loss: 6.0144e-04 - val_loss: 7.7018e-04\nEpoch 818/1000\n11/11 [==============================] - 0s 7ms/step - loss: 5.0513e-04 - val_loss: 5.2163e-04\nEpoch 819/1000\n11/11 [==============================] - 0s 7ms/step - loss: 7.0407e-04 - val_loss: 8.9922e-04\nEpoch 820/1000\n11/11 [==============================] - 0s 7ms/step - loss: 7.7391e-04 - val_loss: 5.6515e-04\nEpoch 821/1000\n11/11 [==============================] - 0s 7ms/step - loss: 5.6427e-04 - val_loss: 5.2633e-04\nEpoch 822/1000\n11/11 [==============================] - 0s 7ms/step - loss: 7.5815e-04 - val_loss: 9.2797e-04\nEpoch 823/1000\n11/11 [==============================] - 0s 7ms/step - loss: 5.7309e-04 - val_loss: 5.2794e-04\nEpoch 824/1000\n11/11 [==============================] - 0s 7ms/step - loss: 5.3585e-04 - val_loss: 0.0013\nEpoch 825/1000\n11/11 [==============================] - 0s 7ms/step - loss: 6.8132e-04 - val_loss: 5.3514e-04\nEpoch 826/1000\n11/11 [==============================] - 0s 8ms/step - loss: 6.3425e-04 - val_loss: 5.4972e-04\nEpoch 827/1000\n11/11 [==============================] - 0s 7ms/step - loss: 7.6594e-04 - val_loss: 8.1126e-04\nEpoch 828/1000\n11/11 [==============================] - 0s 7ms/step - loss: 6.7668e-04 - val_loss: 0.0011\nEpoch 829/1000\n11/11 [==============================] - 0s 7ms/step - loss: 5.9851e-04 - val_loss: 5.6732e-04\nEpoch 830/1000\n11/11 [==============================] - 0s 7ms/step - loss: 7.7378e-04 - val_loss: 0.0014\nEpoch 831/1000\n11/11 [==============================] - 0s 7ms/step - loss: 6.3642e-04 - val_loss: 5.3921e-04\nEpoch 832/1000\n11/11 [==============================] - 0s 7ms/step - loss: 7.7006e-04 - val_loss: 0.0012\nEpoch 833/1000\n11/11 [==============================] - 0s 7ms/step - loss: 5.5184e-04 - val_loss: 6.6525e-04\nEpoch 834/1000\n11/11 [==============================] - 0s 7ms/step - loss: 9.1829e-04 - val_loss: 5.3700e-04\nEpoch 835/1000\n11/11 [==============================] - 0s 7ms/step - loss: 7.8292e-04 - val_loss: 0.0011\nEpoch 836/1000\n11/11 [==============================] - 0s 7ms/step - loss: 5.9330e-04 - val_loss: 5.4542e-04\nEpoch 837/1000\n11/11 [==============================] - 0s 7ms/step - loss: 5.1895e-04 - val_loss: 8.6678e-04\nEpoch 838/1000\n11/11 [==============================] - 0s 7ms/step - loss: 5.5946e-04 - val_loss: 6.8601e-04\nEpoch 839/1000\n11/11 [==============================] - 0s 7ms/step - loss: 4.7774e-04 - val_loss: 5.5379e-04\nEpoch 840/1000\n11/11 [==============================] - 0s 7ms/step - loss: 6.1199e-04 - val_loss: 8.9807e-04\nEpoch 841/1000\n11/11 [==============================] - 0s 7ms/step - loss: 6.4346e-04 - val_loss: 5.1174e-04\nEpoch 842/1000\n11/11 [==============================] - 0s 7ms/step - loss: 5.8637e-04 - val_loss: 5.3243e-04\nEpoch 843/1000\n11/11 [==============================] - 0s 7ms/step - loss: 6.2102e-04 - val_loss: 7.8664e-04\nEpoch 844/1000\n11/11 [==============================] - 0s 7ms/step - loss: 5.2305e-04 - val_loss: 9.8543e-04\nEpoch 845/1000\n11/11 [==============================] - 0s 7ms/step - loss: 5.9000e-04 - val_loss: 5.5419e-04\nEpoch 846/1000\n11/11 [==============================] - 0s 7ms/step - loss: 5.1025e-04 - val_loss: 5.2825e-04\nEpoch 847/1000\n11/11 [==============================] - 0s 7ms/step - loss: 0.0010 - val_loss: 0.0011\nEpoch 848/1000\n11/11 [==============================] - 0s 7ms/step - loss: 6.0323e-04 - val_loss: 5.2024e-04\nEpoch 849/1000\n11/11 [==============================] - 0s 7ms/step - loss: 9.6102e-04 - val_loss: 5.9165e-04\nEpoch 850/1000\n11/11 [==============================] - 0s 7ms/step - loss: 8.9528e-04 - val_loss: 0.0012\nEpoch 851/1000\n11/11 [==============================] - 0s 7ms/step - loss: 6.7317e-04 - val_loss: 5.6824e-04\nEpoch 852/1000\n11/11 [==============================] - 0s 7ms/step - loss: 6.6813e-04 - val_loss: 5.7042e-04\nEpoch 853/1000\n11/11 [==============================] - 0s 7ms/step - loss: 6.1177e-04 - val_loss: 7.5673e-04\nEpoch 854/1000\n11/11 [==============================] - 0s 7ms/step - loss: 5.3830e-04 - val_loss: 5.0012e-04\nEpoch 855/1000\n11/11 [==============================] - 0s 7ms/step - loss: 8.7418e-04 - val_loss: 8.3100e-04\nEpoch 856/1000\n11/11 [==============================] - 0s 7ms/step - loss: 7.2883e-04 - val_loss: 0.0011\nEpoch 857/1000\n11/11 [==============================] - 0s 7ms/step - loss: 4.7136e-04 - val_loss: 5.3464e-04\nEpoch 858/1000\n11/11 [==============================] - 0s 7ms/step - loss: 4.7860e-04 - val_loss: 5.4553e-04\nEpoch 859/1000\n11/11 [==============================] - 0s 7ms/step - loss: 5.0120e-04 - val_loss: 6.0250e-04\nEpoch 860/1000\n11/11 [==============================] - 0s 7ms/step - loss: 6.3914e-04 - val_loss: 7.3406e-04\nEpoch 861/1000\n11/11 [==============================] - 0s 7ms/step - loss: 8.1632e-04 - val_loss: 5.0883e-04\nEpoch 862/1000\n11/11 [==============================] - 0s 7ms/step - loss: 6.8090e-04 - val_loss: 5.7649e-04\nEpoch 863/1000\n11/11 [==============================] - 0s 7ms/step - loss: 4.5526e-04 - val_loss: 7.4863e-04\nEpoch 864/1000\n11/11 [==============================] - 0s 7ms/step - loss: 8.2242e-04 - val_loss: 5.0411e-04\nEpoch 865/1000\n11/11 [==============================] - 0s 7ms/step - loss: 8.7658e-04 - val_loss: 8.7623e-04\nEpoch 866/1000\n11/11 [==============================] - 0s 7ms/step - loss: 5.1504e-04 - val_loss: 7.2010e-04\nEpoch 867/1000\n11/11 [==============================] - 0s 7ms/step - loss: 7.1692e-04 - val_loss: 8.2337e-04\nEpoch 868/1000\n11/11 [==============================] - 0s 7ms/step - loss: 6.8636e-04 - val_loss: 5.1696e-04\nEpoch 869/1000\n11/11 [==============================] - 0s 7ms/step - loss: 7.3906e-04 - val_loss: 7.7813e-04\nEpoch 870/1000\n11/11 [==============================] - 0s 7ms/step - loss: 8.1596e-04 - val_loss: 7.4876e-04\nEpoch 871/1000\n11/11 [==============================] - 0s 7ms/step - loss: 7.3232e-04 - val_loss: 5.0873e-04\nEpoch 872/1000\n11/11 [==============================] - 0s 7ms/step - loss: 8.9007e-04 - val_loss: 9.3894e-04\nEpoch 873/1000\n11/11 [==============================] - 0s 7ms/step - loss: 8.2724e-04 - val_loss: 6.0308e-04\nEpoch 874/1000\n11/11 [==============================] - 0s 7ms/step - loss: 5.3840e-04 - val_loss: 6.6412e-04\nEpoch 875/1000\n11/11 [==============================] - 0s 7ms/step - loss: 4.8939e-04 - val_loss: 6.8438e-04\nEpoch 876/1000\n11/11 [==============================] - 0s 7ms/step - loss: 6.3561e-04 - val_loss: 0.0010\nEpoch 877/1000\n11/11 [==============================] - 0s 7ms/step - loss: 6.7485e-04 - val_loss: 5.6079e-04\nEpoch 878/1000\n11/11 [==============================] - 0s 7ms/step - loss: 6.3863e-04 - val_loss: 7.0173e-04\nEpoch 879/1000\n11/11 [==============================] - 0s 8ms/step - loss: 5.2960e-04 - val_loss: 4.6071e-04\nEpoch 880/1000\n11/11 [==============================] - 0s 7ms/step - loss: 5.0758e-04 - val_loss: 8.5870e-04\nEpoch 881/1000\n11/11 [==============================] - 0s 7ms/step - loss: 6.7010e-04 - val_loss: 6.7636e-04\nEpoch 882/1000\n11/11 [==============================] - 0s 12ms/step - loss: 5.7887e-04 - val_loss: 8.0783e-04\nEpoch 883/1000\n11/11 [==============================] - 0s 6ms/step - loss: 6.6020e-04 - val_loss: 5.5229e-04\nEpoch 884/1000\n11/11 [==============================] - 0s 7ms/step - loss: 6.2671e-04 - val_loss: 7.4296e-04\nEpoch 885/1000\n11/11 [==============================] - 0s 7ms/step - loss: 5.4946e-04 - val_loss: 6.4112e-04\nEpoch 886/1000\n11/11 [==============================] - 0s 7ms/step - loss: 5.7425e-04 - val_loss: 6.2237e-04\nEpoch 887/1000\n11/11 [==============================] - 0s 7ms/step - loss: 6.3851e-04 - val_loss: 5.7063e-04\nEpoch 888/1000\n11/11 [==============================] - 0s 7ms/step - loss: 4.5697e-04 - val_loss: 8.5185e-04\nEpoch 889/1000\n11/11 [==============================] - 0s 7ms/step - loss: 5.3650e-04 - val_loss: 5.0269e-04\nEpoch 890/1000\n11/11 [==============================] - 0s 7ms/step - loss: 6.8922e-04 - val_loss: 0.0010\nEpoch 891/1000\n11/11 [==============================] - 0s 7ms/step - loss: 5.4703e-04 - val_loss: 5.7802e-04\nEpoch 892/1000\n11/11 [==============================] - 0s 7ms/step - loss: 6.2058e-04 - val_loss: 6.4595e-04\nEpoch 893/1000\n11/11 [==============================] - 0s 7ms/step - loss: 4.8829e-04 - val_loss: 0.0011\nEpoch 894/1000\n11/11 [==============================] - 0s 7ms/step - loss: 4.8657e-04 - val_loss: 5.6224e-04\nEpoch 895/1000\n11/11 [==============================] - 0s 7ms/step - loss: 4.4822e-04 - val_loss: 5.6247e-04\nEpoch 896/1000\n11/11 [==============================] - 0s 7ms/step - loss: 4.8553e-04 - val_loss: 6.2868e-04\nEpoch 897/1000\n11/11 [==============================] - 0s 7ms/step - loss: 6.0279e-04 - val_loss: 0.0010\nEpoch 898/1000\n11/11 [==============================] - 0s 7ms/step - loss: 7.0168e-04 - val_loss: 0.0010\nEpoch 899/1000\n11/11 [==============================] - 0s 7ms/step - loss: 9.6982e-04 - val_loss: 4.8939e-04\nEpoch 900/1000\n11/11 [==============================] - 0s 7ms/step - loss: 7.9375e-04 - val_loss: 0.0010\nEpoch 901/1000\n11/11 [==============================] - 0s 7ms/step - loss: 5.8561e-04 - val_loss: 6.3259e-04\nEpoch 902/1000\n11/11 [==============================] - 0s 7ms/step - loss: 5.3398e-04 - val_loss: 7.8456e-04\nEpoch 903/1000\n11/11 [==============================] - 0s 7ms/step - loss: 5.6874e-04 - val_loss: 7.3003e-04\nEpoch 904/1000\n11/11 [==============================] - 0s 7ms/step - loss: 5.5337e-04 - val_loss: 6.3811e-04\nEpoch 905/1000\n11/11 [==============================] - 0s 7ms/step - loss: 6.5029e-04 - val_loss: 4.9337e-04\nEpoch 906/1000\n11/11 [==============================] - 0s 7ms/step - loss: 5.7622e-04 - val_loss: 6.7827e-04\nEpoch 907/1000\n11/11 [==============================] - 0s 7ms/step - loss: 5.0316e-04 - val_loss: 5.2560e-04\nEpoch 908/1000\n11/11 [==============================] - 0s 7ms/step - loss: 6.0062e-04 - val_loss: 5.3353e-04\nEpoch 909/1000\n11/11 [==============================] - 0s 7ms/step - loss: 8.2083e-04 - val_loss: 0.0012\nEpoch 910/1000\n11/11 [==============================] - 0s 7ms/step - loss: 8.4378e-04 - val_loss: 6.7108e-04\nEpoch 911/1000\n11/11 [==============================] - 0s 7ms/step - loss: 7.4293e-04 - val_loss: 5.7565e-04\nEpoch 912/1000\n11/11 [==============================] - 0s 7ms/step - loss: 6.4308e-04 - val_loss: 7.4610e-04\nEpoch 913/1000\n11/11 [==============================] - 0s 7ms/step - loss: 5.1112e-04 - val_loss: 6.9618e-04\nEpoch 914/1000\n11/11 [==============================] - 0s 7ms/step - loss: 8.2604e-04 - val_loss: 5.2836e-04\nEpoch 915/1000\n11/11 [==============================] - 0s 8ms/step - loss: 5.0394e-04 - val_loss: 0.0010\nEpoch 916/1000\n11/11 [==============================] - 0s 7ms/step - loss: 4.2593e-04 - val_loss: 6.1793e-04\nEpoch 917/1000\n11/11 [==============================] - 0s 7ms/step - loss: 6.8357e-04 - val_loss: 5.1121e-04\nEpoch 918/1000\n11/11 [==============================] - 0s 7ms/step - loss: 5.8416e-04 - val_loss: 0.0011\nEpoch 919/1000\n11/11 [==============================] - 0s 7ms/step - loss: 8.4062e-04 - val_loss: 5.6493e-04\nEpoch 920/1000\n11/11 [==============================] - 0s 7ms/step - loss: 4.8111e-04 - val_loss: 6.3579e-04\nEpoch 921/1000\n11/11 [==============================] - 0s 7ms/step - loss: 4.9681e-04 - val_loss: 6.1595e-04\nEpoch 922/1000\n11/11 [==============================] - 0s 7ms/step - loss: 6.8742e-04 - val_loss: 6.2826e-04\nEpoch 923/1000\n11/11 [==============================] - 0s 7ms/step - loss: 4.7433e-04 - val_loss: 4.5881e-04\nEpoch 924/1000\n11/11 [==============================] - 0s 7ms/step - loss: 7.9260e-04 - val_loss: 0.0011\nEpoch 925/1000\n11/11 [==============================] - 0s 7ms/step - loss: 5.7329e-04 - val_loss: 6.0011e-04\nEpoch 926/1000\n11/11 [==============================] - 0s 7ms/step - loss: 5.8001e-04 - val_loss: 9.1165e-04\nEpoch 927/1000\n11/11 [==============================] - 0s 7ms/step - loss: 6.4652e-04 - val_loss: 8.9479e-04\nEpoch 928/1000\n11/11 [==============================] - 0s 7ms/step - loss: 6.3041e-04 - val_loss: 6.1444e-04\nEpoch 929/1000\n11/11 [==============================] - 0s 7ms/step - loss: 8.2416e-04 - val_loss: 4.6440e-04\nEpoch 930/1000\n11/11 [==============================] - 0s 7ms/step - loss: 6.5935e-04 - val_loss: 7.5267e-04\nEpoch 931/1000\n11/11 [==============================] - 0s 7ms/step - loss: 6.7495e-04 - val_loss: 0.0014\nEpoch 932/1000\n11/11 [==============================] - 0s 7ms/step - loss: 0.0012 - val_loss: 5.0843e-04\nEpoch 933/1000\n11/11 [==============================] - 0s 6ms/step - loss: 6.0098e-04 - val_loss: 9.9403e-04\nEpoch 934/1000\n11/11 [==============================] - 0s 7ms/step - loss: 6.8453e-04 - val_loss: 7.2113e-04\nEpoch 935/1000\n11/11 [==============================] - 0s 7ms/step - loss: 4.9394e-04 - val_loss: 8.3095e-04\nEpoch 936/1000\n11/11 [==============================] - 0s 7ms/step - loss: 4.4645e-04 - val_loss: 7.5226e-04\nEpoch 937/1000\n11/11 [==============================] - 0s 7ms/step - loss: 4.2045e-04 - val_loss: 6.9558e-04\nEpoch 938/1000\n11/11 [==============================] - 0s 7ms/step - loss: 5.2564e-04 - val_loss: 5.5004e-04\nEpoch 939/1000\n11/11 [==============================] - 0s 7ms/step - loss: 4.7588e-04 - val_loss: 5.8022e-04\nEpoch 940/1000\n11/11 [==============================] - 0s 7ms/step - loss: 6.7203e-04 - val_loss: 4.8770e-04\nEpoch 941/1000\n11/11 [==============================] - 0s 7ms/step - loss: 8.5339e-04 - val_loss: 9.0489e-04\nEpoch 942/1000\n11/11 [==============================] - 0s 7ms/step - loss: 7.2349e-04 - val_loss: 6.5029e-04\nEpoch 943/1000\n11/11 [==============================] - 0s 7ms/step - loss: 6.2667e-04 - val_loss: 9.1257e-04\nEpoch 944/1000\n11/11 [==============================] - 0s 7ms/step - loss: 4.5644e-04 - val_loss: 6.6344e-04\nEpoch 945/1000\n11/11 [==============================] - 0s 7ms/step - loss: 6.4624e-04 - val_loss: 6.5816e-04\nEpoch 946/1000\n11/11 [==============================] - 0s 7ms/step - loss: 5.8181e-04 - val_loss: 7.0727e-04\nEpoch 947/1000\n11/11 [==============================] - 0s 7ms/step - loss: 7.0078e-04 - val_loss: 7.9562e-04\nEpoch 948/1000\n11/11 [==============================] - 0s 7ms/step - loss: 5.7313e-04 - val_loss: 8.9122e-04\nEpoch 949/1000\n11/11 [==============================] - 0s 7ms/step - loss: 5.1716e-04 - val_loss: 5.8581e-04\nEpoch 950/1000\n11/11 [==============================] - 0s 6ms/step - loss: 6.0637e-04 - val_loss: 7.8316e-04\nEpoch 951/1000\n11/11 [==============================] - 0s 7ms/step - loss: 4.5757e-04 - val_loss: 6.5496e-04\nEpoch 952/1000\n11/11 [==============================] - 0s 6ms/step - loss: 8.3659e-04 - val_loss: 9.5972e-04\nEpoch 953/1000\n11/11 [==============================] - 0s 6ms/step - loss: 6.7750e-04 - val_loss: 8.8926e-04\nEpoch 954/1000\n11/11 [==============================] - 0s 7ms/step - loss: 6.8765e-04 - val_loss: 6.2746e-04\nEpoch 955/1000\n11/11 [==============================] - 0s 7ms/step - loss: 8.7172e-04 - val_loss: 0.0013\nEpoch 956/1000\n11/11 [==============================] - 0s 7ms/step - loss: 6.1398e-04 - val_loss: 6.5444e-04\nEpoch 957/1000\n11/11 [==============================] - 0s 7ms/step - loss: 7.4187e-04 - val_loss: 5.1502e-04\nEpoch 958/1000\n11/11 [==============================] - 0s 7ms/step - loss: 8.3218e-04 - val_loss: 7.3688e-04\nEpoch 959/1000\n11/11 [==============================] - 0s 7ms/step - loss: 6.3623e-04 - val_loss: 7.1312e-04\nEpoch 960/1000\n11/11 [==============================] - 0s 7ms/step - loss: 6.3479e-04 - val_loss: 6.3742e-04\nEpoch 961/1000\n11/11 [==============================] - 0s 7ms/step - loss: 6.3156e-04 - val_loss: 9.2394e-04\nEpoch 962/1000\n11/11 [==============================] - 0s 7ms/step - loss: 7.1484e-04 - val_loss: 4.9831e-04\nEpoch 963/1000\n11/11 [==============================] - 0s 7ms/step - loss: 4.9951e-04 - val_loss: 9.4673e-04\nEpoch 964/1000\n11/11 [==============================] - 0s 7ms/step - loss: 6.2511e-04 - val_loss: 9.4362e-04\nEpoch 965/1000\n11/11 [==============================] - 0s 7ms/step - loss: 5.9181e-04 - val_loss: 5.1339e-04\nEpoch 966/1000\n11/11 [==============================] - 0s 7ms/step - loss: 7.8615e-04 - val_loss: 0.0011\nEpoch 967/1000\n11/11 [==============================] - 0s 7ms/step - loss: 5.3006e-04 - val_loss: 5.6584e-04\nEpoch 968/1000\n11/11 [==============================] - 0s 7ms/step - loss: 6.5164e-04 - val_loss: 6.3009e-04\nEpoch 969/1000\n11/11 [==============================] - 0s 7ms/step - loss: 7.9136e-04 - val_loss: 0.0013\nEpoch 970/1000\n11/11 [==============================] - 0s 7ms/step - loss: 4.8338e-04 - val_loss: 5.1306e-04\nEpoch 971/1000\n11/11 [==============================] - 0s 8ms/step - loss: 4.9758e-04 - val_loss: 5.8547e-04\nEpoch 972/1000\n11/11 [==============================] - 0s 7ms/step - loss: 5.8325e-04 - val_loss: 6.6547e-04\nEpoch 973/1000\n11/11 [==============================] - 0s 7ms/step - loss: 5.3295e-04 - val_loss: 6.9776e-04\nEpoch 974/1000\n11/11 [==============================] - 0s 7ms/step - loss: 5.0900e-04 - val_loss: 5.6461e-04\nEpoch 975/1000\n11/11 [==============================] - 0s 7ms/step - loss: 6.4872e-04 - val_loss: 9.6492e-04\nEpoch 976/1000\n11/11 [==============================] - 0s 7ms/step - loss: 6.5309e-04 - val_loss: 6.3727e-04\nEpoch 977/1000\n11/11 [==============================] - 0s 7ms/step - loss: 6.7534e-04 - val_loss: 6.0624e-04\nEpoch 978/1000\n11/11 [==============================] - 0s 7ms/step - loss: 4.0144e-04 - val_loss: 8.0811e-04\nEpoch 979/1000\n11/11 [==============================] - 0s 7ms/step - loss: 4.3195e-04 - val_loss: 7.5840e-04\nEpoch 980/1000\n11/11 [==============================] - 0s 7ms/step - loss: 5.1939e-04 - val_loss: 7.4763e-04\nEpoch 981/1000\n11/11 [==============================] - 0s 7ms/step - loss: 5.6229e-04 - val_loss: 4.9626e-04\nEpoch 982/1000\n11/11 [==============================] - 0s 7ms/step - loss: 4.8458e-04 - val_loss: 9.5863e-04\nEpoch 983/1000\n11/11 [==============================] - 0s 7ms/step - loss: 7.1832e-04 - val_loss: 6.6080e-04\nEpoch 984/1000\n11/11 [==============================] - 0s 7ms/step - loss: 7.2191e-04 - val_loss: 4.9975e-04\nEpoch 985/1000\n11/11 [==============================] - 0s 7ms/step - loss: 8.6954e-04 - val_loss: 0.0012\nEpoch 986/1000\n11/11 [==============================] - 0s 7ms/step - loss: 5.1616e-04 - val_loss: 7.7015e-04\nEpoch 987/1000\n11/11 [==============================] - 0s 7ms/step - loss: 5.3020e-04 - val_loss: 5.4503e-04\nEpoch 988/1000\n11/11 [==============================] - 0s 7ms/step - loss: 9.8569e-04 - val_loss: 0.0019\nEpoch 989/1000\n11/11 [==============================] - 0s 7ms/step - loss: 9.9262e-04 - val_loss: 5.4076e-04\nEpoch 990/1000\n11/11 [==============================] - 0s 7ms/step - loss: 7.3861e-04 - val_loss: 6.0620e-04\nEpoch 991/1000\n11/11 [==============================] - 0s 7ms/step - loss: 7.2566e-04 - val_loss: 0.0016\nEpoch 992/1000\n11/11 [==============================] - 0s 7ms/step - loss: 5.9405e-04 - val_loss: 5.3423e-04\nEpoch 993/1000\n11/11 [==============================] - 0s 7ms/step - loss: 5.8774e-04 - val_loss: 0.0011\nEpoch 994/1000\n11/11 [==============================] - 0s 7ms/step - loss: 5.5834e-04 - val_loss: 7.1136e-04\nEpoch 995/1000\n11/11 [==============================] - 0s 7ms/step - loss: 4.6879e-04 - val_loss: 5.8172e-04\nEpoch 996/1000\n11/11 [==============================] - 0s 7ms/step - loss: 5.2755e-04 - val_loss: 5.4407e-04\nEpoch 997/1000\n11/11 [==============================] - 0s 7ms/step - loss: 4.3288e-04 - val_loss: 7.0404e-04\nEpoch 998/1000\n11/11 [==============================] - 0s 7ms/step - loss: 5.4364e-04 - val_loss: 7.8512e-04\nEpoch 999/1000\n11/11 [==============================] - 0s 7ms/step - loss: 5.9004e-04 - val_loss: 5.2868e-04\nEpoch 1000/1000\n11/11 [==============================] - 0s 7ms/step - loss: 5.7102e-04 - val_loss: 9.6410e-04\nSaved model to disk\nLoaded model from disk\n",
          "output_type": "stream"
        }
      ]
    },
    {
      "cell_type": "code",
      "source": [
        "plt.figure()\n",
        "plt.plot(history['loss'], label='train')\n",
        "plt.plot(history['val_loss'], label='test')\n",
        "plt.ylabel('loss')\n",
        "plt.xlabel('epoch')\n",
        "plt.legend()\n",
        "plt.show()"
      ],
      "metadata": {
        "id": "NI1esVXrjol4",
        "execution": {
          "iopub.status.busy": "2024-09-05T02:00:23.399373Z",
          "iopub.execute_input": "2024-09-05T02:00:23.39977Z",
          "iopub.status.idle": "2024-09-05T02:00:23.670398Z",
          "shell.execute_reply.started": "2024-09-05T02:00:23.39973Z",
          "shell.execute_reply": "2024-09-05T02:00:23.669309Z"
        },
        "trusted": true,
        "outputId": "66a8a715-adca-4a0f-a536-65cf5af5b97a"
      },
      "execution_count": null,
      "outputs": [
        {
          "output_type": "display_data",
          "data": {
            "text/plain": "<Figure size 432x288 with 1 Axes>",
            "image/png": "[encoded data removed]"
          },
          "metadata": {
            "needs_background": "light"
          }
        }
      ]
    },
    {
      "cell_type": "markdown",
      "source": [
        "As you can see, a Neural Network is well-fitted and no overfitting is observed.\n",
        "Let's calculate a prediction of the training (**res_train_ANN**) an test (**res_test_ANN**) sets.\n"
      ],
      "metadata": {
        "id": "tzi65ADDjol4"
      }
    },
    {
      "cell_type": "markdown",
      "source": [
        "Let's calculate a forecast and make an inverse normalization to real scale.\n"
      ],
      "metadata": {
        "id": "-OolwVvhjol4"
      }
    },
    {
      "cell_type": "code",
      "source": [
        "res_tr=estimator.predict(X_train)\n",
        "res_ts=estimator.predict(X_test)\n",
        "res_train_ANN=scaler_y.inverse_transform(res_tr.reshape(-1, 1)).flatten()\n",
        "res_test_ANN=scaler_y.inverse_transform(res_ts.reshape(-1, 1)).flatten()"
      ],
      "metadata": {
        "id": "-LbcwXiijol5",
        "execution": {
          "iopub.status.busy": "2024-09-05T02:00:26.496913Z",
          "iopub.execute_input": "2024-09-05T02:00:26.497248Z",
          "iopub.status.idle": "2024-09-05T02:00:26.744364Z",
          "shell.execute_reply.started": "2024-09-05T02:00:26.497191Z",
          "shell.execute_reply": "2024-09-05T02:00:26.743193Z"
        },
        "trusted": true,
        "outputId": "50e0305f-a102-41bf-a46e-4fcb1b471d9e"
      },
      "execution_count": null,
      "outputs": [
        {
          "name": "stdout",
          "text": "11/11 [==============================] - 0s 2ms/step\n5/5 [==============================] - 0s 2ms/step\n",
          "output_type": "stream"
        }
      ]
    },
    {
      "cell_type": "markdown",
      "source": [
        "Let's compare the accuracy of a Linear Regression and a Neural Network.\n"
      ],
      "metadata": {
        "id": "GO--0BBwjol5"
      }
    },
    {
      "cell_type": "code",
      "source": [
        "print(\"Correlation train\", np.corrcoef(res_train, res_train_ANN)[0,1])\n",
        "print(\"Correlation train\", np.corrcoef(res_test, res_test_ANN)[0,1])\n",
        "print('Mean Absolute Error:', metrics.mean_absolute_error(y_test, res_test_ANN))\n",
        "print('Mean Squared Error:', metrics.mean_squared_error(y_test, res_test_ANN))\n",
        "print('Root Mean Squared Error:', np.sqrt(metrics.mean_squared_error(y_test, res_test_ANN)))"
      ],
      "metadata": {
        "id": "0loru7LVjol6",
        "execution": {
          "iopub.status.busy": "2024-09-05T02:00:30.884648Z",
          "iopub.execute_input": "2024-09-05T02:00:30.88497Z",
          "iopub.status.idle": "2024-09-05T02:00:30.897996Z",
          "shell.execute_reply.started": "2024-09-05T02:00:30.884936Z",
          "shell.execute_reply": "2024-09-05T02:00:30.896805Z"
        },
        "trusted": true,
        "outputId": "7e0eab5a-50f4-4072-8630-51bcd8da6986"
      },
      "execution_count": null,
      "outputs": [
        {
          "name": "stdout",
          "text": "Correlation train 0.9984492128139618\nCorrelation train 0.9925286990326266\nMean Absolute Error: 42038.525752372436\nMean Squared Error: 8547903241.246717\nRoot Mean Squared Error: 92454.87137650842\n",
          "output_type": "stream"
        }
      ]
    },
    {
      "cell_type": "markdown",
      "source": [
        "We got slightly better results for a Neural Network than for a Linear Regression.\n"
      ],
      "metadata": {
        "id": "knCFLwJKjol7"
      }
    },
    {
      "cell_type": "markdown",
      "source": [
        "# Long Short-Term Memory - LSTM\n"
      ],
      "metadata": {
        "id": "sh5LVW2ajol7"
      }
    },
    {
      "cell_type": "markdown",
      "source": [
        "Unlike standard feedforward neural networks, **LSTM** has feedback connections. It can process not only single data points, but also entire sequences of data (such as speech, video or time series).\n",
        "\n",
        "In case of time series, the neural network has one input and one output. However, there should be a vector of time series values for the previous time period on the input.\n"
      ],
      "metadata": {
        "id": "iwRiFqZ6jol8"
      }
    },
    {
      "cell_type": "markdown",
      "source": [
        "To do this, we should transform input DataSets into 3D shape.\n"
      ],
      "metadata": {
        "id": "AhN3dMeLjol9"
      }
    },
    {
      "cell_type": "code",
      "source": [
        "train_x_LSTM = X_train.reshape((X_train.shape[0], 1, 14))\n",
        "test_x_LSTM = X_test.reshape((X_test.shape[0], 1, 14))"
      ],
      "metadata": {
        "id": "0qIDV-K9jol9",
        "execution": {
          "iopub.status.busy": "2024-09-05T02:00:34.376342Z",
          "iopub.execute_input": "2024-09-05T02:00:34.376698Z",
          "iopub.status.idle": "2024-09-05T02:00:34.382347Z",
          "shell.execute_reply.started": "2024-09-05T02:00:34.376658Z",
          "shell.execute_reply": "2024-09-05T02:00:34.381315Z"
        },
        "trusted": true
      },
      "execution_count": null,
      "outputs": []
    },
    {
      "cell_type": "markdown",
      "source": [
        "Let's create an LSTM Neural Network consisting of one **LSTM** layer and one BP layer like in the previous case.\n",
        "In this case our NN will consist of 7 LSTM and 7 BP neurons only.\n"
      ],
      "metadata": {
        "id": "dWhD97wRjol9"
      }
    },
    {
      "cell_type": "code",
      "source": [
        "from keras.layers import LSTM\n",
        "\n",
        "batch_size=int(y_train.shape[0]*.1)\n",
        "model = Sequential()\n",
        "model.add(LSTM(7, input_shape=(train_x_LSTM.shape[1], train_x_LSTM.shape[2])))\n",
        "model.add(Dropout(0.2))\n",
        "model.add(Dense(7, kernel_initializer='normal', activation='relu'))\n",
        "model.add(Dropout(0.2))\n",
        "model.add(Dense(y_train.shape[1])) #activation='sigmoid'\n",
        "model.compile(loss='mean_squared_error', optimizer='adam')\n",
        "\n"
      ],
      "metadata": {
        "id": "76Ui9g3ajol-",
        "execution": {
          "iopub.status.busy": "2024-09-05T02:00:35.926995Z",
          "iopub.execute_input": "2024-09-05T02:00:35.927869Z",
          "iopub.status.idle": "2024-09-05T02:00:36.247392Z",
          "shell.execute_reply.started": "2024-09-05T02:00:35.927824Z",
          "shell.execute_reply": "2024-09-05T02:00:36.246412Z"
        },
        "trusted": true
      },
      "execution_count": null,
      "outputs": []
    },
    {
      "cell_type": "markdown",
      "source": [
        "All subsequent steps of learning, storing, reading and predicting are similar to the ones we used with the previous neural network. You can see that only 420 epochs are enough for an LSTM.\n"
      ],
      "metadata": {
        "id": "IhsB8Thgjol_"
      }
    },
    {
      "cell_type": "code",
      "source": [
        "fitting = True\n",
        "fitting_save = True\n",
        "epochs = 420\n",
        "\n",
        "if fitting:\n",
        "    history = model.fit(train_x_LSTM, y_train, epochs=epochs, batch_size=batch_size, validation_data=(test_x_LSTM, y_test), verbose=1, shuffle=False)\n",
        "    if fitting_save:\n",
        "    # serialize model to JSON\n",
        "        model_json = model.to_json()\n",
        "        with open(\"LSTM_model.json\", \"w\") as json_file:\n",
        "            json_file.write(model_json)\n",
        "        # serialize weights to HDF5\n",
        "        model.save_weights(\"LSTM_model.h5\")\n",
        "        print(\"Saved model to disk\")\n",
        "        with open('history_LSTM.pickle', 'wb') as f:\n",
        "            pickle.dump(history.history, f)\n",
        "# load model\n",
        "from keras.models import model_from_json\n",
        "json_file = open('LSTM_model.json', 'r')\n",
        "loaded_model_json = json_file.read()\n",
        "json_file.close()\n",
        "model = model_from_json(loaded_model_json)\n",
        "# load weights into new model\n",
        "model.load_weights(\"LSTM_model.h5\")\n",
        "with open('history_LSTM.pickle', 'rb') as f:\n",
        "    history = pickle.load(f)\n",
        "print(\"Loaded model from disk\")"
      ],
      "metadata": {
        "id": "MA8vKjjtjol_",
        "execution": {
          "iopub.status.busy": "2024-09-05T02:00:37.806686Z",
          "iopub.execute_input": "2024-09-05T02:00:37.807015Z",
          "iopub.status.idle": "2024-09-05T02:01:12.035776Z",
          "shell.execute_reply.started": "2024-09-05T02:00:37.80698Z",
          "shell.execute_reply": "2024-09-05T02:01:12.034735Z"
        },
        "trusted": true,
        "outputId": "0c16a727-d84f-479d-9aa5-9559f7ea5bff"
      },
      "execution_count": null,
      "outputs": [
        {
          "name": "stdout",
          "text": "Epoch 1/420\n11/11 [==============================] - 3s 57ms/step - loss: 0.0581 - val_loss: 0.0390\nEpoch 2/420\n11/11 [==============================] - 0s 6ms/step - loss: 0.0552 - val_loss: 0.0374\nEpoch 3/420\n11/11 [==============================] - 0s 6ms/step - loss: 0.0527 - val_loss: 0.0360\nEpoch 4/420\n11/11 [==============================] - 0s 6ms/step - loss: 0.0506 - val_loss: 0.0347\nEpoch 5/420\n11/11 [==============================] - 0s 6ms/step - loss: 0.0485 - val_loss: 0.0337\nEpoch 6/420\n11/11 [==============================] - 0s 6ms/step - loss: 0.0469 - val_loss: 0.0327\nEpoch 7/420\n11/11 [==============================] - 0s 7ms/step - loss: 0.0446 - val_loss: 0.0319\nEpoch 8/420\n11/11 [==============================] - 0s 7ms/step - loss: 0.0430 - val_loss: 0.0311\nEpoch 9/420\n11/11 [==============================] - 0s 7ms/step - loss: 0.0428 - val_loss: 0.0305\nEpoch 10/420\n11/11 [==============================] - 0s 6ms/step - loss: 0.0418 - val_loss: 0.0299\nEpoch 11/420\n11/11 [==============================] - 0s 6ms/step - loss: 0.0398 - val_loss: 0.0294\nEpoch 12/420\n11/11 [==============================] - 0s 6ms/step - loss: 0.0385 - val_loss: 0.0289\nEpoch 13/420\n11/11 [==============================] - 0s 6ms/step - loss: 0.0370 - val_loss: 0.0284\nEpoch 14/420\n11/11 [==============================] - 0s 6ms/step - loss: 0.0354 - val_loss: 0.0278\nEpoch 15/420\n11/11 [==============================] - 0s 6ms/step - loss: 0.0337 - val_loss: 0.0272\nEpoch 16/420\n11/11 [==============================] - 0s 6ms/step - loss: 0.0332 - val_loss: 0.0265\nEpoch 17/420\n11/11 [==============================] - 0s 6ms/step - loss: 0.0318 - val_loss: 0.0258\nEpoch 18/420\n11/11 [==============================] - 0s 6ms/step - loss: 0.0295 - val_loss: 0.0251\nEpoch 19/420\n11/11 [==============================] - 0s 6ms/step - loss: 0.0281 - val_loss: 0.0243\nEpoch 20/420\n11/11 [==============================] - 0s 6ms/step - loss: 0.0275 - val_loss: 0.0234\nEpoch 21/420\n11/11 [==============================] - 0s 6ms/step - loss: 0.0269 - val_loss: 0.0225\nEpoch 22/420\n11/11 [==============================] - 0s 6ms/step - loss: 0.0224 - val_loss: 0.0216\nEpoch 23/420\n11/11 [==============================] - 0s 7ms/step - loss: 0.0259 - val_loss: 0.0206\nEpoch 24/420\n11/11 [==============================] - 0s 7ms/step - loss: 0.0197 - val_loss: 0.0195\nEpoch 25/420\n11/11 [==============================] - 0s 6ms/step - loss: 0.0218 - val_loss: 0.0185\nEpoch 26/420\n11/11 [==============================] - 0s 6ms/step - loss: 0.0194 - val_loss: 0.0174\nEpoch 27/420\n11/11 [==============================] - 0s 6ms/step - loss: 0.0201 - val_loss: 0.0163\nEpoch 28/420\n11/11 [==============================] - 0s 6ms/step - loss: 0.0157 - val_loss: 0.0153\nEpoch 29/420\n11/11 [==============================] - 0s 6ms/step - loss: 0.0173 - val_loss: 0.0143\nEpoch 30/420\n11/11 [==============================] - 0s 6ms/step - loss: 0.0168 - val_loss: 0.0134\nEpoch 31/420\n11/11 [==============================] - 0s 6ms/step - loss: 0.0143 - val_loss: 0.0126\nEpoch 32/420\n11/11 [==============================] - 0s 6ms/step - loss: 0.0113 - val_loss: 0.0120\nEpoch 33/420\n11/11 [==============================] - 0s 6ms/step - loss: 0.0109 - val_loss: 0.0114\nEpoch 34/420\n11/11 [==============================] - 0s 6ms/step - loss: 0.0130 - val_loss: 0.0109\nEpoch 35/420\n11/11 [==============================] - 0s 6ms/step - loss: 0.0131 - val_loss: 0.0105\nEpoch 36/420\n11/11 [==============================] - 0s 6ms/step - loss: 0.0115 - val_loss: 0.0102\nEpoch 37/420\n11/11 [==============================] - 0s 6ms/step - loss: 0.0102 - val_loss: 0.0100\nEpoch 38/420\n11/11 [==============================] - 0s 7ms/step - loss: 0.0083 - val_loss: 0.0098\nEpoch 39/420\n11/11 [==============================] - 0s 7ms/step - loss: 0.0106 - val_loss: 0.0096\nEpoch 40/420\n11/11 [==============================] - 0s 6ms/step - loss: 0.0157 - val_loss: 0.0095\nEpoch 41/420\n11/11 [==============================] - 0s 6ms/step - loss: 0.0127 - val_loss: 0.0094\nEpoch 42/420\n11/11 [==============================] - 0s 6ms/step - loss: 0.0119 - val_loss: 0.0093\nEpoch 43/420\n11/11 [==============================] - 0s 6ms/step - loss: 0.0104 - val_loss: 0.0092\nEpoch 44/420\n11/11 [==============================] - 0s 6ms/step - loss: 0.0103 - val_loss: 0.0091\nEpoch 45/420\n11/11 [==============================] - 0s 7ms/step - loss: 0.0104 - val_loss: 0.0090\nEpoch 46/420\n11/11 [==============================] - 0s 6ms/step - loss: 0.0069 - val_loss: 0.0089\nEpoch 47/420\n11/11 [==============================] - 0s 6ms/step - loss: 0.0076 - val_loss: 0.0088\nEpoch 48/420\n11/11 [==============================] - 0s 6ms/step - loss: 0.0129 - val_loss: 0.0087\nEpoch 49/420\n11/11 [==============================] - 0s 6ms/step - loss: 0.0091 - val_loss: 0.0086\nEpoch 50/420\n11/11 [==============================] - 0s 7ms/step - loss: 0.0075 - val_loss: 0.0085\nEpoch 51/420\n11/11 [==============================] - 0s 6ms/step - loss: 0.0102 - val_loss: 0.0084\nEpoch 52/420\n11/11 [==============================] - 0s 7ms/step - loss: 0.0122 - val_loss: 0.0083\nEpoch 53/420\n11/11 [==============================] - 0s 7ms/step - loss: 0.0088 - val_loss: 0.0082\nEpoch 54/420\n11/11 [==============================] - 0s 7ms/step - loss: 0.0102 - val_loss: 0.0081\nEpoch 55/420\n11/11 [==============================] - 0s 6ms/step - loss: 0.0124 - val_loss: 0.0080\nEpoch 56/420\n11/11 [==============================] - 0s 6ms/step - loss: 0.0094 - val_loss: 0.0080\nEpoch 57/420\n11/11 [==============================] - 0s 6ms/step - loss: 0.0073 - val_loss: 0.0079\nEpoch 58/420\n11/11 [==============================] - 0s 6ms/step - loss: 0.0099 - val_loss: 0.0078\nEpoch 59/420\n11/11 [==============================] - 0s 7ms/step - loss: 0.0106 - val_loss: 0.0077\nEpoch 60/420\n11/11 [==============================] - 0s 6ms/step - loss: 0.0083 - val_loss: 0.0076\nEpoch 61/420\n11/11 [==============================] - 0s 7ms/step - loss: 0.0125 - val_loss: 0.0076\nEpoch 62/420\n11/11 [==============================] - 0s 7ms/step - loss: 0.0090 - val_loss: 0.0075\nEpoch 63/420\n11/11 [==============================] - 0s 7ms/step - loss: 0.0089 - val_loss: 0.0074\nEpoch 64/420\n11/11 [==============================] - 0s 7ms/step - loss: 0.0086 - val_loss: 0.0073\nEpoch 65/420\n11/11 [==============================] - 0s 7ms/step - loss: 0.0088 - val_loss: 0.0072\nEpoch 66/420\n11/11 [==============================] - 0s 7ms/step - loss: 0.0092 - val_loss: 0.0071\nEpoch 67/420\n11/11 [==============================] - 0s 7ms/step - loss: 0.0107 - val_loss: 0.0070\nEpoch 68/420\n11/11 [==============================] - 0s 7ms/step - loss: 0.0086 - val_loss: 0.0069\nEpoch 69/420\n11/11 [==============================] - 0s 7ms/step - loss: 0.0078 - val_loss: 0.0068\nEpoch 70/420\n11/11 [==============================] - 0s 6ms/step - loss: 0.0092 - val_loss: 0.0067\nEpoch 71/420\n11/11 [==============================] - 0s 7ms/step - loss: 0.0100 - val_loss: 0.0066\nEpoch 72/420\n11/11 [==============================] - 0s 7ms/step - loss: 0.0087 - val_loss: 0.0066\nEpoch 73/420\n11/11 [==============================] - 0s 7ms/step - loss: 0.0116 - val_loss: 0.0065\nEpoch 74/420\n11/11 [==============================] - 0s 7ms/step - loss: 0.0087 - val_loss: 0.0064\nEpoch 75/420\n11/11 [==============================] - 0s 7ms/step - loss: 0.0079 - val_loss: 0.0064\nEpoch 76/420\n11/11 [==============================] - 0s 7ms/step - loss: 0.0099 - val_loss: 0.0063\nEpoch 77/420\n11/11 [==============================] - 0s 6ms/step - loss: 0.0078 - val_loss: 0.0063\nEpoch 78/420\n11/11 [==============================] - 0s 6ms/step - loss: 0.0080 - val_loss: 0.0062\nEpoch 79/420\n11/11 [==============================] - 0s 6ms/step - loss: 0.0100 - val_loss: 0.0061\nEpoch 80/420\n11/11 [==============================] - 0s 6ms/step - loss: 0.0087 - val_loss: 0.0060\nEpoch 81/420\n11/11 [==============================] - 0s 7ms/step - loss: 0.0117 - val_loss: 0.0060\nEpoch 82/420\n11/11 [==============================] - 0s 6ms/step - loss: 0.0083 - val_loss: 0.0059\nEpoch 83/420\n11/11 [==============================] - 0s 6ms/step - loss: 0.0108 - val_loss: 0.0058\nEpoch 84/420\n11/11 [==============================] - 0s 6ms/step - loss: 0.0107 - val_loss: 0.0057\nEpoch 85/420\n11/11 [==============================] - 0s 6ms/step - loss: 0.0076 - val_loss: 0.0057\nEpoch 86/420\n11/11 [==============================] - 0s 6ms/step - loss: 0.0121 - val_loss: 0.0056\nEpoch 87/420\n11/11 [==============================] - 0s 7ms/step - loss: 0.0106 - val_loss: 0.0056\nEpoch 88/420\n11/11 [==============================] - 0s 6ms/step - loss: 0.0085 - val_loss: 0.0055\nEpoch 89/420\n11/11 [==============================] - 0s 6ms/step - loss: 0.0076 - val_loss: 0.0055\nEpoch 90/420\n11/11 [==============================] - 0s 7ms/step - loss: 0.0072 - val_loss: 0.0054\nEpoch 91/420\n11/11 [==============================] - 0s 6ms/step - loss: 0.0092 - val_loss: 0.0053\nEpoch 92/420\n11/11 [==============================] - 0s 7ms/step - loss: 0.0083 - val_loss: 0.0053\nEpoch 93/420\n11/11 [==============================] - 0s 7ms/step - loss: 0.0099 - val_loss: 0.0052\nEpoch 94/420\n11/11 [==============================] - 0s 7ms/step - loss: 0.0072 - val_loss: 0.0052\nEpoch 95/420\n11/11 [==============================] - 0s 7ms/step - loss: 0.0084 - val_loss: 0.0052\nEpoch 96/420\n11/11 [==============================] - 0s 6ms/step - loss: 0.0060 - val_loss: 0.0051\nEpoch 97/420\n11/11 [==============================] - 0s 6ms/step - loss: 0.0071 - val_loss: 0.0050\nEpoch 98/420\n11/11 [==============================] - 0s 7ms/step - loss: 0.0085 - val_loss: 0.0049\nEpoch 99/420\n11/11 [==============================] - 0s 6ms/step - loss: 0.0099 - val_loss: 0.0049\nEpoch 100/420\n11/11 [==============================] - 0s 6ms/step - loss: 0.0093 - val_loss: 0.0048\nEpoch 101/420\n11/11 [==============================] - 0s 6ms/step - loss: 0.0092 - val_loss: 0.0048\nEpoch 102/420\n11/11 [==============================] - 0s 6ms/step - loss: 0.0078 - val_loss: 0.0047\nEpoch 103/420\n11/11 [==============================] - 0s 6ms/step - loss: 0.0117 - val_loss: 0.0047\nEpoch 104/420\n11/11 [==============================] - 0s 6ms/step - loss: 0.0084 - val_loss: 0.0046\nEpoch 105/420\n11/11 [==============================] - 0s 6ms/step - loss: 0.0071 - val_loss: 0.0045\nEpoch 106/420\n11/11 [==============================] - 0s 6ms/step - loss: 0.0088 - val_loss: 0.0045\nEpoch 107/420\n11/11 [==============================] - 0s 6ms/step - loss: 0.0074 - val_loss: 0.0044\nEpoch 108/420\n11/11 [==============================] - 0s 7ms/step - loss: 0.0069 - val_loss: 0.0044\nEpoch 109/420\n11/11 [==============================] - 0s 8ms/step - loss: 0.0075 - val_loss: 0.0043\nEpoch 110/420\n11/11 [==============================] - 0s 7ms/step - loss: 0.0081 - val_loss: 0.0042\nEpoch 111/420\n11/11 [==============================] - 0s 6ms/step - loss: 0.0099 - val_loss: 0.0042\nEpoch 112/420\n11/11 [==============================] - 0s 9ms/step - loss: 0.0086 - val_loss: 0.0041\nEpoch 113/420\n11/11 [==============================] - 0s 7ms/step - loss: 0.0107 - val_loss: 0.0041\nEpoch 114/420\n11/11 [==============================] - 0s 7ms/step - loss: 0.0075 - val_loss: 0.0040\nEpoch 115/420\n11/11 [==============================] - 0s 6ms/step - loss: 0.0096 - val_loss: 0.0040\nEpoch 116/420\n11/11 [==============================] - 0s 6ms/step - loss: 0.0076 - val_loss: 0.0039\nEpoch 117/420\n11/11 [==============================] - 0s 7ms/step - loss: 0.0074 - val_loss: 0.0039\nEpoch 118/420\n11/11 [==============================] - 0s 7ms/step - loss: 0.0061 - val_loss: 0.0039\nEpoch 119/420\n11/11 [==============================] - 0s 6ms/step - loss: 0.0090 - val_loss: 0.0038\nEpoch 120/420\n11/11 [==============================] - 0s 6ms/step - loss: 0.0081 - val_loss: 0.0038\nEpoch 121/420\n11/11 [==============================] - 0s 6ms/step - loss: 0.0090 - val_loss: 0.0037\nEpoch 122/420\n11/11 [==============================] - 0s 6ms/step - loss: 0.0091 - val_loss: 0.0037\nEpoch 123/420\n11/11 [==============================] - 0s 6ms/step - loss: 0.0071 - val_loss: 0.0037\nEpoch 124/420\n11/11 [==============================] - 0s 6ms/step - loss: 0.0048 - val_loss: 0.0037\nEpoch 125/420\n11/11 [==============================] - 0s 6ms/step - loss: 0.0072 - val_loss: 0.0038\nEpoch 126/420\n11/11 [==============================] - 0s 7ms/step - loss: 0.0069 - val_loss: 0.0038\nEpoch 127/420\n11/11 [==============================] - 0s 6ms/step - loss: 0.0102 - val_loss: 0.0038\nEpoch 128/420\n11/11 [==============================] - 0s 6ms/step - loss: 0.0080 - val_loss: 0.0036\nEpoch 129/420\n11/11 [==============================] - 0s 6ms/step - loss: 0.0072 - val_loss: 0.0036\nEpoch 130/420\n11/11 [==============================] - 0s 6ms/step - loss: 0.0067 - val_loss: 0.0035\nEpoch 131/420\n11/11 [==============================] - 0s 7ms/step - loss: 0.0079 - val_loss: 0.0034\nEpoch 132/420\n11/11 [==============================] - 0s 7ms/step - loss: 0.0080 - val_loss: 0.0034\nEpoch 133/420\n11/11 [==============================] - 0s 6ms/step - loss: 0.0083 - val_loss: 0.0034\nEpoch 134/420\n11/11 [==============================] - 0s 6ms/step - loss: 0.0081 - val_loss: 0.0033\nEpoch 135/420\n11/11 [==============================] - 0s 6ms/step - loss: 0.0089 - val_loss: 0.0033\nEpoch 136/420\n11/11 [==============================] - 0s 7ms/step - loss: 0.0085 - val_loss: 0.0033\nEpoch 137/420\n11/11 [==============================] - 0s 7ms/step - loss: 0.0067 - val_loss: 0.0032\nEpoch 138/420\n11/11 [==============================] - 0s 7ms/step - loss: 0.0070 - val_loss: 0.0032\nEpoch 139/420\n11/11 [==============================] - 0s 7ms/step - loss: 0.0086 - val_loss: 0.0032\nEpoch 140/420\n11/11 [==============================] - 0s 7ms/step - loss: 0.0064 - val_loss: 0.0031\nEpoch 141/420\n11/11 [==============================] - 0s 7ms/step - loss: 0.0106 - val_loss: 0.0031\nEpoch 142/420\n11/11 [==============================] - 0s 7ms/step - loss: 0.0066 - val_loss: 0.0031\nEpoch 143/420\n11/11 [==============================] - 0s 7ms/step - loss: 0.0128 - val_loss: 0.0031\nEpoch 144/420\n11/11 [==============================] - 0s 7ms/step - loss: 0.0084 - val_loss: 0.0031\nEpoch 145/420\n11/11 [==============================] - 0s 7ms/step - loss: 0.0048 - val_loss: 0.0031\nEpoch 146/420\n11/11 [==============================] - 0s 7ms/step - loss: 0.0077 - val_loss: 0.0031\nEpoch 147/420\n11/11 [==============================] - 0s 7ms/step - loss: 0.0062 - val_loss: 0.0031\nEpoch 148/420\n11/11 [==============================] - 0s 7ms/step - loss: 0.0076 - val_loss: 0.0031\nEpoch 149/420\n11/11 [==============================] - 0s 7ms/step - loss: 0.0054 - val_loss: 0.0031\nEpoch 150/420\n11/11 [==============================] - 0s 7ms/step - loss: 0.0080 - val_loss: 0.0030\nEpoch 151/420\n11/11 [==============================] - 0s 7ms/step - loss: 0.0066 - val_loss: 0.0030\nEpoch 152/420\n11/11 [==============================] - 0s 7ms/step - loss: 0.0074 - val_loss: 0.0030\nEpoch 153/420\n11/11 [==============================] - 0s 7ms/step - loss: 0.0063 - val_loss: 0.0031\nEpoch 154/420\n11/11 [==============================] - 0s 7ms/step - loss: 0.0072 - val_loss: 0.0030\nEpoch 155/420\n11/11 [==============================] - 0s 7ms/step - loss: 0.0084 - val_loss: 0.0030\nEpoch 156/420\n11/11 [==============================] - 0s 7ms/step - loss: 0.0080 - val_loss: 0.0029\nEpoch 157/420\n11/11 [==============================] - 0s 7ms/step - loss: 0.0081 - val_loss: 0.0029\nEpoch 158/420\n11/11 [==============================] - 0s 6ms/step - loss: 0.0059 - val_loss: 0.0028\nEpoch 159/420\n11/11 [==============================] - 0s 6ms/step - loss: 0.0061 - val_loss: 0.0028\nEpoch 160/420\n11/11 [==============================] - 0s 7ms/step - loss: 0.0070 - val_loss: 0.0028\nEpoch 161/420\n11/11 [==============================] - 0s 7ms/step - loss: 0.0073 - val_loss: 0.0028\nEpoch 162/420\n11/11 [==============================] - 0s 6ms/step - loss: 0.0084 - val_loss: 0.0028\nEpoch 163/420\n11/11 [==============================] - 0s 7ms/step - loss: 0.0070 - val_loss: 0.0028\nEpoch 164/420\n11/11 [==============================] - 0s 6ms/step - loss: 0.0073 - val_loss: 0.0028\nEpoch 165/420\n11/11 [==============================] - 0s 6ms/step - loss: 0.0067 - val_loss: 0.0027\nEpoch 166/420\n11/11 [==============================] - 0s 6ms/step - loss: 0.0074 - val_loss: 0.0027\nEpoch 167/420\n11/11 [==============================] - 0s 7ms/step - loss: 0.0075 - val_loss: 0.0027\nEpoch 168/420\n11/11 [==============================] - 0s 6ms/step - loss: 0.0055 - val_loss: 0.0027\nEpoch 169/420\n11/11 [==============================] - 0s 7ms/step - loss: 0.0085 - val_loss: 0.0027\nEpoch 170/420\n11/11 [==============================] - 0s 7ms/step - loss: 0.0081 - val_loss: 0.0027\nEpoch 171/420\n11/11 [==============================] - 0s 7ms/step - loss: 0.0079 - val_loss: 0.0028\nEpoch 172/420\n11/11 [==============================] - 0s 7ms/step - loss: 0.0081 - val_loss: 0.0027\nEpoch 173/420\n11/11 [==============================] - 0s 6ms/step - loss: 0.0083 - val_loss: 0.0027\nEpoch 174/420\n11/11 [==============================] - 0s 6ms/step - loss: 0.0070 - val_loss: 0.0027\nEpoch 175/420\n11/11 [==============================] - 0s 6ms/step - loss: 0.0065 - val_loss: 0.0027\nEpoch 176/420\n11/11 [==============================] - 0s 7ms/step - loss: 0.0066 - val_loss: 0.0027\nEpoch 177/420\n11/11 [==============================] - 0s 7ms/step - loss: 0.0058 - val_loss: 0.0026\nEpoch 178/420\n11/11 [==============================] - 0s 7ms/step - loss: 0.0076 - val_loss: 0.0026\nEpoch 179/420\n11/11 [==============================] - 0s 7ms/step - loss: 0.0076 - val_loss: 0.0026\nEpoch 180/420\n11/11 [==============================] - 0s 7ms/step - loss: 0.0063 - val_loss: 0.0026\nEpoch 181/420\n11/11 [==============================] - 0s 7ms/step - loss: 0.0072 - val_loss: 0.0026\nEpoch 182/420\n11/11 [==============================] - 0s 7ms/step - loss: 0.0068 - val_loss: 0.0026\nEpoch 183/420\n11/11 [==============================] - 0s 7ms/step - loss: 0.0058 - val_loss: 0.0026\nEpoch 184/420\n11/11 [==============================] - 0s 7ms/step - loss: 0.0077 - val_loss: 0.0026\nEpoch 185/420\n11/11 [==============================] - 0s 7ms/step - loss: 0.0068 - val_loss: 0.0026\nEpoch 186/420\n11/11 [==============================] - 0s 7ms/step - loss: 0.0066 - val_loss: 0.0026\nEpoch 187/420\n11/11 [==============================] - 0s 7ms/step - loss: 0.0089 - val_loss: 0.0027\nEpoch 188/420\n11/11 [==============================] - 0s 7ms/step - loss: 0.0085 - val_loss: 0.0028\nEpoch 189/420\n11/11 [==============================] - 0s 7ms/step - loss: 0.0068 - val_loss: 0.0027\nEpoch 190/420\n11/11 [==============================] - 0s 7ms/step - loss: 0.0077 - val_loss: 0.0027\nEpoch 191/420\n11/11 [==============================] - 0s 7ms/step - loss: 0.0050 - val_loss: 0.0026\nEpoch 192/420\n11/11 [==============================] - 0s 6ms/step - loss: 0.0081 - val_loss: 0.0026\nEpoch 193/420\n11/11 [==============================] - 0s 7ms/step - loss: 0.0066 - val_loss: 0.0026\nEpoch 194/420\n11/11 [==============================] - 0s 7ms/step - loss: 0.0076 - val_loss: 0.0026\nEpoch 195/420\n11/11 [==============================] - 0s 6ms/step - loss: 0.0062 - val_loss: 0.0026\nEpoch 196/420\n11/11 [==============================] - 0s 7ms/step - loss: 0.0098 - val_loss: 0.0026\nEpoch 197/420\n11/11 [==============================] - 0s 7ms/step - loss: 0.0071 - val_loss: 0.0026\nEpoch 198/420\n11/11 [==============================] - 0s 6ms/step - loss: 0.0058 - val_loss: 0.0025\nEpoch 199/420\n11/11 [==============================] - 0s 7ms/step - loss: 0.0059 - val_loss: 0.0025\nEpoch 200/420\n11/11 [==============================] - 0s 8ms/step - loss: 0.0097 - val_loss: 0.0025\nEpoch 201/420\n11/11 [==============================] - 0s 12ms/step - loss: 0.0061 - val_loss: 0.0025\nEpoch 202/420\n11/11 [==============================] - 0s 9ms/step - loss: 0.0069 - val_loss: 0.0024\nEpoch 203/420\n11/11 [==============================] - 0s 11ms/step - loss: 0.0061 - val_loss: 0.0024\nEpoch 204/420\n11/11 [==============================] - 0s 11ms/step - loss: 0.0069 - val_loss: 0.0024\nEpoch 205/420\n11/11 [==============================] - 0s 14ms/step - loss: 0.0063 - val_loss: 0.0024\nEpoch 206/420\n11/11 [==============================] - 0s 8ms/step - loss: 0.0063 - val_loss: 0.0024\nEpoch 207/420\n11/11 [==============================] - 0s 10ms/step - loss: 0.0068 - val_loss: 0.0024\nEpoch 208/420\n11/11 [==============================] - 0s 9ms/step - loss: 0.0082 - val_loss: 0.0024\nEpoch 209/420\n11/11 [==============================] - 0s 9ms/step - loss: 0.0061 - val_loss: 0.0025\nEpoch 210/420\n11/11 [==============================] - 0s 10ms/step - loss: 0.0077 - val_loss: 0.0025\nEpoch 211/420\n11/11 [==============================] - 0s 9ms/step - loss: 0.0065 - val_loss: 0.0024\nEpoch 212/420\n11/11 [==============================] - 0s 10ms/step - loss: 0.0052 - val_loss: 0.0025\nEpoch 213/420\n11/11 [==============================] - 0s 11ms/step - loss: 0.0081 - val_loss: 0.0025\nEpoch 214/420\n11/11 [==============================] - 0s 7ms/step - loss: 0.0080 - val_loss: 0.0025\nEpoch 215/420\n11/11 [==============================] - 0s 7ms/step - loss: 0.0066 - val_loss: 0.0025\nEpoch 216/420\n11/11 [==============================] - 0s 7ms/step - loss: 0.0064 - val_loss: 0.0024\nEpoch 217/420\n11/11 [==============================] - 0s 7ms/step - loss: 0.0069 - val_loss: 0.0024\nEpoch 218/420\n11/11 [==============================] - 0s 7ms/step - loss: 0.0094 - val_loss: 0.0024\nEpoch 219/420\n11/11 [==============================] - 0s 7ms/step - loss: 0.0075 - val_loss: 0.0024\nEpoch 220/420\n11/11 [==============================] - 0s 7ms/step - loss: 0.0056 - val_loss: 0.0024\nEpoch 221/420\n11/11 [==============================] - 0s 7ms/step - loss: 0.0096 - val_loss: 0.0024\nEpoch 222/420\n11/11 [==============================] - 0s 7ms/step - loss: 0.0054 - val_loss: 0.0025\nEpoch 223/420\n11/11 [==============================] - 0s 7ms/step - loss: 0.0052 - val_loss: 0.0024\nEpoch 224/420\n11/11 [==============================] - 0s 7ms/step - loss: 0.0081 - val_loss: 0.0024\nEpoch 225/420\n11/11 [==============================] - 0s 7ms/step - loss: 0.0063 - val_loss: 0.0024\nEpoch 226/420\n11/11 [==============================] - 0s 7ms/step - loss: 0.0076 - val_loss: 0.0024\nEpoch 227/420\n11/11 [==============================] - 0s 7ms/step - loss: 0.0078 - val_loss: 0.0023\nEpoch 228/420\n11/11 [==============================] - 0s 7ms/step - loss: 0.0089 - val_loss: 0.0023\nEpoch 229/420\n11/11 [==============================] - 0s 6ms/step - loss: 0.0069 - val_loss: 0.0024\nEpoch 230/420\n11/11 [==============================] - 0s 7ms/step - loss: 0.0070 - val_loss: 0.0024\nEpoch 231/420\n11/11 [==============================] - 0s 7ms/step - loss: 0.0057 - val_loss: 0.0024\nEpoch 232/420\n11/11 [==============================] - 0s 6ms/step - loss: 0.0072 - val_loss: 0.0024\nEpoch 233/420\n11/11 [==============================] - 0s 7ms/step - loss: 0.0090 - val_loss: 0.0023\nEpoch 234/420\n11/11 [==============================] - 0s 7ms/step - loss: 0.0074 - val_loss: 0.0023\nEpoch 235/420\n11/11 [==============================] - 0s 7ms/step - loss: 0.0063 - val_loss: 0.0023\nEpoch 236/420\n11/11 [==============================] - 0s 6ms/step - loss: 0.0096 - val_loss: 0.0023\nEpoch 237/420\n11/11 [==============================] - 0s 7ms/step - loss: 0.0057 - val_loss: 0.0024\nEpoch 238/420\n11/11 [==============================] - 0s 8ms/step - loss: 0.0081 - val_loss: 0.0024\nEpoch 239/420\n11/11 [==============================] - 0s 7ms/step - loss: 0.0065 - val_loss: 0.0023\nEpoch 240/420\n11/11 [==============================] - 0s 7ms/step - loss: 0.0056 - val_loss: 0.0023\nEpoch 241/420\n11/11 [==============================] - 0s 9ms/step - loss: 0.0070 - val_loss: 0.0023\nEpoch 242/420\n11/11 [==============================] - 0s 7ms/step - loss: 0.0063 - val_loss: 0.0023\nEpoch 243/420\n11/11 [==============================] - 0s 6ms/step - loss: 0.0077 - val_loss: 0.0023\nEpoch 244/420\n11/11 [==============================] - 0s 7ms/step - loss: 0.0073 - val_loss: 0.0023\nEpoch 245/420\n11/11 [==============================] - 0s 6ms/step - loss: 0.0082 - val_loss: 0.0023\nEpoch 246/420\n11/11 [==============================] - 0s 7ms/step - loss: 0.0047 - val_loss: 0.0024\nEpoch 247/420\n11/11 [==============================] - 0s 7ms/step - loss: 0.0064 - val_loss: 0.0025\nEpoch 248/420\n11/11 [==============================] - 0s 6ms/step - loss: 0.0066 - val_loss: 0.0023\nEpoch 249/420\n11/11 [==============================] - 0s 6ms/step - loss: 0.0065 - val_loss: 0.0023\nEpoch 250/420\n11/11 [==============================] - 0s 7ms/step - loss: 0.0063 - val_loss: 0.0024\nEpoch 251/420\n11/11 [==============================] - 0s 6ms/step - loss: 0.0074 - val_loss: 0.0024\nEpoch 252/420\n11/11 [==============================] - 0s 7ms/step - loss: 0.0074 - val_loss: 0.0023\nEpoch 253/420\n11/11 [==============================] - 0s 6ms/step - loss: 0.0079 - val_loss: 0.0022\nEpoch 254/420\n11/11 [==============================] - 0s 6ms/step - loss: 0.0080 - val_loss: 0.0023\nEpoch 255/420\n11/11 [==============================] - 0s 7ms/step - loss: 0.0100 - val_loss: 0.0023\nEpoch 256/420\n11/11 [==============================] - 0s 7ms/step - loss: 0.0081 - val_loss: 0.0023\nEpoch 257/420\n11/11 [==============================] - 0s 6ms/step - loss: 0.0061 - val_loss: 0.0023\nEpoch 258/420\n11/11 [==============================] - 0s 7ms/step - loss: 0.0064 - val_loss: 0.0023\nEpoch 259/420\n11/11 [==============================] - 0s 7ms/step - loss: 0.0049 - val_loss: 0.0023\nEpoch 260/420\n11/11 [==============================] - 0s 7ms/step - loss: 0.0065 - val_loss: 0.0022\nEpoch 261/420\n11/11 [==============================] - 0s 7ms/step - loss: 0.0109 - val_loss: 0.0022\nEpoch 262/420\n11/11 [==============================] - 0s 7ms/step - loss: 0.0058 - val_loss: 0.0022\nEpoch 263/420\n11/11 [==============================] - 0s 7ms/step - loss: 0.0067 - val_loss: 0.0023\nEpoch 264/420\n11/11 [==============================] - 0s 8ms/step - loss: 0.0075 - val_loss: 0.0022\nEpoch 265/420\n11/11 [==============================] - 0s 8ms/step - loss: 0.0071 - val_loss: 0.0022\nEpoch 266/420\n11/11 [==============================] - 0s 7ms/step - loss: 0.0071 - val_loss: 0.0022\nEpoch 267/420\n11/11 [==============================] - 0s 7ms/step - loss: 0.0097 - val_loss: 0.0022\nEpoch 268/420\n11/11 [==============================] - 0s 7ms/step - loss: 0.0070 - val_loss: 0.0022\nEpoch 269/420\n11/11 [==============================] - 0s 8ms/step - loss: 0.0094 - val_loss: 0.0022\nEpoch 270/420\n11/11 [==============================] - 0s 8ms/step - loss: 0.0058 - val_loss: 0.0022\nEpoch 271/420\n11/11 [==============================] - 0s 8ms/step - loss: 0.0077 - val_loss: 0.0023\nEpoch 272/420\n11/11 [==============================] - 0s 8ms/step - loss: 0.0063 - val_loss: 0.0022\nEpoch 273/420\n11/11 [==============================] - 0s 7ms/step - loss: 0.0112 - val_loss: 0.0023\nEpoch 274/420\n11/11 [==============================] - 0s 7ms/step - loss: 0.0055 - val_loss: 0.0023\nEpoch 275/420\n11/11 [==============================] - 0s 7ms/step - loss: 0.0074 - val_loss: 0.0023\nEpoch 276/420\n11/11 [==============================] - 0s 7ms/step - loss: 0.0074 - val_loss: 0.0023\nEpoch 277/420\n11/11 [==============================] - 0s 7ms/step - loss: 0.0081 - val_loss: 0.0022\nEpoch 278/420\n11/11 [==============================] - 0s 6ms/step - loss: 0.0063 - val_loss: 0.0022\nEpoch 279/420\n11/11 [==============================] - 0s 7ms/step - loss: 0.0067 - val_loss: 0.0022\nEpoch 280/420\n11/11 [==============================] - 0s 7ms/step - loss: 0.0118 - val_loss: 0.0022\nEpoch 281/420\n11/11 [==============================] - 0s 6ms/step - loss: 0.0100 - val_loss: 0.0022\nEpoch 282/420\n11/11 [==============================] - 0s 7ms/step - loss: 0.0075 - val_loss: 0.0023\nEpoch 283/420\n11/11 [==============================] - 0s 6ms/step - loss: 0.0057 - val_loss: 0.0022\nEpoch 284/420\n11/11 [==============================] - 0s 7ms/step - loss: 0.0070 - val_loss: 0.0023\nEpoch 285/420\n11/11 [==============================] - 0s 7ms/step - loss: 0.0077 - val_loss: 0.0023\nEpoch 286/420\n11/11 [==============================] - 0s 7ms/step - loss: 0.0056 - val_loss: 0.0023\nEpoch 287/420\n11/11 [==============================] - 0s 7ms/step - loss: 0.0069 - val_loss: 0.0022\nEpoch 288/420\n11/11 [==============================] - 0s 7ms/step - loss: 0.0055 - val_loss: 0.0021\nEpoch 289/420\n11/11 [==============================] - 0s 7ms/step - loss: 0.0077 - val_loss: 0.0021\nEpoch 290/420\n11/11 [==============================] - 0s 7ms/step - loss: 0.0076 - val_loss: 0.0021\nEpoch 291/420\n11/11 [==============================] - 0s 7ms/step - loss: 0.0072 - val_loss: 0.0021\nEpoch 292/420\n11/11 [==============================] - 0s 7ms/step - loss: 0.0084 - val_loss: 0.0021\nEpoch 293/420\n11/11 [==============================] - 0s 6ms/step - loss: 0.0064 - val_loss: 0.0022\nEpoch 294/420\n11/11 [==============================] - 0s 7ms/step - loss: 0.0091 - val_loss: 0.0022\nEpoch 295/420\n11/11 [==============================] - 0s 7ms/step - loss: 0.0059 - val_loss: 0.0022\nEpoch 296/420\n11/11 [==============================] - 0s 7ms/step - loss: 0.0074 - val_loss: 0.0022\nEpoch 297/420\n11/11 [==============================] - 0s 7ms/step - loss: 0.0063 - val_loss: 0.0021\nEpoch 298/420\n11/11 [==============================] - 0s 7ms/step - loss: 0.0060 - val_loss: 0.0021\nEpoch 299/420\n11/11 [==============================] - 0s 7ms/step - loss: 0.0054 - val_loss: 0.0021\nEpoch 300/420\n11/11 [==============================] - 0s 7ms/step - loss: 0.0082 - val_loss: 0.0021\nEpoch 301/420\n11/11 [==============================] - 0s 7ms/step - loss: 0.0083 - val_loss: 0.0021\nEpoch 302/420\n11/11 [==============================] - 0s 7ms/step - loss: 0.0058 - val_loss: 0.0021\nEpoch 303/420\n11/11 [==============================] - 0s 7ms/step - loss: 0.0084 - val_loss: 0.0021\nEpoch 304/420\n11/11 [==============================] - 0s 7ms/step - loss: 0.0091 - val_loss: 0.0021\nEpoch 305/420\n11/11 [==============================] - 0s 7ms/step - loss: 0.0066 - val_loss: 0.0021\nEpoch 306/420\n11/11 [==============================] - 0s 7ms/step - loss: 0.0104 - val_loss: 0.0021\nEpoch 307/420\n11/11 [==============================] - 0s 7ms/step - loss: 0.0077 - val_loss: 0.0021\nEpoch 308/420\n11/11 [==============================] - 0s 7ms/step - loss: 0.0079 - val_loss: 0.0021\nEpoch 309/420\n11/11 [==============================] - 0s 6ms/step - loss: 0.0072 - val_loss: 0.0021\nEpoch 310/420\n11/11 [==============================] - 0s 6ms/step - loss: 0.0066 - val_loss: 0.0022\nEpoch 311/420\n11/11 [==============================] - 0s 7ms/step - loss: 0.0086 - val_loss: 0.0022\nEpoch 312/420\n11/11 [==============================] - 0s 7ms/step - loss: 0.0090 - val_loss: 0.0022\nEpoch 313/420\n11/11 [==============================] - 0s 7ms/step - loss: 0.0072 - val_loss: 0.0022\nEpoch 314/420\n11/11 [==============================] - 0s 6ms/step - loss: 0.0062 - val_loss: 0.0022\nEpoch 315/420\n11/11 [==============================] - 0s 6ms/step - loss: 0.0083 - val_loss: 0.0022\nEpoch 316/420\n11/11 [==============================] - 0s 7ms/step - loss: 0.0063 - val_loss: 0.0022\nEpoch 317/420\n11/11 [==============================] - 0s 7ms/step - loss: 0.0078 - val_loss: 0.0021\nEpoch 318/420\n11/11 [==============================] - 0s 7ms/step - loss: 0.0063 - val_loss: 0.0021\nEpoch 319/420\n11/11 [==============================] - 0s 7ms/step - loss: 0.0065 - val_loss: 0.0021\nEpoch 320/420\n11/11 [==============================] - 0s 7ms/step - loss: 0.0069 - val_loss: 0.0022\nEpoch 321/420\n11/11 [==============================] - 0s 6ms/step - loss: 0.0094 - val_loss: 0.0022\nEpoch 322/420\n11/11 [==============================] - 0s 6ms/step - loss: 0.0066 - val_loss: 0.0022\nEpoch 323/420\n11/11 [==============================] - 0s 7ms/step - loss: 0.0088 - val_loss: 0.0021\nEpoch 324/420\n11/11 [==============================] - 0s 7ms/step - loss: 0.0075 - val_loss: 0.0021\nEpoch 325/420\n11/11 [==============================] - 0s 7ms/step - loss: 0.0091 - val_loss: 0.0022\nEpoch 326/420\n11/11 [==============================] - 0s 6ms/step - loss: 0.0077 - val_loss: 0.0023\nEpoch 327/420\n11/11 [==============================] - 0s 7ms/step - loss: 0.0048 - val_loss: 0.0023\nEpoch 328/420\n11/11 [==============================] - 0s 6ms/step - loss: 0.0072 - val_loss: 0.0023\nEpoch 329/420\n11/11 [==============================] - 0s 7ms/step - loss: 0.0067 - val_loss: 0.0022\nEpoch 330/420\n11/11 [==============================] - 0s 6ms/step - loss: 0.0072 - val_loss: 0.0022\nEpoch 331/420\n11/11 [==============================] - 0s 7ms/step - loss: 0.0083 - val_loss: 0.0021\nEpoch 332/420\n11/11 [==============================] - 0s 6ms/step - loss: 0.0069 - val_loss: 0.0021\nEpoch 333/420\n11/11 [==============================] - 0s 6ms/step - loss: 0.0067 - val_loss: 0.0021\nEpoch 334/420\n11/11 [==============================] - 0s 6ms/step - loss: 0.0105 - val_loss: 0.0021\nEpoch 335/420\n11/11 [==============================] - 0s 6ms/step - loss: 0.0073 - val_loss: 0.0021\nEpoch 336/420\n11/11 [==============================] - 0s 7ms/step - loss: 0.0091 - val_loss: 0.0022\nEpoch 337/420\n11/11 [==============================] - 0s 6ms/step - loss: 0.0063 - val_loss: 0.0022\nEpoch 338/420\n11/11 [==============================] - 0s 7ms/step - loss: 0.0058 - val_loss: 0.0021\nEpoch 339/420\n11/11 [==============================] - 0s 7ms/step - loss: 0.0069 - val_loss: 0.0022\nEpoch 340/420\n11/11 [==============================] - 0s 6ms/step - loss: 0.0075 - val_loss: 0.0023\nEpoch 341/420\n11/11 [==============================] - 0s 6ms/step - loss: 0.0090 - val_loss: 0.0022\nEpoch 342/420\n11/11 [==============================] - 0s 7ms/step - loss: 0.0094 - val_loss: 0.0022\nEpoch 343/420\n11/11 [==============================] - 0s 7ms/step - loss: 0.0069 - val_loss: 0.0022\nEpoch 344/420\n11/11 [==============================] - 0s 7ms/step - loss: 0.0104 - val_loss: 0.0022\nEpoch 345/420\n11/11 [==============================] - 0s 6ms/step - loss: 0.0084 - val_loss: 0.0022\nEpoch 346/420\n11/11 [==============================] - 0s 6ms/step - loss: 0.0047 - val_loss: 0.0022\nEpoch 347/420\n11/11 [==============================] - 0s 6ms/step - loss: 0.0066 - val_loss: 0.0022\nEpoch 348/420\n11/11 [==============================] - 0s 6ms/step - loss: 0.0060 - val_loss: 0.0022\nEpoch 349/420\n11/11 [==============================] - 0s 6ms/step - loss: 0.0064 - val_loss: 0.0021\nEpoch 350/420\n11/11 [==============================] - 0s 6ms/step - loss: 0.0071 - val_loss: 0.0021\nEpoch 351/420\n11/11 [==============================] - 0s 7ms/step - loss: 0.0080 - val_loss: 0.0022\nEpoch 352/420\n11/11 [==============================] - 0s 7ms/step - loss: 0.0073 - val_loss: 0.0021\nEpoch 353/420\n11/11 [==============================] - 0s 7ms/step - loss: 0.0067 - val_loss: 0.0021\nEpoch 354/420\n11/11 [==============================] - 0s 7ms/step - loss: 0.0077 - val_loss: 0.0021\nEpoch 355/420\n11/11 [==============================] - 0s 7ms/step - loss: 0.0054 - val_loss: 0.0021\nEpoch 356/420\n11/11 [==============================] - 0s 6ms/step - loss: 0.0073 - val_loss: 0.0021\nEpoch 357/420\n11/11 [==============================] - 0s 7ms/step - loss: 0.0068 - val_loss: 0.0021\nEpoch 358/420\n11/11 [==============================] - 0s 6ms/step - loss: 0.0057 - val_loss: 0.0021\nEpoch 359/420\n11/11 [==============================] - 0s 7ms/step - loss: 0.0070 - val_loss: 0.0020\nEpoch 360/420\n11/11 [==============================] - 0s 7ms/step - loss: 0.0070 - val_loss: 0.0021\nEpoch 361/420\n11/11 [==============================] - 0s 6ms/step - loss: 0.0093 - val_loss: 0.0021\nEpoch 362/420\n11/11 [==============================] - 0s 6ms/step - loss: 0.0076 - val_loss: 0.0021\nEpoch 363/420\n11/11 [==============================] - 0s 6ms/step - loss: 0.0065 - val_loss: 0.0021\nEpoch 364/420\n11/11 [==============================] - 0s 6ms/step - loss: 0.0090 - val_loss: 0.0021\nEpoch 365/420\n11/11 [==============================] - 0s 6ms/step - loss: 0.0074 - val_loss: 0.0021\nEpoch 366/420\n11/11 [==============================] - 0s 6ms/step - loss: 0.0053 - val_loss: 0.0021\nEpoch 367/420\n11/11 [==============================] - 0s 7ms/step - loss: 0.0047 - val_loss: 0.0020\nEpoch 368/420\n11/11 [==============================] - 0s 6ms/step - loss: 0.0091 - val_loss: 0.0020\nEpoch 369/420\n11/11 [==============================] - 0s 6ms/step - loss: 0.0072 - val_loss: 0.0020\nEpoch 370/420\n11/11 [==============================] - 0s 6ms/step - loss: 0.0084 - val_loss: 0.0020\nEpoch 371/420\n11/11 [==============================] - 0s 6ms/step - loss: 0.0071 - val_loss: 0.0020\nEpoch 372/420\n11/11 [==============================] - 0s 6ms/step - loss: 0.0078 - val_loss: 0.0020\nEpoch 373/420\n11/11 [==============================] - 0s 6ms/step - loss: 0.0059 - val_loss: 0.0021\nEpoch 374/420\n11/11 [==============================] - 0s 6ms/step - loss: 0.0081 - val_loss: 0.0022\nEpoch 375/420\n11/11 [==============================] - 0s 7ms/step - loss: 0.0062 - val_loss: 0.0021\nEpoch 376/420\n11/11 [==============================] - 0s 6ms/step - loss: 0.0081 - val_loss: 0.0021\nEpoch 377/420\n11/11 [==============================] - 0s 8ms/step - loss: 0.0057 - val_loss: 0.0021\nEpoch 378/420\n11/11 [==============================] - 0s 8ms/step - loss: 0.0077 - val_loss: 0.0020\nEpoch 379/420\n11/11 [==============================] - 0s 6ms/step - loss: 0.0063 - val_loss: 0.0020\nEpoch 380/420\n11/11 [==============================] - 0s 6ms/step - loss: 0.0078 - val_loss: 0.0020\nEpoch 381/420\n11/11 [==============================] - 0s 6ms/step - loss: 0.0075 - val_loss: 0.0020\nEpoch 382/420\n11/11 [==============================] - 0s 6ms/step - loss: 0.0066 - val_loss: 0.0020\nEpoch 383/420\n11/11 [==============================] - 0s 7ms/step - loss: 0.0071 - val_loss: 0.0020\nEpoch 384/420\n11/11 [==============================] - 0s 7ms/step - loss: 0.0078 - val_loss: 0.0020\nEpoch 385/420\n11/11 [==============================] - 0s 6ms/step - loss: 0.0100 - val_loss: 0.0020\nEpoch 386/420\n11/11 [==============================] - 0s 6ms/step - loss: 0.0056 - val_loss: 0.0021\nEpoch 387/420\n11/11 [==============================] - 0s 7ms/step - loss: 0.0070 - val_loss: 0.0021\nEpoch 388/420\n11/11 [==============================] - 0s 6ms/step - loss: 0.0035 - val_loss: 0.0020\nEpoch 389/420\n11/11 [==============================] - 0s 6ms/step - loss: 0.0095 - val_loss: 0.0021\nEpoch 390/420\n11/11 [==============================] - 0s 6ms/step - loss: 0.0054 - val_loss: 0.0020\nEpoch 391/420\n11/11 [==============================] - 0s 6ms/step - loss: 0.0099 - val_loss: 0.0020\nEpoch 392/420\n11/11 [==============================] - 0s 6ms/step - loss: 0.0059 - val_loss: 0.0020\nEpoch 393/420\n11/11 [==============================] - 0s 7ms/step - loss: 0.0085 - val_loss: 0.0020\nEpoch 394/420\n11/11 [==============================] - 0s 7ms/step - loss: 0.0077 - val_loss: 0.0020\nEpoch 395/420\n11/11 [==============================] - 0s 7ms/step - loss: 0.0079 - val_loss: 0.0020\nEpoch 396/420\n11/11 [==============================] - 0s 6ms/step - loss: 0.0090 - val_loss: 0.0021\nEpoch 397/420\n11/11 [==============================] - 0s 7ms/step - loss: 0.0067 - val_loss: 0.0021\nEpoch 398/420\n11/11 [==============================] - 0s 6ms/step - loss: 0.0061 - val_loss: 0.0021\nEpoch 399/420\n11/11 [==============================] - 0s 7ms/step - loss: 0.0060 - val_loss: 0.0021\nEpoch 400/420\n11/11 [==============================] - 0s 7ms/step - loss: 0.0080 - val_loss: 0.0022\nEpoch 401/420\n11/11 [==============================] - 0s 7ms/step - loss: 0.0074 - val_loss: 0.0022\nEpoch 402/420\n11/11 [==============================] - 0s 6ms/step - loss: 0.0068 - val_loss: 0.0021\nEpoch 403/420\n11/11 [==============================] - 0s 6ms/step - loss: 0.0084 - val_loss: 0.0021\nEpoch 404/420\n11/11 [==============================] - 0s 6ms/step - loss: 0.0086 - val_loss: 0.0021\nEpoch 405/420\n11/11 [==============================] - 0s 6ms/step - loss: 0.0063 - val_loss: 0.0021\nEpoch 406/420\n11/11 [==============================] - 0s 7ms/step - loss: 0.0065 - val_loss: 0.0021\nEpoch 407/420\n11/11 [==============================] - 0s 7ms/step - loss: 0.0072 - val_loss: 0.0021\nEpoch 408/420\n11/11 [==============================] - 0s 6ms/step - loss: 0.0070 - val_loss: 0.0021\nEpoch 409/420\n11/11 [==============================] - 0s 7ms/step - loss: 0.0035 - val_loss: 0.0021\nEpoch 410/420\n11/11 [==============================] - 0s 7ms/step - loss: 0.0061 - val_loss: 0.0022\nEpoch 411/420\n11/11 [==============================] - 0s 7ms/step - loss: 0.0057 - val_loss: 0.0020\nEpoch 412/420\n11/11 [==============================] - 0s 6ms/step - loss: 0.0074 - val_loss: 0.0020\nEpoch 413/420\n11/11 [==============================] - 0s 7ms/step - loss: 0.0055 - val_loss: 0.0020\nEpoch 414/420\n11/11 [==============================] - 0s 7ms/step - loss: 0.0089 - val_loss: 0.0020\nEpoch 415/420\n11/11 [==============================] - 0s 7ms/step - loss: 0.0068 - val_loss: 0.0020\nEpoch 416/420\n11/11 [==============================] - 0s 6ms/step - loss: 0.0091 - val_loss: 0.0020\nEpoch 417/420\n11/11 [==============================] - 0s 6ms/step - loss: 0.0072 - val_loss: 0.0020\nEpoch 418/420\n11/11 [==============================] - 0s 6ms/step - loss: 0.0060 - val_loss: 0.0020\nEpoch 419/420\n11/11 [==============================] - 0s 6ms/step - loss: 0.0116 - val_loss: 0.0020\nEpoch 420/420\n11/11 [==============================] - 0s 6ms/step - loss: 0.0054 - val_loss: 0.0020\nSaved model to disk\nLoaded model from disk\n",
          "output_type": "stream"
        }
      ]
    },
    {
      "cell_type": "markdown",
      "source": [
        "Let's plot the dynamic of loss and val loss like in the previous case.\n"
      ],
      "metadata": {
        "id": "c57sZj-3jomA"
      }
    },
    {
      "cell_type": "code",
      "source": [
        "plt.figure()\n",
        "plt.plot(history['loss'], label='train')\n",
        "plt.plot(history['val_loss'], label='test')\n",
        "plt.ylabel('loss')\n",
        "plt.xlabel('epoch')\n",
        "\n",
        "plt.legend()\n",
        "plt.show()"
      ],
      "metadata": {
        "id": "xtYXH_J9jomB",
        "execution": {
          "iopub.status.busy": "2024-09-05T02:01:12.037717Z",
          "iopub.execute_input": "2024-09-05T02:01:12.037993Z",
          "iopub.status.idle": "2024-09-05T02:01:12.228805Z",
          "shell.execute_reply.started": "2024-09-05T02:01:12.037958Z",
          "shell.execute_reply": "2024-09-05T02:01:12.227784Z"
        },
        "trusted": true,
        "outputId": "3afc1867-409c-4866-f68c-8ea8baefdaee"
      },
      "execution_count": null,
      "outputs": [
        {
          "output_type": "display_data",
          "data": {
            "text/plain": "<Figure size 432x288 with 1 Axes>",
            "image/png": "[encoded data removed]"
          },
          "metadata": {
            "needs_background": "light"
          }
        }
      ]
    },
    {
      "cell_type": "markdown",
      "source": [
        "Let's calculate our forecast.\n"
      ],
      "metadata": {
        "id": "DMLKo9WvjomC"
      }
    },
    {
      "cell_type": "code",
      "source": [
        "res_tr_LSTM = model.predict(train_x_LSTM)\n",
        "res_ts_LSTM = model.predict(test_x_LSTM)\n",
        "res_train_LSTM=scaler_y.inverse_transform(res_tr_LSTM).flatten()\n",
        "res_test_LSTM=scaler_y.inverse_transform(res_ts_LSTM).flatten()"
      ],
      "metadata": {
        "id": "8_MeiODNjomD",
        "execution": {
          "iopub.status.busy": "2024-09-05T02:01:12.230519Z",
          "iopub.execute_input": "2024-09-05T02:01:12.230914Z",
          "iopub.status.idle": "2024-09-05T02:01:12.821304Z",
          "shell.execute_reply.started": "2024-09-05T02:01:12.230819Z",
          "shell.execute_reply": "2024-09-05T02:01:12.820146Z"
        },
        "trusted": true
      },
      "execution_count": null,
      "outputs": []
    },
    {
      "cell_type": "markdown",
      "source": [
        "And accuracy:\n"
      ],
      "metadata": {
        "id": "-IFuYbGajomE"
      }
    },
    {
      "cell_type": "code",
      "source": [
        "print(\"Correlation train\", np.corrcoef(res_train, res_train_LSTM)[0,1])\n",
        "print(\"Correlation train\", np.corrcoef(res_test, res_test_LSTM)[0,1])\n",
        "print('Mean Absolute Error:', metrics.mean_absolute_error(y_test, res_test_LSTM))\n",
        "print('Mean Squared Error:', metrics.mean_squared_error(y_test, res_test_LSTM))\n",
        "print('Root Mean Squared Error:', np.sqrt(metrics.mean_squared_error(y_test, res_test_LSTM)))"
      ],
      "metadata": {
        "id": "D4XZ8Jj4jomE",
        "execution": {
          "iopub.status.busy": "2024-09-05T02:01:12.823702Z",
          "iopub.execute_input": "2024-09-05T02:01:12.824054Z",
          "iopub.status.idle": "2024-09-05T02:01:12.839366Z",
          "shell.execute_reply.started": "2024-09-05T02:01:12.824008Z",
          "shell.execute_reply": "2024-09-05T02:01:12.838209Z"
        },
        "trusted": true,
        "outputId": "4c7f8825-fe62-4598-962c-31f394d33b7c"
      },
      "execution_count": null,
      "outputs": [
        {
          "name": "stdout",
          "text": "Correlation train 0.9920365806968812\nCorrelation train 0.9774559323204978\nMean Absolute Error: 47525.913711245834\nMean Squared Error: 6646426021.346161\nRoot Mean Squared Error: 81525.61573730162\n",
          "output_type": "stream"
        }
      ]
    },
    {
      "cell_type": "markdown",
      "source": [
        "As you can see, the forecast results of the test data set are much better than ones of the previous models. Let's visualize these 3 results:\n"
      ],
      "metadata": {
        "id": "qb_yfGj7jomF"
      }
    },
    {
      "cell_type": "code",
      "source": [
        "res_pred_test_ln = pd.Series(y_pred_test_ln, name = 'Predicted test Linear Model')\n",
        "res_pred_test_ANN = pd.Series(res_test_ANN, name = 'Predicted test ANN')\n",
        "res_pred_test_LSTM = pd.Series(res_test_LSTM, name = 'Predicted test LSTM')\n",
        "\n",
        "df_2 = pd.DataFrame({'Actual test': res_test, 'Linear Model': res_pred_test_ln, 'ANN Model': res_pred_test_ANN,  'LSTM Model': res_pred_test_LSTM,})\n",
        "df_2.index = dataset.index[len(dataset)-len(res_test):]\n",
        "df_2.plot()\n",
        "df_2 = pd.DataFrame({'Actual test': res_test, 'Linear Model': res_pred_test_ln,})\n",
        "df_2.index = dataset.index[len(dataset)-len(res_test):]\n",
        "df_2.plot()\n",
        "df_2 = pd.DataFrame({'Actual test': res_test, 'LSTM Model': res_pred_test_LSTM,})\n",
        "df_2.index = dataset.index[len(dataset)-len(res_test):]\n",
        "df_2.plot()\n",
        "df_2 = pd.DataFrame({'Actual test': res_test,'ANN Model': res_pred_test_ANN,})\n",
        "df_2.index = dataset.index[len(dataset)-len(res_test):]\n",
        "df_2.plot()\n",
        "plt.show()"
      ],
      "metadata": {
        "id": "n_Th26YijomG",
        "execution": {
          "iopub.status.busy": "2024-09-05T02:01:12.84075Z",
          "iopub.execute_input": "2024-09-05T02:01:12.84103Z",
          "iopub.status.idle": "2024-09-05T02:01:14.50849Z",
          "shell.execute_reply.started": "2024-09-05T02:01:12.840996Z",
          "shell.execute_reply": "2024-09-05T02:01:14.507472Z"
        },
        "trusted": true,
        "outputId": "417262c0-9efc-477e-f138-2b50c19eb49c"
      },
      "execution_count": null,
      "outputs": [
        {
          "output_type": "display_data",
          "data": {
            "text/plain": "<Figure size 432x288 with 1 Axes>",
            "image/png": "[encoded data removed]"
          },
          "metadata": {
            "needs_background": "light"
          }
        },
        {
          "output_type": "display_data",
          "data": {
            "text/plain": "<Figure size 432x288 with 1 Axes>",
            "image/png": "[encoded data removed]"
          },
          "metadata": {
            "needs_background": "light"
          }
        },
        {
          "output_type": "display_data",
          "data": {
            "text/plain": "<Figure size 432x288 with 1 Axes>",
            "image/png": "[encoded data removed]"
          },
          "metadata": {
            "needs_background": "light"
          }
        },
        {
          "output_type": "display_data",
          "data": {
            "text/plain": "<Figure size 432x288 with 1 Axes>",
            "image/png": "[encoded data removed]"
          },
          "metadata": {
            "needs_background": "light"
          }
        }
      ]
    },
    {
      "cell_type": "markdown",
      "source": [
        "As you can see, an LSTM model makes a perfect forecast. A Linear Regression is the fastest forecasting model.\n"
      ],
      "metadata": {
        "id": "64RewTXJjomG"
      }
    }
  ]
}